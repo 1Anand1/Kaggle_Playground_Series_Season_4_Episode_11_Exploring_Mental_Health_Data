{
 "cells": [
  {
   "cell_type": "code",
   "execution_count": 1,
   "metadata": {},
   "outputs": [],
   "source": [
    "# Ignoring the warnings\n",
    "import warnings\n",
    "warnings.filterwarnings('ignore')\n",
    "\n",
    "# Imorting required libraries\n",
    "import pandas as pd\n",
    "import numpy as np\n",
    "import seaborn as sns\n",
    "import matplotlib.pyplot as plt\n",
    "import re\n",
    "\n",
    "# Importing require AI/ML Libraries\n",
    "from sklearn.model_selection import train_test_split\n",
    "from sklearn.ensemble import AdaBoostClassifier,GradientBoostingClassifier\n",
    "from sklearn.linear_model import LogisticRegression\n",
    "from xgboost import XGBClassifier as xgb\n",
    "from catboost import CatBoostClassifier\n",
    "from sklearn.preprocessing import StandardScaler,MinMaxScaler"
   ]
  },
  {
   "cell_type": "code",
   "execution_count": 2,
   "metadata": {},
   "outputs": [],
   "source": [
    "# Location of the datasets\n",
    "train_data=r'C:\\Users\\DELL\\train_depression.csv'\n",
    "test_data=r'C:\\Users\\DELL\\test_depression.csv'"
   ]
  },
  {
   "cell_type": "code",
   "execution_count": 3,
   "metadata": {},
   "outputs": [],
   "source": [
    "# Locading the datasets in memory\n",
    "df_train=pd.read_csv(train_data)"
   ]
  },
  {
   "cell_type": "markdown",
   "metadata": {},
   "source": [
    "### Missing Value Imputation"
   ]
  },
  {
   "cell_type": "code",
   "execution_count": 4,
   "metadata": {},
   "outputs": [
    {
     "data": {
      "text/plain": [
       "id                                        0.000000\n",
       "Name                                      0.000000\n",
       "Gender                                    0.000000\n",
       "Age                                       0.000000\n",
       "City                                      0.000000\n",
       "Working Professional or Student           0.000000\n",
       "Profession                               26.034115\n",
       "Academic Pressure                        80.172708\n",
       "Work Pressure                            19.842217\n",
       "CGPA                                     80.171997\n",
       "Study Satisfaction                       80.172708\n",
       "Job Satisfaction                         19.836532\n",
       "Sleep Duration                            0.000000\n",
       "Dietary Habits                            0.002843\n",
       "Degree                                    0.001421\n",
       "Have you ever had suicidal thoughts ?     0.000000\n",
       "Work/Study Hours                          0.000000\n",
       "Financial Stress                          0.002843\n",
       "Family History of Mental Illness          0.000000\n",
       "Depression                                0.000000\n",
       "dtype: float64"
      ]
     },
     "execution_count": 4,
     "metadata": {},
     "output_type": "execute_result"
    }
   ],
   "source": [
    "# Checking the % of null entries\n",
    "df_train.isnull().sum()/len(df_train)*100"
   ]
  },
  {
   "cell_type": "code",
   "execution_count": 5,
   "metadata": {},
   "outputs": [
    {
     "data": {
      "text/plain": [
       "id                                         int64\n",
       "Name                                      object\n",
       "Gender                                    object\n",
       "Age                                      float64\n",
       "City                                      object\n",
       "Working Professional or Student           object\n",
       "Profession                                object\n",
       "Academic Pressure                        float64\n",
       "Work Pressure                            float64\n",
       "CGPA                                     float64\n",
       "Study Satisfaction                       float64\n",
       "Job Satisfaction                         float64\n",
       "Sleep Duration                            object\n",
       "Dietary Habits                            object\n",
       "Degree                                    object\n",
       "Have you ever had suicidal thoughts ?     object\n",
       "Work/Study Hours                         float64\n",
       "Financial Stress                         float64\n",
       "Family History of Mental Illness          object\n",
       "Depression                                 int64\n",
       "dtype: object"
      ]
     },
     "execution_count": 5,
     "metadata": {},
     "output_type": "execute_result"
    }
   ],
   "source": [
    "# It is observed that certain columns have very low missing value count like Financial Stress , Degree & Dietary Habits\n",
    "# So here the missing value imputation can be done by using straight forward methods like mean , median or mode \n",
    "# For that it is necessary to find out their data types\n",
    "df_train.dtypes"
   ]
  },
  {
   "cell_type": "code",
   "execution_count": 6,
   "metadata": {},
   "outputs": [
    {
     "data": {
      "text/plain": [
       "array([ 2.,  3.,  1.,  4.,  5., nan])"
      ]
     },
     "execution_count": 6,
     "metadata": {},
     "output_type": "execute_result"
    }
   ],
   "source": [
    "# Checking the Financial stress parameter --> It is clear that this column needs to be treated as a categorical variable\n",
    "df_train['Financial Stress'].unique()"
   ]
  },
  {
   "cell_type": "code",
   "execution_count": 7,
   "metadata": {},
   "outputs": [],
   "source": [
    "# Changing the data type of the Financial Stress to object\n",
    "df_train['Financial Stress']=df_train['Financial Stress'].astype(object)"
   ]
  },
  {
   "cell_type": "code",
   "execution_count": 8,
   "metadata": {},
   "outputs": [],
   "source": [
    "# Extracting the columns which have null values along with their data type\n",
    "null_value_cols=[(col,round(100*null_values/len(df_train),2),df_train[col].dtype)\n",
    "                 for col,null_values in df_train.isnull().sum().items() if null_values>0]"
   ]
  },
  {
   "cell_type": "code",
   "execution_count": 9,
   "metadata": {},
   "outputs": [
    {
     "data": {
      "text/plain": [
       "[('Profession', 26.03, dtype('O')),\n",
       " ('Academic Pressure', 80.17, dtype('float64')),\n",
       " ('Work Pressure', 19.84, dtype('float64')),\n",
       " ('CGPA', 80.17, dtype('float64')),\n",
       " ('Study Satisfaction', 80.17, dtype('float64')),\n",
       " ('Job Satisfaction', 19.84, dtype('float64')),\n",
       " ('Dietary Habits', 0.0, dtype('O')),\n",
       " ('Degree', 0.0, dtype('O')),\n",
       " ('Financial Stress', 0.0, dtype('O'))]"
      ]
     },
     "execution_count": 9,
     "metadata": {},
     "output_type": "execute_result"
    }
   ],
   "source": [
    "# Checking the null values along with their data types\n",
    "null_value_cols"
   ]
  },
  {
   "cell_type": "code",
   "execution_count": 10,
   "metadata": {},
   "outputs": [],
   "source": [
    "# I will extract the columns which have very low missing values\n",
    "low_missing_values=[(col,dt) for col,missing_pct,dt in null_value_cols if missing_pct<1]"
   ]
  },
  {
   "cell_type": "code",
   "execution_count": 11,
   "metadata": {},
   "outputs": [
    {
     "data": {
      "text/plain": [
       "[('Dietary Habits', dtype('O')),\n",
       " ('Degree', dtype('O')),\n",
       " ('Financial Stress', dtype('O'))]"
      ]
     },
     "execution_count": 11,
     "metadata": {},
     "output_type": "execute_result"
    }
   ],
   "source": [
    "# Checking columns which have low missing value count and their dtypes\n",
    "low_missing_values"
   ]
  },
  {
   "cell_type": "code",
   "execution_count": 12,
   "metadata": {},
   "outputs": [],
   "source": [
    "# Imputing the missing values in the columns (with low missing values) and which are categorical in nature by using mode\n",
    "for each_col,data_type in low_missing_values:\n",
    "  df_train[each_col]=df_train[each_col].fillna(df_train[each_col].mode()[0])\n",
    "  df_train[each_col]=df_train[each_col].astype(object)"
   ]
  },
  {
   "cell_type": "code",
   "execution_count": 13,
   "metadata": {},
   "outputs": [
    {
     "data": {
      "text/plain": [
       "id                                        0.000000\n",
       "Name                                      0.000000\n",
       "Gender                                    0.000000\n",
       "Age                                       0.000000\n",
       "City                                      0.000000\n",
       "Working Professional or Student           0.000000\n",
       "Profession                               26.034115\n",
       "Academic Pressure                        80.172708\n",
       "Work Pressure                            19.842217\n",
       "CGPA                                     80.171997\n",
       "Study Satisfaction                       80.172708\n",
       "Job Satisfaction                         19.836532\n",
       "Sleep Duration                            0.000000\n",
       "Dietary Habits                            0.000000\n",
       "Degree                                    0.000000\n",
       "Have you ever had suicidal thoughts ?     0.000000\n",
       "Work/Study Hours                          0.000000\n",
       "Financial Stress                          0.000000\n",
       "Family History of Mental Illness          0.000000\n",
       "Depression                                0.000000\n",
       "dtype: float64"
      ]
     },
     "execution_count": 13,
     "metadata": {},
     "output_type": "execute_result"
    }
   ],
   "source": [
    "# Checking the % of null entries\n",
    "df_train.isnull().sum()/len(df_train)*100"
   ]
  },
  {
   "cell_type": "code",
   "execution_count": 14,
   "metadata": {},
   "outputs": [
    {
     "data": {
      "text/plain": [
       "[('Academic Pressure', dtype('float64')),\n",
       " ('CGPA', dtype('float64')),\n",
       " ('Study Satisfaction', dtype('float64'))]"
      ]
     },
     "execution_count": 14,
     "metadata": {},
     "output_type": "execute_result"
    }
   ],
   "source": [
    "# I decided to write a function to identify the columns which very high percentage of missing values and then just imputing missing values by a place holder \n",
    "# But before going ahead I decided to check the nature of the columns with these high missing values\n",
    "high_missing_values=[(col,dt) for col,missing_pct,dt in null_value_cols if missing_pct>50]\n",
    "high_missing_values"
   ]
  },
  {
   "cell_type": "code",
   "execution_count": 15,
   "metadata": {},
   "outputs": [],
   "source": [
    "#Just extracting the column names of the columns with high missing values\n",
    "col_names_high_missing_value=[each_col for each_col,data_type in high_missing_values]\n",
    "\n",
    "# Doing a quick analysis of the columns with high missing values \n",
    "def analyze_high_missing_value_columns(dataframe,high_missing_value_col):\n",
    "\n",
    "  \"\"\"\n",
    "  This function will take data frame & the columns with high missing values.\n",
    "    Then it will show the number of unique values in column with some statistical information of the selected column\n",
    "    \n",
    "    Args: Dataframe & columns with high missing values\n",
    "    \n",
    "    Returns : Unique values in the columns and statistics for the column\n",
    "  \"\"\"\n",
    "\n",
    "  for each_col in high_missing_value_col:\n",
    "    print(f'For {each_col}')\n",
    "    print(f'The number of unique values are {dataframe[each_col].nunique()}' )\n",
    "    print(f'The statistics are {dataframe[each_col].describe()}' )\n",
    "    if dataframe[each_col].nunique()<=10:\n",
    "      print(f'The unique values are {dataframe[each_col].unique()} \\n')\n",
    "    else:\n",
    "      print('\\n')\n",
    "    \n"
   ]
  },
  {
   "cell_type": "code",
   "execution_count": 16,
   "metadata": {},
   "outputs": [
    {
     "name": "stdout",
     "output_type": "stream",
     "text": [
      "For Academic Pressure\n",
      "The number of unique values are 5\n",
      "The statistics are count    27897.000000\n",
      "mean         3.142273\n",
      "std          1.380457\n",
      "min          1.000000\n",
      "25%          2.000000\n",
      "50%          3.000000\n",
      "75%          4.000000\n",
      "max          5.000000\n",
      "Name: Academic Pressure, dtype: float64\n",
      "The unique values are [nan  5.  2.  3.  4.  1.] \n",
      "\n",
      "For CGPA\n",
      "The number of unique values are 331\n",
      "The statistics are count    27898.000000\n",
      "mean         7.658636\n",
      "std          1.464466\n",
      "min          5.030000\n",
      "25%          6.290000\n",
      "50%          7.770000\n",
      "75%          8.920000\n",
      "max         10.000000\n",
      "Name: CGPA, dtype: float64\n",
      "\n",
      "\n",
      "For Study Satisfaction\n",
      "The number of unique values are 5\n",
      "The statistics are count    27897.000000\n",
      "mean         2.944940\n",
      "std          1.360197\n",
      "min          1.000000\n",
      "25%          2.000000\n",
      "50%          3.000000\n",
      "75%          4.000000\n",
      "max          5.000000\n",
      "Name: Study Satisfaction, dtype: float64\n",
      "The unique values are [nan  2.  5.  3.  4.  1.] \n",
      "\n"
     ]
    }
   ],
   "source": [
    "# Using the modular function to check the details for all columns with high missing values\n",
    "analyze_high_missing_value_columns(df_train,col_names_high_missing_value)"
   ]
  },
  {
   "cell_type": "code",
   "execution_count": 17,
   "metadata": {},
   "outputs": [],
   "source": [
    "# Making small bins of the CGPA \n",
    "def CGPA_BIN(CGPA_VALUE):\n",
    "  if CGPA_VALUE<5:\n",
    "    return \"Less than 5\"\n",
    "  elif CGPA_VALUE>=5 and CGPA_VALUE<=6:\n",
    "    return \"5-6\"\n",
    "  elif CGPA_VALUE>=6 and CGPA_VALUE<=7:\n",
    "    return \"6-7\"\n",
    "  elif CGPA_VALUE>=7 and CGPA_VALUE<=8:\n",
    "    return \"7-8\"\n",
    "  elif CGPA_VALUE>=8 and CGPA_VALUE<=9:\n",
    "    return \"8-9\"\n",
    "  elif CGPA_VALUE>=9 and CGPA_VALUE<=10:\n",
    "    return \"9-10\"  "
   ]
  },
  {
   "cell_type": "code",
   "execution_count": 18,
   "metadata": {},
   "outputs": [],
   "source": [
    "# Replacing the CGPA column\n",
    "df_train.CGPA=df_train.CGPA.apply(lambda x : CGPA_BIN(x))"
   ]
  },
  {
   "cell_type": "code",
   "execution_count": 19,
   "metadata": {},
   "outputs": [],
   "source": [
    "# It is also clear that the Study satisfaction & the academic pressure needs to be treated as a categorical variable\n",
    "df_train['Academic Pressure']=df_train['Academic Pressure'].astype(object)\n",
    "df_train['Study Satisfaction']=df_train['Study Satisfaction'].astype(object)"
   ]
  },
  {
   "cell_type": "code",
   "execution_count": 20,
   "metadata": {},
   "outputs": [],
   "source": [
    "# Now replacing the missing values in Study satisfaction, CGPA & the academic pressure with \"Missing Value\"\n",
    "df_train['Academic Pressure']=df_train['Academic Pressure'].fillna(\"Missing_Value\")\n",
    "df_train['Study Satisfaction']=df_train['Study Satisfaction'].fillna(\"Missing_Value\")\n",
    "df_train['CGPA']=df_train['CGPA'].fillna(\"Missing_Value\")"
   ]
  },
  {
   "cell_type": "code",
   "execution_count": 21,
   "metadata": {},
   "outputs": [],
   "source": [
    "# Here I decided to first preprocess the columns which do not have any missing values &\n",
    "# Then use them to predict the columns which had missing values \n",
    "# Checking the % of null entries\n",
    "col_series=df_train.isnull().sum()/len(df_train)*100\n",
    "col_series=[col for col,missing_value in col_series.items() if missing_value==0 ]\n",
    "\n",
    "# De selecting the columns which will not have much significance\n",
    "col_series=[col for col in col_series if col not in ['Depression','id','Name']]"
   ]
  },
  {
   "cell_type": "code",
   "execution_count": 22,
   "metadata": {},
   "outputs": [],
   "source": [
    "# Making a dataframe for preprocssing\n",
    "df_for_missing_val_imputation=df_train[col_series]"
   ]
  },
  {
   "cell_type": "code",
   "execution_count": 23,
   "metadata": {},
   "outputs": [
    {
     "data": {
      "text/html": [
       "<div>\n",
       "<style scoped>\n",
       "    .dataframe tbody tr th:only-of-type {\n",
       "        vertical-align: middle;\n",
       "    }\n",
       "\n",
       "    .dataframe tbody tr th {\n",
       "        vertical-align: top;\n",
       "    }\n",
       "\n",
       "    .dataframe thead th {\n",
       "        text-align: right;\n",
       "    }\n",
       "</style>\n",
       "<table border=\"1\" class=\"dataframe\">\n",
       "  <thead>\n",
       "    <tr style=\"text-align: right;\">\n",
       "      <th></th>\n",
       "      <th>Gender</th>\n",
       "      <th>Age</th>\n",
       "      <th>City</th>\n",
       "      <th>Working Professional or Student</th>\n",
       "      <th>Academic Pressure</th>\n",
       "      <th>CGPA</th>\n",
       "      <th>Study Satisfaction</th>\n",
       "      <th>Sleep Duration</th>\n",
       "      <th>Dietary Habits</th>\n",
       "      <th>Degree</th>\n",
       "      <th>Have you ever had suicidal thoughts ?</th>\n",
       "      <th>Work/Study Hours</th>\n",
       "      <th>Financial Stress</th>\n",
       "      <th>Family History of Mental Illness</th>\n",
       "    </tr>\n",
       "  </thead>\n",
       "  <tbody>\n",
       "    <tr>\n",
       "      <th>0</th>\n",
       "      <td>Female</td>\n",
       "      <td>49.0</td>\n",
       "      <td>Ludhiana</td>\n",
       "      <td>Working Professional</td>\n",
       "      <td>Missing_Value</td>\n",
       "      <td>Missing_Value</td>\n",
       "      <td>Missing_Value</td>\n",
       "      <td>More than 8 hours</td>\n",
       "      <td>Healthy</td>\n",
       "      <td>BHM</td>\n",
       "      <td>No</td>\n",
       "      <td>1.0</td>\n",
       "      <td>2.0</td>\n",
       "      <td>No</td>\n",
       "    </tr>\n",
       "    <tr>\n",
       "      <th>1</th>\n",
       "      <td>Male</td>\n",
       "      <td>26.0</td>\n",
       "      <td>Varanasi</td>\n",
       "      <td>Working Professional</td>\n",
       "      <td>Missing_Value</td>\n",
       "      <td>Missing_Value</td>\n",
       "      <td>Missing_Value</td>\n",
       "      <td>Less than 5 hours</td>\n",
       "      <td>Unhealthy</td>\n",
       "      <td>LLB</td>\n",
       "      <td>Yes</td>\n",
       "      <td>7.0</td>\n",
       "      <td>3.0</td>\n",
       "      <td>No</td>\n",
       "    </tr>\n",
       "    <tr>\n",
       "      <th>2</th>\n",
       "      <td>Male</td>\n",
       "      <td>33.0</td>\n",
       "      <td>Visakhapatnam</td>\n",
       "      <td>Student</td>\n",
       "      <td>5.0</td>\n",
       "      <td>8-9</td>\n",
       "      <td>2.0</td>\n",
       "      <td>5-6 hours</td>\n",
       "      <td>Healthy</td>\n",
       "      <td>B.Pharm</td>\n",
       "      <td>Yes</td>\n",
       "      <td>3.0</td>\n",
       "      <td>1.0</td>\n",
       "      <td>No</td>\n",
       "    </tr>\n",
       "    <tr>\n",
       "      <th>3</th>\n",
       "      <td>Male</td>\n",
       "      <td>22.0</td>\n",
       "      <td>Mumbai</td>\n",
       "      <td>Working Professional</td>\n",
       "      <td>Missing_Value</td>\n",
       "      <td>Missing_Value</td>\n",
       "      <td>Missing_Value</td>\n",
       "      <td>Less than 5 hours</td>\n",
       "      <td>Moderate</td>\n",
       "      <td>BBA</td>\n",
       "      <td>Yes</td>\n",
       "      <td>10.0</td>\n",
       "      <td>1.0</td>\n",
       "      <td>Yes</td>\n",
       "    </tr>\n",
       "    <tr>\n",
       "      <th>4</th>\n",
       "      <td>Female</td>\n",
       "      <td>30.0</td>\n",
       "      <td>Kanpur</td>\n",
       "      <td>Working Professional</td>\n",
       "      <td>Missing_Value</td>\n",
       "      <td>Missing_Value</td>\n",
       "      <td>Missing_Value</td>\n",
       "      <td>5-6 hours</td>\n",
       "      <td>Unhealthy</td>\n",
       "      <td>BBA</td>\n",
       "      <td>Yes</td>\n",
       "      <td>9.0</td>\n",
       "      <td>4.0</td>\n",
       "      <td>Yes</td>\n",
       "    </tr>\n",
       "  </tbody>\n",
       "</table>\n",
       "</div>"
      ],
      "text/plain": [
       "   Gender   Age           City Working Professional or Student  \\\n",
       "0  Female  49.0       Ludhiana            Working Professional   \n",
       "1    Male  26.0       Varanasi            Working Professional   \n",
       "2    Male  33.0  Visakhapatnam                         Student   \n",
       "3    Male  22.0         Mumbai            Working Professional   \n",
       "4  Female  30.0         Kanpur            Working Professional   \n",
       "\n",
       "  Academic Pressure           CGPA Study Satisfaction     Sleep Duration  \\\n",
       "0     Missing_Value  Missing_Value      Missing_Value  More than 8 hours   \n",
       "1     Missing_Value  Missing_Value      Missing_Value  Less than 5 hours   \n",
       "2               5.0            8-9                2.0          5-6 hours   \n",
       "3     Missing_Value  Missing_Value      Missing_Value  Less than 5 hours   \n",
       "4     Missing_Value  Missing_Value      Missing_Value          5-6 hours   \n",
       "\n",
       "  Dietary Habits   Degree Have you ever had suicidal thoughts ?  \\\n",
       "0        Healthy      BHM                                    No   \n",
       "1      Unhealthy      LLB                                   Yes   \n",
       "2        Healthy  B.Pharm                                   Yes   \n",
       "3       Moderate      BBA                                   Yes   \n",
       "4      Unhealthy      BBA                                   Yes   \n",
       "\n",
       "   Work/Study Hours Financial Stress Family History of Mental Illness  \n",
       "0               1.0              2.0                               No  \n",
       "1               7.0              3.0                               No  \n",
       "2               3.0              1.0                               No  \n",
       "3              10.0              1.0                              Yes  \n",
       "4               9.0              4.0                              Yes  "
      ]
     },
     "execution_count": 23,
     "metadata": {},
     "output_type": "execute_result"
    }
   ],
   "source": [
    "# Chceking the first 5 rows\n",
    "df_for_missing_val_imputation.head()"
   ]
  },
  {
   "cell_type": "code",
   "execution_count": 24,
   "metadata": {},
   "outputs": [
    {
     "data": {
      "text/plain": [
       "Gender                                    object\n",
       "Age                                      float64\n",
       "City                                      object\n",
       "Working Professional or Student           object\n",
       "Academic Pressure                         object\n",
       "CGPA                                      object\n",
       "Study Satisfaction                        object\n",
       "Sleep Duration                            object\n",
       "Dietary Habits                            object\n",
       "Degree                                    object\n",
       "Have you ever had suicidal thoughts ?     object\n",
       "Work/Study Hours                         float64\n",
       "Financial Stress                          object\n",
       "Family History of Mental Illness          object\n",
       "dtype: object"
      ]
     },
     "execution_count": 24,
     "metadata": {},
     "output_type": "execute_result"
    }
   ],
   "source": [
    "# Checking the dtypes again\n",
    "df_for_missing_val_imputation.dtypes"
   ]
  },
  {
   "cell_type": "code",
   "execution_count": 25,
   "metadata": {},
   "outputs": [
    {
     "data": {
      "text/plain": [
       "Gender                                     2\n",
       "Age                                       43\n",
       "City                                      98\n",
       "Working Professional or Student            2\n",
       "Academic Pressure                          6\n",
       "CGPA                                       6\n",
       "Study Satisfaction                         6\n",
       "Sleep Duration                            36\n",
       "Dietary Habits                            23\n",
       "Degree                                   115\n",
       "Have you ever had suicidal thoughts ?      2\n",
       "Work/Study Hours                          13\n",
       "Financial Stress                           5\n",
       "Family History of Mental Illness           2\n",
       "dtype: int64"
      ]
     },
     "execution_count": 25,
     "metadata": {},
     "output_type": "execute_result"
    }
   ],
   "source": [
    "# Checking the number of unique values per column in the given dataframe \n",
    "df_for_missing_val_imputation.nunique()"
   ]
  },
  {
   "cell_type": "markdown",
   "metadata": {},
   "source": [
    "### I have decided to use the frequency encoding to encode the columns which have high cardinality & use catboost"
   ]
  },
  {
   "cell_type": "code",
   "execution_count": 26,
   "metadata": {},
   "outputs": [],
   "source": [
    "# The columns with clear high cardinality are where the unique values are above 20 \n",
    "# Also the columns which I decided to short list for the analysis of whether to use frequncy encoding depended the data data type\n",
    "col_for_freq_encoding=[col for col in df_for_missing_val_imputation.columns if (df_for_missing_val_imputation[col].nunique()>20) and (df_for_missing_val_imputation[col].dtype==object) ]"
   ]
  },
  {
   "cell_type": "code",
   "execution_count": 27,
   "metadata": {},
   "outputs": [
    {
     "name": "stdout",
     "output_type": "stream",
     "text": [
      "The City has below given unique values \n",
      " ['Ludhiana' 'Varanasi' 'Visakhapatnam' 'Mumbai' 'Kanpur' 'Ahmedabad'\n",
      " 'Thane' 'Nashik' 'Bangalore' 'Patna' 'Rajkot' 'Jaipur' 'Pune' 'Lucknow'\n",
      " 'Meerut' 'Agra' 'Surat' 'Faridabad' 'Hyderabad' 'Srinagar' 'Ghaziabad'\n",
      " 'Kolkata' 'Chennai' 'Kalyan' 'Nagpur' 'Vadodara' 'Vasai-Virar' 'Delhi'\n",
      " 'Bhopal' 'Indore' 'Ishanabad' 'Vidhi' 'Ayush' 'Gurgaon' 'Krishna'\n",
      " 'Aishwarya' 'Keshav' 'Harsha' 'Nalini' 'Aditya' 'Malyansh' 'Raghavendra'\n",
      " 'Saanvi' 'M.Tech' 'Bhavna' 'Less Delhi' 'Nandini' 'M.Com' 'Plata'\n",
      " 'Atharv' 'Pratyush' 'City' '3.0' 'Less than 5 Kalyan' 'MCA' 'Mira'\n",
      " 'Moreadhyay' 'Morena' 'Ishkarsh' 'Kashk' 'Mihir' 'Vidya' 'Tolkata' 'Anvi'\n",
      " 'Krinda' 'Ayansh' 'Shrey' 'Ivaan' 'Vaanya' 'Gaurav' 'Harsh' 'Reyansh'\n",
      " 'Kashish' 'Kibara' 'Vaishnavi' 'Chhavi' 'Parth' 'Mahi' 'Tushar' 'MSc'\n",
      " 'No' 'Rashi' 'ME' 'Molkata' 'Researcher' 'Kagan' 'Armaan' 'Ithal'\n",
      " 'Nalyan' 'Dhruv' 'Galesabad' 'Itheg' 'Aaradhya' 'Pooja' 'Khushi'\n",
      " 'Khaziabad' 'Jhanvi' 'Unirar'] \n",
      " \n",
      "\n",
      "The Sleep Duration has below given unique values \n",
      " ['More than 8 hours' 'Less than 5 hours' '5-6 hours' '7-8 hours'\n",
      " 'Sleep_Duration' '1-2 hours' '6-8 hours' '4-6 hours' '6-7 hours'\n",
      " '10-11 hours' '8-9 hours' '40-45 hours' '9-11 hours' '2-3 hours'\n",
      " '3-4 hours' 'Moderate' '55-66 hours' '4-5 hours' '9-6 hours' '1-3 hours'\n",
      " 'Indore' '45' '1-6 hours' '35-36 hours' '8 hours' 'No' '10-6 hours'\n",
      " 'than 5 hours' '49 hours' 'Unhealthy' 'Work_Study_Hours' '3-6 hours'\n",
      " '45-48 hours' '9-5' 'Pune' '9-5 hours'] \n",
      " \n",
      "\n",
      "The Dietary Habits has below given unique values \n",
      " ['Healthy' 'Unhealthy' 'Moderate' 'Yes' 'Pratham' 'BSc' 'Gender' '3'\n",
      " 'More Healthy' 'Less than Healthy' 'Mihir' '1.0' 'Hormonal' 'Electrician'\n",
      " 'No Healthy' 'Less Healthy' 'M.Tech' 'Vegas' 'No' 'Male' 'Indoor'\n",
      " 'Class 12' '2'] \n",
      " \n",
      "\n",
      "The Degree has below given unique values \n",
      " ['BHM' 'LLB' 'B.Pharm' 'BBA' 'MCA' 'MD' 'BSc' 'ME' 'B.Arch' 'BCA' 'BE'\n",
      " 'MA' 'B.Ed' 'B.Com' 'MBA' 'M.Com' 'MHM' 'BA' 'Class 12' 'M.Tech' 'PhD'\n",
      " 'M.Ed' 'MSc' 'B.Tech' 'LLM' 'MBBS' 'M.Pharm' 'UX/UI Designer' 'MPA' 'BH'\n",
      " 'Nalini' 'BEd' 'B.Sc' 'Veda' 'Bhopal' 'S.Tech' 'Degree' '20' 'Class 11'\n",
      " 'H_Pharm' 'M' 'P.Com' 'BPharm' 'Business Analyst' 'M.Arch' 'LL.Com'\n",
      " 'Data Scientist' 'MPharm' 'L.Ed' 'P.Pharm' 'Kalyan' 'Unite' 'BArch'\n",
      " 'HR Manager' 'Badhya' 'S.Pharm' 'LLBA' 'Vrinda' 'M. Business Analyst'\n",
      " 'Bhavesh' '0' 'LLCom' '29' 'MTech' 'Vivaan' 'BPA' 'Plumber' '5.61' 'Brit'\n",
      " 'B.03' 'Ritik' '5.56' 'MEd' 'B' 'B BA' '7.06' 'B.B.Arch' 'ACA' 'Brithika'\n",
      " 'CGPA' '24' 'M_Tech' 'Pihu' 'BB' 'Jhanvi' 'LLTech' 'Aarav' 'Entrepreneur'\n",
      " '8.56' 'LHM' 'Lata' 'S.Arch' 'Marsh' 'HCA' '5.88' 'B.Student' 'LL B.Ed'\n",
      " 'M.S' 'Navya' 'Mahika' 'K.Ed' 'B.3.79' 'Mthanya' 'Working Professional'\n",
      " 'Esha' 'LLS' 'LLEd' 'E.Tech' 'Doctor' 'N.Pharm' 'LCA' 'B B.Com' 'RCA'\n",
      " 'Mihir' 'Advait'] \n",
      " \n",
      "\n"
     ]
    }
   ],
   "source": [
    "# Printing unique values in each column of dataframe\n",
    "for col in col_for_freq_encoding:\n",
    "  print(f'The {col} has below given unique values \\n {df_for_missing_val_imputation[col].unique()} \\n \\n')"
   ]
  },
  {
   "cell_type": "code",
   "execution_count": 28,
   "metadata": {},
   "outputs": [
    {
     "name": "stdout",
     "output_type": "stream",
     "text": [
      "The top 5 contributors for City are \n",
      " Kalyan         0.046844\n",
      "Patna          0.042104\n",
      "Vasai-Virar    0.040974\n",
      "Kolkata        0.040434\n",
      "Ahmedabad      0.039893\n",
      "Name: City, dtype: float64 \n",
      "\n",
      "The top 5 contributors for Sleep Duration are \n",
      " Less than 5 hours    0.275650\n",
      "7-8 hours            0.262751\n",
      "More than 8 hours    0.232594\n",
      "5-6 hours            0.228443\n",
      "3-4 hours            0.000085\n",
      "Name: Sleep Duration, dtype: float64 \n",
      "\n",
      "The top 5 contributors for Dietary Habits are \n",
      " Moderate     0.353298\n",
      "Unhealthy    0.328550\n",
      "Healthy      0.317989\n",
      "Yes          0.000014\n",
      "No           0.000014\n",
      "Name: Dietary Habits, dtype: float64 \n",
      "\n",
      "The top 5 contributors for Degree are \n",
      " Class 12    0.104698\n",
      "B.Ed        0.083092\n",
      "B.Arch      0.062132\n",
      "B.Com       0.057662\n",
      "B.Pharm     0.041620\n",
      "Name: Degree, dtype: float64 \n",
      "\n"
     ]
    }
   ],
   "source": [
    "# Further analysing the columns which have high cardinality\n",
    "for col in col_for_freq_encoding:\n",
    "  print(f'The top 5 contributors for {col} are \\n {(df_for_missing_val_imputation[col].value_counts()/len(df_for_missing_val_imputation)).head()} \\n')"
   ]
  },
  {
   "cell_type": "code",
   "execution_count": 29,
   "metadata": {},
   "outputs": [],
   "source": [
    "# Based upon the above observations I decided to use one hot encoding for the Dietary habits and Sleep Duration\n",
    "sleep_duration=list(df_for_missing_val_imputation['Sleep Duration'].value_counts().keys()[:4])\n",
    "dietary_habits=list(df_for_missing_val_imputation['Dietary Habits'].value_counts().keys()[:3])"
   ]
  },
  {
   "cell_type": "code",
   "execution_count": 30,
   "metadata": {},
   "outputs": [],
   "source": [
    "# Defining a function to handle the sleep duration & the dietray habits column\n",
    "def sleep_diet_update(entry,ref_list):\n",
    "  if entry in ref_list:\n",
    "    return entry\n",
    "  else:\n",
    "    return 'Others'"
   ]
  },
  {
   "cell_type": "code",
   "execution_count": 31,
   "metadata": {},
   "outputs": [],
   "source": [
    "# Updating the sleep duration and dietary habits columns\n",
    "df_for_missing_val_imputation['Sleep Duration']=df_for_missing_val_imputation['Sleep Duration'].apply(lambda x:sleep_diet_update(x,sleep_duration))\n",
    "df_for_missing_val_imputation['Dietary Habits']=df_for_missing_val_imputation['Dietary Habits'].apply(lambda x:sleep_diet_update(x,dietary_habits))"
   ]
  },
  {
   "cell_type": "code",
   "execution_count": 32,
   "metadata": {},
   "outputs": [],
   "source": [
    "# Starting the frequency encoding\n",
    "freq_degree=df_for_missing_val_imputation['Degree'].value_counts()\n",
    "freq_city=df_for_missing_val_imputation['City'].value_counts()\n",
    "\n",
    "# Mapping the frequesncy\n",
    "df_for_missing_val_imputation['Degree']=df_for_missing_val_imputation['Degree'].map(freq_degree)\n",
    "df_for_missing_val_imputation['City']=df_for_missing_val_imputation['City'].map(freq_city)"
   ]
  },
  {
   "cell_type": "code",
   "execution_count": 33,
   "metadata": {},
   "outputs": [
    {
     "data": {
      "text/plain": [
       "Gender                                    2\n",
       "Age                                      43\n",
       "City                                     35\n",
       "Working Professional or Student           2\n",
       "Academic Pressure                         6\n",
       "CGPA                                      6\n",
       "Study Satisfaction                        6\n",
       "Sleep Duration                            5\n",
       "Dietary Habits                            4\n",
       "Degree                                   32\n",
       "Have you ever had suicidal thoughts ?     2\n",
       "Work/Study Hours                         13\n",
       "Financial Stress                          5\n",
       "Family History of Mental Illness          2\n",
       "dtype: int64"
      ]
     },
     "execution_count": 33,
     "metadata": {},
     "output_type": "execute_result"
    }
   ],
   "source": [
    "# Checking the unique values once again\n",
    "df_for_missing_val_imputation.nunique()"
   ]
  },
  {
   "cell_type": "code",
   "execution_count": 34,
   "metadata": {},
   "outputs": [
    {
     "data": {
      "text/plain": [
       "Gender                                    object\n",
       "Age                                      float64\n",
       "City                                       int64\n",
       "Working Professional or Student           object\n",
       "Academic Pressure                         object\n",
       "CGPA                                      object\n",
       "Study Satisfaction                        object\n",
       "Sleep Duration                            object\n",
       "Dietary Habits                            object\n",
       "Degree                                     int64\n",
       "Have you ever had suicidal thoughts ?     object\n",
       "Work/Study Hours                         float64\n",
       "Financial Stress                          object\n",
       "Family History of Mental Illness          object\n",
       "dtype: object"
      ]
     },
     "execution_count": 34,
     "metadata": {},
     "output_type": "execute_result"
    }
   ],
   "source": [
    "# Checking the data types once again\n",
    "df_for_missing_val_imputation.dtypes"
   ]
  },
  {
   "cell_type": "code",
   "execution_count": 35,
   "metadata": {},
   "outputs": [],
   "source": [
    "# Now making a list of columns which I will be using to make dummy columns\n",
    "dummy_cols=[col for col in df_for_missing_val_imputation.columns if df_for_missing_val_imputation[col].dtype==object]"
   ]
  },
  {
   "cell_type": "code",
   "execution_count": 36,
   "metadata": {},
   "outputs": [],
   "source": [
    "# Making a dataframe with dummy columns\n",
    "df_dummies=pd.get_dummies(data=df_for_missing_val_imputation,columns=dummy_cols,drop_first=True)"
   ]
  },
  {
   "cell_type": "code",
   "execution_count": 37,
   "metadata": {},
   "outputs": [],
   "source": [
    "### The below given graphs will be automated in upcoming revisions so that there will be no need to plot them separately"
   ]
  },
  {
   "cell_type": "code",
   "execution_count": 38,
   "metadata": {},
   "outputs": [
    {
     "data": {
      "image/png": "[encoded data removed]",
      "text/plain": [
       "<Figure size 720x360 with 1 Axes>"
      ]
     },
     "metadata": {
      "needs_background": "light"
     },
     "output_type": "display_data"
    }
   ],
   "source": [
    "# Plotting the graphs of the float columns to checktheir distribution\n",
    "plt.figure(figsize=(10,5))\n",
    "plt.hist(df_dummies.Age)\n",
    "plt.show()"
   ]
  },
  {
   "cell_type": "code",
   "execution_count": 39,
   "metadata": {},
   "outputs": [
    {
     "data": {
      "image/png": "[encoded data removed]",
      "text/plain": [
       "<Figure size 720x360 with 1 Axes>"
      ]
     },
     "metadata": {
      "needs_background": "light"
     },
     "output_type": "display_data"
    }
   ],
   "source": [
    "# Plotting the graphs of the float columns to checktheir distribution\n",
    "plt.figure(figsize=(10,5))\n",
    "plt.hist(df_dummies['Work/Study Hours'])\n",
    "plt.show()"
   ]
  },
  {
   "cell_type": "code",
   "execution_count": 40,
   "metadata": {},
   "outputs": [
    {
     "data": {
      "image/png": "[encoded data removed]",
      "text/plain": [
       "<Figure size 720x360 with 1 Axes>"
      ]
     },
     "metadata": {
      "needs_background": "light"
     },
     "output_type": "display_data"
    }
   ],
   "source": [
    "plt.figure(figsize=(10,5))\n",
    "sns.boxplot(df_dummies['Work/Study Hours'])\n",
    "plt.show()"
   ]
  },
  {
   "cell_type": "code",
   "execution_count": 41,
   "metadata": {},
   "outputs": [
    {
     "data": {
      "image/png": "[encoded data removed]",
      "text/plain": [
       "<Figure size 720x360 with 1 Axes>"
      ]
     },
     "metadata": {
      "needs_background": "light"
     },
     "output_type": "display_data"
    }
   ],
   "source": [
    "plt.figure(figsize=(10,5))\n",
    "sns.boxplot(df_dummies.Age)\n",
    "plt.show()"
   ]
  },
  {
   "cell_type": "code",
   "execution_count": 42,
   "metadata": {},
   "outputs": [],
   "source": [
    "# Taking the variables which are float and then using the scaler on them\n",
    "float_cols=[col for col in df_for_missing_val_imputation.columns if df_for_missing_val_imputation[col].dtype==float]"
   ]
  },
  {
   "cell_type": "code",
   "execution_count": 43,
   "metadata": {},
   "outputs": [],
   "source": [
    "# Using the MinMax scaler as the data in the columns do not follow normal distribution and does not have outliers\n",
    "scaler=MinMaxScaler()"
   ]
  },
  {
   "cell_type": "code",
   "execution_count": null,
   "metadata": {},
   "outputs": [],
   "source": []
  },
  {
   "cell_type": "code",
   "execution_count": null,
   "metadata": {},
   "outputs": [],
   "source": []
  },
  {
   "cell_type": "code",
   "execution_count": null,
   "metadata": {},
   "outputs": [],
   "source": []
  },
  {
   "cell_type": "code",
   "execution_count": null,
   "metadata": {},
   "outputs": [],
   "source": []
  },
  {
   "cell_type": "code",
   "execution_count": null,
   "metadata": {},
   "outputs": [],
   "source": []
  },
  {
   "cell_type": "code",
   "execution_count": null,
   "metadata": {},
   "outputs": [],
   "source": []
  }
 ],
 "metadata": {
  "kernelspec": {
   "display_name": "base",
   "language": "python",
   "name": "python3"
  },
  "language_info": {
   "codemirror_mode": {
    "name": "ipython",
    "version": 3
   },
   "file_extension": ".py",
   "mimetype": "text/x-python",
   "name": "python",
   "nbconvert_exporter": "python",
   "pygments_lexer": "ipython3",
   "version": "3.8.3"
  }
 },
 "nbformat": 4,
 "nbformat_minor": 2
}
