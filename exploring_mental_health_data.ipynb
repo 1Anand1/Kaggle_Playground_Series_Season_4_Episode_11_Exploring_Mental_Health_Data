{
 "cells": [
  {
   "cell_type": "code",
   "execution_count": 1,
   "metadata": {},
   "outputs": [],
   "source": [
    "# Ignoring the warnings\n",
    "import warnings\n",
    "warnings.filterwarnings('ignore')\n",
    "\n",
    "# Imorting required libraries\n",
    "import pandas as pd\n",
    "import numpy as np\n",
    "import seaborn as sns\n",
    "import matplotlib.pyplot as plt\n",
    "import re\n",
    "from typing import Any\n",
    "from collections import  defaultdict\n",
    "\n",
    "# Importing require AI/ML Libraries\n",
    "from sklearn.model_selection import train_test_split\n",
    "from sklearn.ensemble import AdaBoostClassifier,GradientBoostingClassifier\n",
    "from sklearn.linear_model import LogisticRegression\n",
    "import xgboost as xgb\n",
    "from catboost import CatBoostClassifier\n",
    "from sklearn.preprocessing import StandardScaler,MinMaxScaler\n",
    "from sklearn.metrics import confusion_matrix,accuracy_score\n",
    "\n",
    "# Setting functionality to see all the columns\n",
    "pd.set_option('display.max_columns',None)"
   ]
  },
  {
   "cell_type": "code",
   "execution_count": 2,
   "metadata": {},
   "outputs": [],
   "source": [
    "# Location of the datasets\n",
    "train_data=r'C:\\Users\\DELL\\train_depression.csv'\n",
    "test_data=r'C:\\Users\\DELL\\test_depression.csv'"
   ]
  },
  {
   "cell_type": "code",
   "execution_count": 3,
   "metadata": {},
   "outputs": [],
   "source": [
    "# Locading the datasets in memory\n",
    "df_train=pd.read_csv(train_data)\n",
    "df_test=pd.read_csv(test_data)"
   ]
  },
  {
   "cell_type": "code",
   "execution_count": 4,
   "metadata": {},
   "outputs": [],
   "source": [
    "#Extracting the Depression Column\n",
    "y_train_final=df_train['Depression']"
   ]
  },
  {
   "cell_type": "markdown",
   "metadata": {},
   "source": [
    "### Missing Value Imputation"
   ]
  },
  {
   "cell_type": "code",
   "execution_count": 5,
   "metadata": {},
   "outputs": [
    {
     "data": {
      "text/plain": [
       "id                                        0.000000\n",
       "Name                                      0.000000\n",
       "Gender                                    0.000000\n",
       "Age                                       0.000000\n",
       "City                                      0.000000\n",
       "Working Professional or Student           0.000000\n",
       "Profession                               26.034115\n",
       "Academic Pressure                        80.172708\n",
       "Work Pressure                            19.842217\n",
       "CGPA                                     80.171997\n",
       "Study Satisfaction                       80.172708\n",
       "Job Satisfaction                         19.836532\n",
       "Sleep Duration                            0.000000\n",
       "Dietary Habits                            0.002843\n",
       "Degree                                    0.001421\n",
       "Have you ever had suicidal thoughts ?     0.000000\n",
       "Work/Study Hours                          0.000000\n",
       "Financial Stress                          0.002843\n",
       "Family History of Mental Illness          0.000000\n",
       "Depression                                0.000000\n",
       "dtype: float64"
      ]
     },
     "execution_count": 5,
     "metadata": {},
     "output_type": "execute_result"
    }
   ],
   "source": [
    "# Checking the % of null entries\n",
    "df_train.isnull().sum()/len(df_train)*100"
   ]
  },
  {
   "cell_type": "code",
   "execution_count": 6,
   "metadata": {},
   "outputs": [
    {
     "data": {
      "text/plain": [
       "id                                         int64\n",
       "Name                                      object\n",
       "Gender                                    object\n",
       "Age                                      float64\n",
       "City                                      object\n",
       "Working Professional or Student           object\n",
       "Profession                                object\n",
       "Academic Pressure                        float64\n",
       "Work Pressure                            float64\n",
       "CGPA                                     float64\n",
       "Study Satisfaction                       float64\n",
       "Job Satisfaction                         float64\n",
       "Sleep Duration                            object\n",
       "Dietary Habits                            object\n",
       "Degree                                    object\n",
       "Have you ever had suicidal thoughts ?     object\n",
       "Work/Study Hours                         float64\n",
       "Financial Stress                         float64\n",
       "Family History of Mental Illness          object\n",
       "Depression                                 int64\n",
       "dtype: object"
      ]
     },
     "execution_count": 6,
     "metadata": {},
     "output_type": "execute_result"
    }
   ],
   "source": [
    "# It is observed that certain columns have very low missing value count like Financial Stress , Degree & Dietary Habits\n",
    "# So here the missing value imputation can be done by using straight forward methods like mean , median or mode \n",
    "# For that it is necessary to find out their data types\n",
    "df_train.dtypes"
   ]
  },
  {
   "cell_type": "code",
   "execution_count": 7,
   "metadata": {},
   "outputs": [
    {
     "data": {
      "text/plain": [
       "array([ 2.,  3.,  1.,  4.,  5., nan])"
      ]
     },
     "execution_count": 7,
     "metadata": {},
     "output_type": "execute_result"
    }
   ],
   "source": [
    "# Checking the Financial stress parameter --> It is clear that this column needs to be treated as a categorical variable\n",
    "df_train['Financial Stress'].unique()"
   ]
  },
  {
   "cell_type": "code",
   "execution_count": 8,
   "metadata": {},
   "outputs": [],
   "source": [
    "# Changing the data type of the Financial Stress to object\n",
    "df_train['Financial Stress']=df_train['Financial Stress'].astype(object)"
   ]
  },
  {
   "cell_type": "code",
   "execution_count": 9,
   "metadata": {},
   "outputs": [],
   "source": [
    "# Extracting the columns which have null values along with their data type\n",
    "null_value_cols=[(col,round(100*null_values/len(df_train),2),df_train[col].dtype)\n",
    "                 for col,null_values in df_train.isnull().sum().items() if null_values>0]"
   ]
  },
  {
   "cell_type": "code",
   "execution_count": 10,
   "metadata": {},
   "outputs": [
    {
     "data": {
      "text/plain": [
       "[('Profession', 26.03, dtype('O')),\n",
       " ('Academic Pressure', 80.17, dtype('float64')),\n",
       " ('Work Pressure', 19.84, dtype('float64')),\n",
       " ('CGPA', 80.17, dtype('float64')),\n",
       " ('Study Satisfaction', 80.17, dtype('float64')),\n",
       " ('Job Satisfaction', 19.84, dtype('float64')),\n",
       " ('Dietary Habits', 0.0, dtype('O')),\n",
       " ('Degree', 0.0, dtype('O')),\n",
       " ('Financial Stress', 0.0, dtype('O'))]"
      ]
     },
     "execution_count": 10,
     "metadata": {},
     "output_type": "execute_result"
    }
   ],
   "source": [
    "# Checking the null values along with their data types\n",
    "null_value_cols"
   ]
  },
  {
   "cell_type": "code",
   "execution_count": 11,
   "metadata": {},
   "outputs": [],
   "source": [
    "# I will extract the columns which have very low missing values\n",
    "low_missing_values=[(col,dt) for col,missing_pct,dt in null_value_cols if missing_pct<1]"
   ]
  },
  {
   "cell_type": "code",
   "execution_count": 12,
   "metadata": {},
   "outputs": [
    {
     "data": {
      "text/plain": [
       "[('Dietary Habits', dtype('O')),\n",
       " ('Degree', dtype('O')),\n",
       " ('Financial Stress', dtype('O'))]"
      ]
     },
     "execution_count": 12,
     "metadata": {},
     "output_type": "execute_result"
    }
   ],
   "source": [
    "# Checking columns which have low missing value count and their dtypes\n",
    "low_missing_values"
   ]
  },
  {
   "cell_type": "code",
   "execution_count": 13,
   "metadata": {},
   "outputs": [],
   "source": [
    "# Imputing the missing values in the columns (with low missing values) and which are categorical in nature by using mode\n",
    "very_low_missing_values=low_missing_values.copy()\n",
    "for each_col,data_type in very_low_missing_values:\n",
    "  df_train[each_col]=df_train[each_col].fillna(df_train[each_col].mode()[0])\n",
    "  df_train[each_col]=df_train[each_col].astype(object)"
   ]
  },
  {
   "cell_type": "code",
   "execution_count": 14,
   "metadata": {},
   "outputs": [
    {
     "data": {
      "text/plain": [
       "id                                        0.000000\n",
       "Name                                      0.000000\n",
       "Gender                                    0.000000\n",
       "Age                                       0.000000\n",
       "City                                      0.000000\n",
       "Working Professional or Student           0.000000\n",
       "Profession                               26.034115\n",
       "Academic Pressure                        80.172708\n",
       "Work Pressure                            19.842217\n",
       "CGPA                                     80.171997\n",
       "Study Satisfaction                       80.172708\n",
       "Job Satisfaction                         19.836532\n",
       "Sleep Duration                            0.000000\n",
       "Dietary Habits                            0.000000\n",
       "Degree                                    0.000000\n",
       "Have you ever had suicidal thoughts ?     0.000000\n",
       "Work/Study Hours                          0.000000\n",
       "Financial Stress                          0.000000\n",
       "Family History of Mental Illness          0.000000\n",
       "Depression                                0.000000\n",
       "dtype: float64"
      ]
     },
     "execution_count": 14,
     "metadata": {},
     "output_type": "execute_result"
    }
   ],
   "source": [
    "# Checking the % of null entries\n",
    "df_train.isnull().sum()/len(df_train)*100"
   ]
  },
  {
   "cell_type": "code",
   "execution_count": 15,
   "metadata": {},
   "outputs": [
    {
     "data": {
      "text/plain": [
       "[('Profession', 26.03, dtype('O')),\n",
       " ('Academic Pressure', 80.17, dtype('float64')),\n",
       " ('Work Pressure', 19.84, dtype('float64')),\n",
       " ('CGPA', 80.17, dtype('float64')),\n",
       " ('Study Satisfaction', 80.17, dtype('float64')),\n",
       " ('Job Satisfaction', 19.84, dtype('float64'))]"
      ]
     },
     "execution_count": 15,
     "metadata": {},
     "output_type": "execute_result"
    }
   ],
   "source": [
    "# Extracting the columns which have null values along with their data type and checking them once again\n",
    "null_value_cols=[(col,round(100*null_values/len(df_train),2),df_train[col].dtype)\n",
    "                 for col,null_values in df_train.isnull().sum().items() if null_values>0]\n",
    "\n",
    "null_value_cols"
   ]
  },
  {
   "cell_type": "code",
   "execution_count": 16,
   "metadata": {},
   "outputs": [
    {
     "data": {
      "text/plain": [
       "[('Academic Pressure', dtype('float64')),\n",
       " ('CGPA', dtype('float64')),\n",
       " ('Study Satisfaction', dtype('float64'))]"
      ]
     },
     "execution_count": 16,
     "metadata": {},
     "output_type": "execute_result"
    }
   ],
   "source": [
    "# I decided to write a function to identify the columns which very high percentage of missing values and then just imputing missing values by a place holder \n",
    "# But before going ahead I decided to check the nature of the columns with these high missing values\n",
    "high_missing_values=[(col,dt) for col,missing_pct,dt in null_value_cols if missing_pct>50]\n",
    "high_missing_values"
   ]
  },
  {
   "cell_type": "code",
   "execution_count": 17,
   "metadata": {},
   "outputs": [],
   "source": [
    "#Just extracting the column names of the columns with high missing values\n",
    "col_names_high_missing_value=[each_col for each_col,data_type in high_missing_values]\n",
    "\n",
    "# Doing a quick analysis of the columns with high missing values \n",
    "def analyze_missing_value_columns(dataframe,high_missing_value_col):\n",
    "\n",
    "  \"\"\"\n",
    "  This function will take data frame & the columns with high missing values.\n",
    "    Then it will show the number of unique values in column with some statistical information of the selected column\n",
    "    \n",
    "    Args: Dataframe & columns with high missing values\n",
    "    \n",
    "    Returns : Unique values in the columns and statistics for the column\n",
    "  \"\"\"\n",
    "\n",
    "  for each_col in high_missing_value_col:\n",
    "    print(f'For {each_col}')\n",
    "    print(f'The number of unique values are {dataframe[each_col].nunique()}' )\n",
    "    print(f'The statistics are {dataframe[each_col].describe()}' )\n",
    "    if dataframe[each_col].nunique()<=10:\n",
    "      print(f'The unique values are {dataframe[each_col].unique()} \\n')\n",
    "    else:\n",
    "      print('\\n')\n",
    "    \n"
   ]
  },
  {
   "cell_type": "code",
   "execution_count": 18,
   "metadata": {},
   "outputs": [
    {
     "name": "stdout",
     "output_type": "stream",
     "text": [
      "For Academic Pressure\n",
      "The number of unique values are 5\n",
      "The statistics are count    27897.000000\n",
      "mean         3.142273\n",
      "std          1.380457\n",
      "min          1.000000\n",
      "25%          2.000000\n",
      "50%          3.000000\n",
      "75%          4.000000\n",
      "max          5.000000\n",
      "Name: Academic Pressure, dtype: float64\n",
      "The unique values are [nan  5.  2.  3.  4.  1.] \n",
      "\n",
      "For CGPA\n",
      "The number of unique values are 331\n",
      "The statistics are count    27898.000000\n",
      "mean         7.658636\n",
      "std          1.464466\n",
      "min          5.030000\n",
      "25%          6.290000\n",
      "50%          7.770000\n",
      "75%          8.920000\n",
      "max         10.000000\n",
      "Name: CGPA, dtype: float64\n",
      "\n",
      "\n",
      "For Study Satisfaction\n",
      "The number of unique values are 5\n",
      "The statistics are count    27897.000000\n",
      "mean         2.944940\n",
      "std          1.360197\n",
      "min          1.000000\n",
      "25%          2.000000\n",
      "50%          3.000000\n",
      "75%          4.000000\n",
      "max          5.000000\n",
      "Name: Study Satisfaction, dtype: float64\n",
      "The unique values are [nan  2.  5.  3.  4.  1.] \n",
      "\n"
     ]
    }
   ],
   "source": [
    "# Using the modular function to check the details for all columns with high missing values\n",
    "analyze_missing_value_columns(df_train,col_names_high_missing_value)"
   ]
  },
  {
   "cell_type": "code",
   "execution_count": 19,
   "metadata": {},
   "outputs": [
    {
     "data": {
      "text/plain": [
       "[('Profession', dtype('O')),\n",
       " ('Work Pressure', dtype('float64')),\n",
       " ('Job Satisfaction', dtype('float64'))]"
      ]
     },
     "execution_count": 19,
     "metadata": {},
     "output_type": "execute_result"
    }
   ],
   "source": [
    "# I decided to check the nature of the columns with low missing values\n",
    "low_missing_values=[(col,dt) for col,missing_pct,dt in null_value_cols if missing_pct<30]\n",
    "low_missing_values"
   ]
  },
  {
   "cell_type": "code",
   "execution_count": 20,
   "metadata": {},
   "outputs": [
    {
     "name": "stdout",
     "output_type": "stream",
     "text": [
      "For Profession\n",
      "The number of unique values are 64\n",
      "The statistics are count      104070\n",
      "unique         64\n",
      "top       Teacher\n",
      "freq        24906\n",
      "Name: Profession, dtype: object\n",
      "\n",
      "\n",
      "For Work Pressure\n",
      "The number of unique values are 5\n",
      "The statistics are count    112782.000000\n",
      "mean          2.998998\n",
      "std           1.405771\n",
      "min           1.000000\n",
      "25%           2.000000\n",
      "50%           3.000000\n",
      "75%           4.000000\n",
      "max           5.000000\n",
      "Name: Work Pressure, dtype: float64\n",
      "The unique values are [ 5.  4. nan  1.  2.  3.] \n",
      "\n",
      "For Job Satisfaction\n",
      "The number of unique values are 5\n",
      "The statistics are count    112790.000000\n",
      "mean          2.974404\n",
      "std           1.416078\n",
      "min           1.000000\n",
      "25%           2.000000\n",
      "50%           3.000000\n",
      "75%           4.000000\n",
      "max           5.000000\n",
      "Name: Job Satisfaction, dtype: float64\n",
      "The unique values are [ 2.  3. nan  1.  5.  4.] \n",
      "\n"
     ]
    }
   ],
   "source": [
    "#Just extracting the column names of the columns with high missing values\n",
    "col_names_low_missing_value=[each_col for each_col,data_type in low_missing_values]\n",
    "\n",
    "# Using the modular function to check the details for all columns with low missing values\n",
    "analyze_missing_value_columns(df_train,col_names_low_missing_value)"
   ]
  },
  {
   "cell_type": "markdown",
   "metadata": {},
   "source": [
    "## Based upon the above given findings it was clear \n",
    "### That I will be using the XGBoost Calssifier for the missing value imputation of Job Satisfaction and work pressure\n",
    "### But for Profession considering the High Cardinality first I will be replacing the null values with \"missing value\" & then I will be using the frequncy encoding for the same"
   ]
  },
  {
   "cell_type": "code",
   "execution_count": 21,
   "metadata": {},
   "outputs": [],
   "source": [
    "# Making small bins of the CGPA \n",
    "def CGPA_BIN(CGPA_VALUE):\n",
    "  if CGPA_VALUE<5:\n",
    "    return \"Less than 5\"\n",
    "  elif CGPA_VALUE>=5 and CGPA_VALUE<=6:\n",
    "    return \"5-6\"\n",
    "  elif CGPA_VALUE>=6 and CGPA_VALUE<=7:\n",
    "    return \"6-7\"\n",
    "  elif CGPA_VALUE>=7 and CGPA_VALUE<=8:\n",
    "    return \"7-8\"\n",
    "  elif CGPA_VALUE>=8 and CGPA_VALUE<=9:\n",
    "    return \"8-9\"\n",
    "  elif CGPA_VALUE>=9 and CGPA_VALUE<=10:\n",
    "    return \"9-10\"  "
   ]
  },
  {
   "cell_type": "code",
   "execution_count": 22,
   "metadata": {},
   "outputs": [],
   "source": [
    "# Replacing the CGPA column\n",
    "df_train.CGPA=df_train.CGPA.apply(lambda x : CGPA_BIN(x))"
   ]
  },
  {
   "cell_type": "code",
   "execution_count": 23,
   "metadata": {},
   "outputs": [],
   "source": [
    "# It is also clear that the Study satisfaction & the academic pressure needs to be treated as a categorical variable\n",
    "df_train['Academic Pressure']=df_train['Academic Pressure'].astype(object)\n",
    "df_train['Study Satisfaction']=df_train['Study Satisfaction'].astype(object)"
   ]
  },
  {
   "cell_type": "code",
   "execution_count": 24,
   "metadata": {},
   "outputs": [],
   "source": [
    "# Now replacing the missing values in Study satisfaction, CGPA & the academic pressure with \"Missing Value\"\n",
    "df_train['Academic Pressure']=df_train['Academic Pressure'].fillna(\"Missing_Value\")\n",
    "df_train['Study Satisfaction']=df_train['Study Satisfaction'].fillna(\"Missing_Value\")\n",
    "df_train['CGPA']=df_train['CGPA'].fillna(\"Missing_Value\")"
   ]
  },
  {
   "cell_type": "code",
   "execution_count": 25,
   "metadata": {},
   "outputs": [],
   "source": [
    "# Replacing the Missing Profession values with \"Missing Values\" & then using the frequncy encoding\n",
    "df_train['Profession']=df_train['Profession'].fillna('Missing Value')"
   ]
  },
  {
   "cell_type": "code",
   "execution_count": 26,
   "metadata": {},
   "outputs": [],
   "source": [
    "# Here I decided to first preprocess the columns which do not have any missing values &\n",
    "# Then use them to predict the columns which had missing values \n",
    "# Checking the % of null entries\n",
    "col_series=df_train.isnull().sum()/len(df_train)*100\n",
    "col_series=[col for col,missing_value in col_series.items() if missing_value==0 ]\n",
    "\n",
    "# De selecting the columns which will not have much significance & I want to keep preofession col for preprocessing\n",
    "col_series=[col for col in col_series if col not in ['Depression','id','Name']]"
   ]
  },
  {
   "cell_type": "code",
   "execution_count": 27,
   "metadata": {},
   "outputs": [],
   "source": [
    "# Making a dataframe for preprocssing\n",
    "df_for_missing_val_imputation=df_train[col_series]"
   ]
  },
  {
   "cell_type": "code",
   "execution_count": 28,
   "metadata": {},
   "outputs": [
    {
     "data": {
      "text/html": [
       "<div>\n",
       "<style scoped>\n",
       "    .dataframe tbody tr th:only-of-type {\n",
       "        vertical-align: middle;\n",
       "    }\n",
       "\n",
       "    .dataframe tbody tr th {\n",
       "        vertical-align: top;\n",
       "    }\n",
       "\n",
       "    .dataframe thead th {\n",
       "        text-align: right;\n",
       "    }\n",
       "</style>\n",
       "<table border=\"1\" class=\"dataframe\">\n",
       "  <thead>\n",
       "    <tr style=\"text-align: right;\">\n",
       "      <th></th>\n",
       "      <th>Gender</th>\n",
       "      <th>Age</th>\n",
       "      <th>City</th>\n",
       "      <th>Working Professional or Student</th>\n",
       "      <th>Profession</th>\n",
       "      <th>Academic Pressure</th>\n",
       "      <th>CGPA</th>\n",
       "      <th>Study Satisfaction</th>\n",
       "      <th>Sleep Duration</th>\n",
       "      <th>Dietary Habits</th>\n",
       "      <th>Degree</th>\n",
       "      <th>Have you ever had suicidal thoughts ?</th>\n",
       "      <th>Work/Study Hours</th>\n",
       "      <th>Financial Stress</th>\n",
       "      <th>Family History of Mental Illness</th>\n",
       "    </tr>\n",
       "  </thead>\n",
       "  <tbody>\n",
       "    <tr>\n",
       "      <th>0</th>\n",
       "      <td>Female</td>\n",
       "      <td>49.0</td>\n",
       "      <td>Ludhiana</td>\n",
       "      <td>Working Professional</td>\n",
       "      <td>Chef</td>\n",
       "      <td>Missing_Value</td>\n",
       "      <td>Missing_Value</td>\n",
       "      <td>Missing_Value</td>\n",
       "      <td>More than 8 hours</td>\n",
       "      <td>Healthy</td>\n",
       "      <td>BHM</td>\n",
       "      <td>No</td>\n",
       "      <td>1.0</td>\n",
       "      <td>2.0</td>\n",
       "      <td>No</td>\n",
       "    </tr>\n",
       "    <tr>\n",
       "      <th>1</th>\n",
       "      <td>Male</td>\n",
       "      <td>26.0</td>\n",
       "      <td>Varanasi</td>\n",
       "      <td>Working Professional</td>\n",
       "      <td>Teacher</td>\n",
       "      <td>Missing_Value</td>\n",
       "      <td>Missing_Value</td>\n",
       "      <td>Missing_Value</td>\n",
       "      <td>Less than 5 hours</td>\n",
       "      <td>Unhealthy</td>\n",
       "      <td>LLB</td>\n",
       "      <td>Yes</td>\n",
       "      <td>7.0</td>\n",
       "      <td>3.0</td>\n",
       "      <td>No</td>\n",
       "    </tr>\n",
       "    <tr>\n",
       "      <th>2</th>\n",
       "      <td>Male</td>\n",
       "      <td>33.0</td>\n",
       "      <td>Visakhapatnam</td>\n",
       "      <td>Student</td>\n",
       "      <td>Missing Value</td>\n",
       "      <td>5.0</td>\n",
       "      <td>8-9</td>\n",
       "      <td>2.0</td>\n",
       "      <td>5-6 hours</td>\n",
       "      <td>Healthy</td>\n",
       "      <td>B.Pharm</td>\n",
       "      <td>Yes</td>\n",
       "      <td>3.0</td>\n",
       "      <td>1.0</td>\n",
       "      <td>No</td>\n",
       "    </tr>\n",
       "    <tr>\n",
       "      <th>3</th>\n",
       "      <td>Male</td>\n",
       "      <td>22.0</td>\n",
       "      <td>Mumbai</td>\n",
       "      <td>Working Professional</td>\n",
       "      <td>Teacher</td>\n",
       "      <td>Missing_Value</td>\n",
       "      <td>Missing_Value</td>\n",
       "      <td>Missing_Value</td>\n",
       "      <td>Less than 5 hours</td>\n",
       "      <td>Moderate</td>\n",
       "      <td>BBA</td>\n",
       "      <td>Yes</td>\n",
       "      <td>10.0</td>\n",
       "      <td>1.0</td>\n",
       "      <td>Yes</td>\n",
       "    </tr>\n",
       "    <tr>\n",
       "      <th>4</th>\n",
       "      <td>Female</td>\n",
       "      <td>30.0</td>\n",
       "      <td>Kanpur</td>\n",
       "      <td>Working Professional</td>\n",
       "      <td>Business Analyst</td>\n",
       "      <td>Missing_Value</td>\n",
       "      <td>Missing_Value</td>\n",
       "      <td>Missing_Value</td>\n",
       "      <td>5-6 hours</td>\n",
       "      <td>Unhealthy</td>\n",
       "      <td>BBA</td>\n",
       "      <td>Yes</td>\n",
       "      <td>9.0</td>\n",
       "      <td>4.0</td>\n",
       "      <td>Yes</td>\n",
       "    </tr>\n",
       "  </tbody>\n",
       "</table>\n",
       "</div>"
      ],
      "text/plain": [
       "   Gender   Age           City Working Professional or Student  \\\n",
       "0  Female  49.0       Ludhiana            Working Professional   \n",
       "1    Male  26.0       Varanasi            Working Professional   \n",
       "2    Male  33.0  Visakhapatnam                         Student   \n",
       "3    Male  22.0         Mumbai            Working Professional   \n",
       "4  Female  30.0         Kanpur            Working Professional   \n",
       "\n",
       "         Profession Academic Pressure           CGPA Study Satisfaction  \\\n",
       "0              Chef     Missing_Value  Missing_Value      Missing_Value   \n",
       "1           Teacher     Missing_Value  Missing_Value      Missing_Value   \n",
       "2     Missing Value               5.0            8-9                2.0   \n",
       "3           Teacher     Missing_Value  Missing_Value      Missing_Value   \n",
       "4  Business Analyst     Missing_Value  Missing_Value      Missing_Value   \n",
       "\n",
       "      Sleep Duration Dietary Habits   Degree  \\\n",
       "0  More than 8 hours        Healthy      BHM   \n",
       "1  Less than 5 hours      Unhealthy      LLB   \n",
       "2          5-6 hours        Healthy  B.Pharm   \n",
       "3  Less than 5 hours       Moderate      BBA   \n",
       "4          5-6 hours      Unhealthy      BBA   \n",
       "\n",
       "  Have you ever had suicidal thoughts ?  Work/Study Hours Financial Stress  \\\n",
       "0                                    No               1.0              2.0   \n",
       "1                                   Yes               7.0              3.0   \n",
       "2                                   Yes               3.0              1.0   \n",
       "3                                   Yes              10.0              1.0   \n",
       "4                                   Yes               9.0              4.0   \n",
       "\n",
       "  Family History of Mental Illness  \n",
       "0                               No  \n",
       "1                               No  \n",
       "2                               No  \n",
       "3                              Yes  \n",
       "4                              Yes  "
      ]
     },
     "execution_count": 28,
     "metadata": {},
     "output_type": "execute_result"
    }
   ],
   "source": [
    "# Chceking the first 5 rows\n",
    "df_for_missing_val_imputation.head()"
   ]
  },
  {
   "cell_type": "code",
   "execution_count": 29,
   "metadata": {},
   "outputs": [
    {
     "data": {
      "text/plain": [
       "Gender                                    object\n",
       "Age                                      float64\n",
       "City                                      object\n",
       "Working Professional or Student           object\n",
       "Profession                                object\n",
       "Academic Pressure                         object\n",
       "CGPA                                      object\n",
       "Study Satisfaction                        object\n",
       "Sleep Duration                            object\n",
       "Dietary Habits                            object\n",
       "Degree                                    object\n",
       "Have you ever had suicidal thoughts ?     object\n",
       "Work/Study Hours                         float64\n",
       "Financial Stress                          object\n",
       "Family History of Mental Illness          object\n",
       "dtype: object"
      ]
     },
     "execution_count": 29,
     "metadata": {},
     "output_type": "execute_result"
    }
   ],
   "source": [
    "# Checking the dtypes again\n",
    "df_for_missing_val_imputation.dtypes"
   ]
  },
  {
   "cell_type": "code",
   "execution_count": 30,
   "metadata": {},
   "outputs": [
    {
     "data": {
      "text/plain": [
       "Gender                                     2\n",
       "Age                                       43\n",
       "City                                      98\n",
       "Working Professional or Student            2\n",
       "Profession                                65\n",
       "Academic Pressure                          6\n",
       "CGPA                                       6\n",
       "Study Satisfaction                         6\n",
       "Sleep Duration                            36\n",
       "Dietary Habits                            23\n",
       "Degree                                   115\n",
       "Have you ever had suicidal thoughts ?      2\n",
       "Work/Study Hours                          13\n",
       "Financial Stress                           5\n",
       "Family History of Mental Illness           2\n",
       "dtype: int64"
      ]
     },
     "execution_count": 30,
     "metadata": {},
     "output_type": "execute_result"
    }
   ],
   "source": [
    "# Checking the number of unique values per column in the given dataframe \n",
    "df_for_missing_val_imputation.nunique()"
   ]
  },
  {
   "cell_type": "markdown",
   "metadata": {},
   "source": [
    "### I decided to use the frequency encoding to encode the columns which have high cardinality"
   ]
  },
  {
   "cell_type": "code",
   "execution_count": 31,
   "metadata": {},
   "outputs": [],
   "source": [
    "# The columns with clear high cardinality are where the unique values are above 20 \n",
    "# Also the columns which I decided to short list for the analysis of whether to use frequncy encoding depended the data data type\n",
    "col_for_freq_encoding=[col for col in df_for_missing_val_imputation.columns if (df_for_missing_val_imputation[col].nunique()>20) and (df_for_missing_val_imputation[col].dtype==object) ]"
   ]
  },
  {
   "cell_type": "code",
   "execution_count": 32,
   "metadata": {},
   "outputs": [
    {
     "name": "stdout",
     "output_type": "stream",
     "text": [
      "The City has below given unique values \n",
      " ['Ludhiana' 'Varanasi' 'Visakhapatnam' 'Mumbai' 'Kanpur' 'Ahmedabad'\n",
      " 'Thane' 'Nashik' 'Bangalore' 'Patna' 'Rajkot' 'Jaipur' 'Pune' 'Lucknow'\n",
      " 'Meerut' 'Agra' 'Surat' 'Faridabad' 'Hyderabad' 'Srinagar' 'Ghaziabad'\n",
      " 'Kolkata' 'Chennai' 'Kalyan' 'Nagpur' 'Vadodara' 'Vasai-Virar' 'Delhi'\n",
      " 'Bhopal' 'Indore' 'Ishanabad' 'Vidhi' 'Ayush' 'Gurgaon' 'Krishna'\n",
      " 'Aishwarya' 'Keshav' 'Harsha' 'Nalini' 'Aditya' 'Malyansh' 'Raghavendra'\n",
      " 'Saanvi' 'M.Tech' 'Bhavna' 'Less Delhi' 'Nandini' 'M.Com' 'Plata'\n",
      " 'Atharv' 'Pratyush' 'City' '3.0' 'Less than 5 Kalyan' 'MCA' 'Mira'\n",
      " 'Moreadhyay' 'Morena' 'Ishkarsh' 'Kashk' 'Mihir' 'Vidya' 'Tolkata' 'Anvi'\n",
      " 'Krinda' 'Ayansh' 'Shrey' 'Ivaan' 'Vaanya' 'Gaurav' 'Harsh' 'Reyansh'\n",
      " 'Kashish' 'Kibara' 'Vaishnavi' 'Chhavi' 'Parth' 'Mahi' 'Tushar' 'MSc'\n",
      " 'No' 'Rashi' 'ME' 'Molkata' 'Researcher' 'Kagan' 'Armaan' 'Ithal'\n",
      " 'Nalyan' 'Dhruv' 'Galesabad' 'Itheg' 'Aaradhya' 'Pooja' 'Khushi'\n",
      " 'Khaziabad' 'Jhanvi' 'Unirar'] \n",
      " \n",
      "\n",
      "The Profession has below given unique values \n",
      " ['Chef' 'Teacher' 'Missing Value' 'Business Analyst' 'Finanancial Analyst'\n",
      " 'Chemist' 'Electrician' 'Software Engineer' 'Data Scientist' 'Plumber'\n",
      " 'Marketing Manager' 'Accountant' 'Entrepreneur' 'HR Manager'\n",
      " 'UX/UI Designer' 'Content Writer' 'Educational Consultant'\n",
      " 'Civil Engineer' 'Manager' 'Pharmacist' 'Financial Analyst' 'Architect'\n",
      " 'Mechanical Engineer' 'Customer Support' 'Consultant' 'Judge'\n",
      " 'Researcher' 'Pilot' 'Graphic Designer' 'Travel Consultant'\n",
      " 'Digital Marketer' 'Lawyer' 'Research Analyst' 'Sales Executive' 'Doctor'\n",
      " 'Unemployed' 'Investment Banker' 'Family Consultant' 'B.Com' 'BE'\n",
      " 'Student' 'Yogesh' 'Dev' 'MBA' 'LLM' 'BCA' 'Academic' 'Profession'\n",
      " 'FamilyVirar' 'City Manager' 'BBA' 'Medical Doctor'\n",
      " 'Working Professional' 'MBBS' 'Patna' 'Unveil' 'B.Ed' 'Nagpur' 'Moderate'\n",
      " 'M.Ed' 'Analyst' 'Pranav' 'Visakhapatnam' 'PhD' 'Yuvraj'] \n",
      " \n",
      "\n",
      "The Sleep Duration has below given unique values \n",
      " ['More than 8 hours' 'Less than 5 hours' '5-6 hours' '7-8 hours'\n",
      " 'Sleep_Duration' '1-2 hours' '6-8 hours' '4-6 hours' '6-7 hours'\n",
      " '10-11 hours' '8-9 hours' '40-45 hours' '9-11 hours' '2-3 hours'\n",
      " '3-4 hours' 'Moderate' '55-66 hours' '4-5 hours' '9-6 hours' '1-3 hours'\n",
      " 'Indore' '45' '1-6 hours' '35-36 hours' '8 hours' 'No' '10-6 hours'\n",
      " 'than 5 hours' '49 hours' 'Unhealthy' 'Work_Study_Hours' '3-6 hours'\n",
      " '45-48 hours' '9-5' 'Pune' '9-5 hours'] \n",
      " \n",
      "\n",
      "The Dietary Habits has below given unique values \n",
      " ['Healthy' 'Unhealthy' 'Moderate' 'Yes' 'Pratham' 'BSc' 'Gender' '3'\n",
      " 'More Healthy' 'Less than Healthy' 'Mihir' '1.0' 'Hormonal' 'Electrician'\n",
      " 'No Healthy' 'Less Healthy' 'M.Tech' 'Vegas' 'No' 'Male' 'Indoor'\n",
      " 'Class 12' '2'] \n",
      " \n",
      "\n",
      "The Degree has below given unique values \n",
      " ['BHM' 'LLB' 'B.Pharm' 'BBA' 'MCA' 'MD' 'BSc' 'ME' 'B.Arch' 'BCA' 'BE'\n",
      " 'MA' 'B.Ed' 'B.Com' 'MBA' 'M.Com' 'MHM' 'BA' 'Class 12' 'M.Tech' 'PhD'\n",
      " 'M.Ed' 'MSc' 'B.Tech' 'LLM' 'MBBS' 'M.Pharm' 'UX/UI Designer' 'MPA' 'BH'\n",
      " 'Nalini' 'BEd' 'B.Sc' 'Veda' 'Bhopal' 'S.Tech' 'Degree' '20' 'Class 11'\n",
      " 'H_Pharm' 'M' 'P.Com' 'BPharm' 'Business Analyst' 'M.Arch' 'LL.Com'\n",
      " 'Data Scientist' 'MPharm' 'L.Ed' 'P.Pharm' 'Kalyan' 'Unite' 'BArch'\n",
      " 'HR Manager' 'Badhya' 'S.Pharm' 'LLBA' 'Vrinda' 'M. Business Analyst'\n",
      " 'Bhavesh' '0' 'LLCom' '29' 'MTech' 'Vivaan' 'BPA' 'Plumber' '5.61' 'Brit'\n",
      " 'B.03' 'Ritik' '5.56' 'MEd' 'B' 'B BA' '7.06' 'B.B.Arch' 'ACA' 'Brithika'\n",
      " 'CGPA' '24' 'M_Tech' 'Pihu' 'BB' 'Jhanvi' 'LLTech' 'Aarav' 'Entrepreneur'\n",
      " '8.56' 'LHM' 'Lata' 'S.Arch' 'Marsh' 'HCA' '5.88' 'B.Student' 'LL B.Ed'\n",
      " 'M.S' 'Navya' 'Mahika' 'K.Ed' 'B.3.79' 'Mthanya' 'Working Professional'\n",
      " 'Esha' 'LLS' 'LLEd' 'E.Tech' 'Doctor' 'N.Pharm' 'LCA' 'B B.Com' 'RCA'\n",
      " 'Mihir' 'Advait'] \n",
      " \n",
      "\n"
     ]
    }
   ],
   "source": [
    "# Printing unique values in each column of dataframe\n",
    "for col in col_for_freq_encoding:\n",
    "  print(f'The {col} has below given unique values \\n {df_for_missing_val_imputation[col].unique()} \\n \\n')"
   ]
  },
  {
   "cell_type": "code",
   "execution_count": 33,
   "metadata": {},
   "outputs": [
    {
     "name": "stdout",
     "output_type": "stream",
     "text": [
      "The top 5 contributors for City are \n",
      " Kalyan         0.046844\n",
      "Patna          0.042104\n",
      "Vasai-Virar    0.040974\n",
      "Kolkata        0.040434\n",
      "Ahmedabad      0.039893\n",
      "Name: City, dtype: float64 \n",
      "\n",
      "The top 5 contributors for Profession are \n",
      " Missing Value     0.260341\n",
      "Teacher           0.177015\n",
      "Content Writer    0.055537\n",
      "Architect         0.031059\n",
      "Consultant        0.030057\n",
      "Name: Profession, dtype: float64 \n",
      "\n",
      "The top 5 contributors for Sleep Duration are \n",
      " Less than 5 hours    0.275650\n",
      "7-8 hours            0.262751\n",
      "More than 8 hours    0.232594\n",
      "5-6 hours            0.228443\n",
      "3-4 hours            0.000085\n",
      "Name: Sleep Duration, dtype: float64 \n",
      "\n",
      "The top 5 contributors for Dietary Habits are \n",
      " Moderate     0.353298\n",
      "Unhealthy    0.328550\n",
      "Healthy      0.317989\n",
      "Yes          0.000014\n",
      "No           0.000014\n",
      "Name: Dietary Habits, dtype: float64 \n",
      "\n",
      "The top 5 contributors for Degree are \n",
      " Class 12    0.104698\n",
      "B.Ed        0.083092\n",
      "B.Arch      0.062132\n",
      "B.Com       0.057662\n",
      "B.Pharm     0.041620\n",
      "Name: Degree, dtype: float64 \n",
      "\n"
     ]
    }
   ],
   "source": [
    "# Further analysing the columns which have high cardinality\n",
    "for col in col_for_freq_encoding:\n",
    "  print(f'The top 5 contributors for {col} are \\n {(df_for_missing_val_imputation[col].value_counts()/len(df_for_missing_val_imputation)).head()} \\n')"
   ]
  },
  {
   "cell_type": "code",
   "execution_count": 34,
   "metadata": {},
   "outputs": [],
   "source": [
    "# Based upon the above observations I decided to use one hot encoding for the Dietary habits and Sleep Duration\n",
    "sleep_duration=list(df_for_missing_val_imputation['Sleep Duration'].value_counts().keys()[:4])\n",
    "dietary_habits=list(df_for_missing_val_imputation['Dietary Habits'].value_counts().keys()[:3])"
   ]
  },
  {
   "cell_type": "code",
   "execution_count": 35,
   "metadata": {},
   "outputs": [],
   "source": [
    "# Defining a function to handle the sleep duration & the dietray habits column\n",
    "def sleep_diet_update(entry,ref_list):\n",
    "  if entry in ref_list:\n",
    "    return entry\n",
    "  else:\n",
    "    return 'Others'"
   ]
  },
  {
   "cell_type": "code",
   "execution_count": 36,
   "metadata": {},
   "outputs": [],
   "source": [
    "# Updating the sleep duration and dietary habits columns\n",
    "df_for_missing_val_imputation['Sleep Duration']=df_for_missing_val_imputation['Sleep Duration'].apply(lambda x:sleep_diet_update(x,sleep_duration))\n",
    "df_for_missing_val_imputation['Dietary Habits']=df_for_missing_val_imputation['Dietary Habits'].apply(lambda x:sleep_diet_update(x,dietary_habits))"
   ]
  },
  {
   "cell_type": "code",
   "execution_count": 37,
   "metadata": {},
   "outputs": [],
   "source": [
    "# Starting the frequency encoding\n",
    "freq_degree=df_for_missing_val_imputation['Degree'].value_counts()\n",
    "freq_city=df_for_missing_val_imputation['City'].value_counts()\n",
    "freq_prof=df_for_missing_val_imputation['Profession'].value_counts()\n",
    "\n",
    "# Mapping the frequency\n",
    "df_for_missing_val_imputation['Degree']=df_for_missing_val_imputation['Degree'].map(freq_degree)\n",
    "df_for_missing_val_imputation['City']=df_for_missing_val_imputation['City'].map(freq_city)\n",
    "df_for_missing_val_imputation['Profession']=df_for_missing_val_imputation['Profession'].map(freq_prof)"
   ]
  },
  {
   "cell_type": "code",
   "execution_count": 38,
   "metadata": {},
   "outputs": [
    {
     "data": {
      "text/plain": [
       "Gender                                    2\n",
       "Age                                      43\n",
       "City                                     35\n",
       "Working Professional or Student           2\n",
       "Profession                               41\n",
       "Academic Pressure                         6\n",
       "CGPA                                      6\n",
       "Study Satisfaction                        6\n",
       "Sleep Duration                            5\n",
       "Dietary Habits                            4\n",
       "Degree                                   32\n",
       "Have you ever had suicidal thoughts ?     2\n",
       "Work/Study Hours                         13\n",
       "Financial Stress                          5\n",
       "Family History of Mental Illness          2\n",
       "dtype: int64"
      ]
     },
     "execution_count": 38,
     "metadata": {},
     "output_type": "execute_result"
    }
   ],
   "source": [
    "# Checking the unique values once again\n",
    "df_for_missing_val_imputation.nunique()"
   ]
  },
  {
   "cell_type": "code",
   "execution_count": 39,
   "metadata": {},
   "outputs": [
    {
     "data": {
      "text/plain": [
       "Gender                                    object\n",
       "Age                                      float64\n",
       "City                                       int64\n",
       "Working Professional or Student           object\n",
       "Profession                                 int64\n",
       "Academic Pressure                         object\n",
       "CGPA                                      object\n",
       "Study Satisfaction                        object\n",
       "Sleep Duration                            object\n",
       "Dietary Habits                            object\n",
       "Degree                                     int64\n",
       "Have you ever had suicidal thoughts ?     object\n",
       "Work/Study Hours                         float64\n",
       "Financial Stress                          object\n",
       "Family History of Mental Illness          object\n",
       "dtype: object"
      ]
     },
     "execution_count": 39,
     "metadata": {},
     "output_type": "execute_result"
    }
   ],
   "source": [
    "# Checking the data types once again\n",
    "df_for_missing_val_imputation.dtypes"
   ]
  },
  {
   "cell_type": "code",
   "execution_count": 40,
   "metadata": {},
   "outputs": [],
   "source": [
    "# Now making a list of columns which I will be using to make dummy columns\n",
    "dummy_cols=[col for col in df_for_missing_val_imputation.columns if df_for_missing_val_imputation[col].dtype==object]"
   ]
  },
  {
   "cell_type": "code",
   "execution_count": 41,
   "metadata": {},
   "outputs": [],
   "source": [
    "# Making a dataframe with dummy columns\n",
    "df_dummies=pd.get_dummies(data=df_for_missing_val_imputation,columns=dummy_cols,drop_first=True)"
   ]
  },
  {
   "cell_type": "code",
   "execution_count": 42,
   "metadata": {},
   "outputs": [],
   "source": [
    "# Taking the variables which are float and then using the scaler on them\n",
    "float_cols=[col for col in df_for_missing_val_imputation.columns if df_for_missing_val_imputation[col].dtype==float]"
   ]
  },
  {
   "cell_type": "code",
   "execution_count": 43,
   "metadata": {},
   "outputs": [
    {
     "data": {
      "image/png": "[encoded data removed]",
      "text/plain": [
       "<Figure size 1800x540 with 2 Axes>"
      ]
     },
     "metadata": {
      "needs_background": "light"
     },
     "output_type": "display_data"
    }
   ],
   "source": [
    "# Making a quick \"for\" loop to chake the distribution of all the numerical variables to decide which scaler to use\n",
    "col_no=2\n",
    "row_no=(len(float_cols)+1)//col_no\n",
    "fig,axes=plt.subplots(nrows=row_no,ncols=col_no,figsize=(25,7.5))\n",
    "axes=axes.flatten()\n",
    "\n",
    "# Iterating through each col and then plotting the histogram\n",
    "for col_num,col in enumerate(float_cols):\n",
    "  ax=axes[col_num]\n",
    "  ax.hist(x=df_dummies[col],bins=10)\n",
    "  ax.set_title(f\" The Histogram for the {col}\")\n",
    "  ax.set_xlabel(f'{col}')\n",
    "\n",
    "# Deleting the unused plots\n",
    "for col_to_del in range(col_num+1,len(float_cols)):\n",
    "  fig.delaxes(ax=axes[col_num])\n",
    "\n",
    "plt.tight_layout()\n",
    "plt.show()\n"
   ]
  },
  {
   "cell_type": "code",
   "execution_count": 44,
   "metadata": {},
   "outputs": [
    {
     "data": {
      "image/png": "[encoded data removed]",
      "text/plain": [
       "<Figure size 1080x360 with 2 Axes>"
      ]
     },
     "metadata": {
      "needs_background": "light"
     },
     "output_type": "display_data"
    }
   ],
   "source": [
    "# Making a quick \"for\" loop to iterate through the continuous variable columns and then plotting their boxplot to check for outliers\n",
    "\n",
    "col_no=2\n",
    "row_no=(len(float_cols)+1)//2\n",
    "fig,axes=plt.subplots(nrows=row_no,ncols=col_no,figsize=(15,5))\n",
    "axes=axes.flatten()\n",
    "\n",
    "# Iterating through each col and then plotting the boxplot\n",
    "for col_num,col in enumerate(float_cols):\n",
    "  sns.boxplot(ax=axes[col_num],data=df_dummies,x=col)\n",
    "  axes[col_num].set_title(f\"Boxplot for the {col}\")\n",
    "\n",
    "# Deleting the unused subplots\n",
    "for col_to_del in range(col_num+1,len(float_cols)):\n",
    "  fig.delaxes(ax=axes[col_to_del])\n",
    "\n",
    "plt.tight_layout()\n",
    "plt.show()\n"
   ]
  },
  {
   "cell_type": "code",
   "execution_count": 45,
   "metadata": {},
   "outputs": [],
   "source": [
    "# Using the MinMax scaler as the data in the columns do not follow normal distribution and does not have outliers\n",
    "scaler_age=MinMaxScaler()\n",
    "scaler_work_study_hours=MinMaxScaler()"
   ]
  },
  {
   "cell_type": "code",
   "execution_count": 46,
   "metadata": {},
   "outputs": [],
   "source": [
    "# Fit and transform the continuous variables\n",
    "df_dummies['Age']=scaler_age.fit_transform(np.array(df_dummies['Age']).reshape(-1,1))\n",
    "df_dummies['Work/Study Hours']=scaler_work_study_hours.fit_transform(np.array(df_dummies['Work/Study Hours']).reshape(-1,1))"
   ]
  },
  {
   "cell_type": "code",
   "execution_count": 47,
   "metadata": {},
   "outputs": [
    {
     "data": {
      "text/html": [
       "<div>\n",
       "<style scoped>\n",
       "    .dataframe tbody tr th:only-of-type {\n",
       "        vertical-align: middle;\n",
       "    }\n",
       "\n",
       "    .dataframe tbody tr th {\n",
       "        vertical-align: top;\n",
       "    }\n",
       "\n",
       "    .dataframe thead th {\n",
       "        text-align: right;\n",
       "    }\n",
       "</style>\n",
       "<table border=\"1\" class=\"dataframe\">\n",
       "  <thead>\n",
       "    <tr style=\"text-align: right;\">\n",
       "      <th></th>\n",
       "      <th>Age</th>\n",
       "      <th>City</th>\n",
       "      <th>Profession</th>\n",
       "      <th>Degree</th>\n",
       "      <th>Work/Study Hours</th>\n",
       "      <th>Gender_Male</th>\n",
       "      <th>Working Professional or Student_Working Professional</th>\n",
       "      <th>Academic Pressure_2.0</th>\n",
       "      <th>Academic Pressure_3.0</th>\n",
       "      <th>Academic Pressure_4.0</th>\n",
       "      <th>Academic Pressure_5.0</th>\n",
       "      <th>Academic Pressure_Missing_Value</th>\n",
       "      <th>CGPA_6-7</th>\n",
       "      <th>CGPA_7-8</th>\n",
       "      <th>CGPA_8-9</th>\n",
       "      <th>CGPA_9-10</th>\n",
       "      <th>CGPA_Missing_Value</th>\n",
       "      <th>Study Satisfaction_2.0</th>\n",
       "      <th>Study Satisfaction_3.0</th>\n",
       "      <th>Study Satisfaction_4.0</th>\n",
       "      <th>Study Satisfaction_5.0</th>\n",
       "      <th>Study Satisfaction_Missing_Value</th>\n",
       "      <th>Sleep Duration_7-8 hours</th>\n",
       "      <th>Sleep Duration_Less than 5 hours</th>\n",
       "      <th>Sleep Duration_More than 8 hours</th>\n",
       "      <th>Sleep Duration_Others</th>\n",
       "      <th>Dietary Habits_Moderate</th>\n",
       "      <th>Dietary Habits_Others</th>\n",
       "      <th>Dietary Habits_Unhealthy</th>\n",
       "      <th>Have you ever had suicidal thoughts ?_Yes</th>\n",
       "      <th>Financial Stress_2.0</th>\n",
       "      <th>Financial Stress_3.0</th>\n",
       "      <th>Financial Stress_4.0</th>\n",
       "      <th>Financial Stress_5.0</th>\n",
       "      <th>Family History of Mental Illness_Yes</th>\n",
       "    </tr>\n",
       "  </thead>\n",
       "  <tbody>\n",
       "    <tr>\n",
       "      <th>0</th>\n",
       "      <td>0.738095</td>\n",
       "      <td>5226</td>\n",
       "      <td>2862</td>\n",
       "      <td>4305</td>\n",
       "      <td>0.083333</td>\n",
       "      <td>0</td>\n",
       "      <td>1</td>\n",
       "      <td>0</td>\n",
       "      <td>0</td>\n",
       "      <td>0</td>\n",
       "      <td>0</td>\n",
       "      <td>1</td>\n",
       "      <td>0</td>\n",
       "      <td>0</td>\n",
       "      <td>0</td>\n",
       "      <td>0</td>\n",
       "      <td>1</td>\n",
       "      <td>0</td>\n",
       "      <td>0</td>\n",
       "      <td>0</td>\n",
       "      <td>0</td>\n",
       "      <td>1</td>\n",
       "      <td>0</td>\n",
       "      <td>0</td>\n",
       "      <td>1</td>\n",
       "      <td>0</td>\n",
       "      <td>0</td>\n",
       "      <td>0</td>\n",
       "      <td>0</td>\n",
       "      <td>0</td>\n",
       "      <td>1</td>\n",
       "      <td>0</td>\n",
       "      <td>0</td>\n",
       "      <td>0</td>\n",
       "      <td>0</td>\n",
       "    </tr>\n",
       "    <tr>\n",
       "      <th>1</th>\n",
       "      <td>0.190476</td>\n",
       "      <td>4606</td>\n",
       "      <td>24906</td>\n",
       "      <td>4348</td>\n",
       "      <td>0.583333</td>\n",
       "      <td>1</td>\n",
       "      <td>1</td>\n",
       "      <td>0</td>\n",
       "      <td>0</td>\n",
       "      <td>0</td>\n",
       "      <td>0</td>\n",
       "      <td>1</td>\n",
       "      <td>0</td>\n",
       "      <td>0</td>\n",
       "      <td>0</td>\n",
       "      <td>0</td>\n",
       "      <td>1</td>\n",
       "      <td>0</td>\n",
       "      <td>0</td>\n",
       "      <td>0</td>\n",
       "      <td>0</td>\n",
       "      <td>1</td>\n",
       "      <td>0</td>\n",
       "      <td>1</td>\n",
       "      <td>0</td>\n",
       "      <td>0</td>\n",
       "      <td>0</td>\n",
       "      <td>0</td>\n",
       "      <td>1</td>\n",
       "      <td>1</td>\n",
       "      <td>0</td>\n",
       "      <td>1</td>\n",
       "      <td>0</td>\n",
       "      <td>0</td>\n",
       "      <td>0</td>\n",
       "    </tr>\n",
       "    <tr>\n",
       "      <th>2</th>\n",
       "      <td>0.357143</td>\n",
       "      <td>5176</td>\n",
       "      <td>36630</td>\n",
       "      <td>5856</td>\n",
       "      <td>0.250000</td>\n",
       "      <td>1</td>\n",
       "      <td>0</td>\n",
       "      <td>0</td>\n",
       "      <td>0</td>\n",
       "      <td>0</td>\n",
       "      <td>1</td>\n",
       "      <td>0</td>\n",
       "      <td>0</td>\n",
       "      <td>0</td>\n",
       "      <td>1</td>\n",
       "      <td>0</td>\n",
       "      <td>0</td>\n",
       "      <td>1</td>\n",
       "      <td>0</td>\n",
       "      <td>0</td>\n",
       "      <td>0</td>\n",
       "      <td>0</td>\n",
       "      <td>0</td>\n",
       "      <td>0</td>\n",
       "      <td>0</td>\n",
       "      <td>0</td>\n",
       "      <td>0</td>\n",
       "      <td>0</td>\n",
       "      <td>0</td>\n",
       "      <td>1</td>\n",
       "      <td>0</td>\n",
       "      <td>0</td>\n",
       "      <td>0</td>\n",
       "      <td>0</td>\n",
       "      <td>0</td>\n",
       "    </tr>\n",
       "    <tr>\n",
       "      <th>3</th>\n",
       "      <td>0.095238</td>\n",
       "      <td>4966</td>\n",
       "      <td>24906</td>\n",
       "      <td>5030</td>\n",
       "      <td>0.833333</td>\n",
       "      <td>1</td>\n",
       "      <td>1</td>\n",
       "      <td>0</td>\n",
       "      <td>0</td>\n",
       "      <td>0</td>\n",
       "      <td>0</td>\n",
       "      <td>1</td>\n",
       "      <td>0</td>\n",
       "      <td>0</td>\n",
       "      <td>0</td>\n",
       "      <td>0</td>\n",
       "      <td>1</td>\n",
       "      <td>0</td>\n",
       "      <td>0</td>\n",
       "      <td>0</td>\n",
       "      <td>0</td>\n",
       "      <td>1</td>\n",
       "      <td>0</td>\n",
       "      <td>1</td>\n",
       "      <td>0</td>\n",
       "      <td>0</td>\n",
       "      <td>1</td>\n",
       "      <td>0</td>\n",
       "      <td>0</td>\n",
       "      <td>1</td>\n",
       "      <td>0</td>\n",
       "      <td>0</td>\n",
       "      <td>0</td>\n",
       "      <td>0</td>\n",
       "      <td>1</td>\n",
       "    </tr>\n",
       "    <tr>\n",
       "      <th>4</th>\n",
       "      <td>0.285714</td>\n",
       "      <td>4398</td>\n",
       "      <td>3161</td>\n",
       "      <td>5030</td>\n",
       "      <td>0.750000</td>\n",
       "      <td>0</td>\n",
       "      <td>1</td>\n",
       "      <td>0</td>\n",
       "      <td>0</td>\n",
       "      <td>0</td>\n",
       "      <td>0</td>\n",
       "      <td>1</td>\n",
       "      <td>0</td>\n",
       "      <td>0</td>\n",
       "      <td>0</td>\n",
       "      <td>0</td>\n",
       "      <td>1</td>\n",
       "      <td>0</td>\n",
       "      <td>0</td>\n",
       "      <td>0</td>\n",
       "      <td>0</td>\n",
       "      <td>1</td>\n",
       "      <td>0</td>\n",
       "      <td>0</td>\n",
       "      <td>0</td>\n",
       "      <td>0</td>\n",
       "      <td>0</td>\n",
       "      <td>0</td>\n",
       "      <td>1</td>\n",
       "      <td>1</td>\n",
       "      <td>0</td>\n",
       "      <td>0</td>\n",
       "      <td>1</td>\n",
       "      <td>0</td>\n",
       "      <td>1</td>\n",
       "    </tr>\n",
       "  </tbody>\n",
       "</table>\n",
       "</div>"
      ],
      "text/plain": [
       "        Age  City  Profession  Degree  Work/Study Hours  Gender_Male  \\\n",
       "0  0.738095  5226        2862    4305          0.083333            0   \n",
       "1  0.190476  4606       24906    4348          0.583333            1   \n",
       "2  0.357143  5176       36630    5856          0.250000            1   \n",
       "3  0.095238  4966       24906    5030          0.833333            1   \n",
       "4  0.285714  4398        3161    5030          0.750000            0   \n",
       "\n",
       "   Working Professional or Student_Working Professional  \\\n",
       "0                                                  1      \n",
       "1                                                  1      \n",
       "2                                                  0      \n",
       "3                                                  1      \n",
       "4                                                  1      \n",
       "\n",
       "   Academic Pressure_2.0  Academic Pressure_3.0  Academic Pressure_4.0  \\\n",
       "0                      0                      0                      0   \n",
       "1                      0                      0                      0   \n",
       "2                      0                      0                      0   \n",
       "3                      0                      0                      0   \n",
       "4                      0                      0                      0   \n",
       "\n",
       "   Academic Pressure_5.0  Academic Pressure_Missing_Value  CGPA_6-7  CGPA_7-8  \\\n",
       "0                      0                                1         0         0   \n",
       "1                      0                                1         0         0   \n",
       "2                      1                                0         0         0   \n",
       "3                      0                                1         0         0   \n",
       "4                      0                                1         0         0   \n",
       "\n",
       "   CGPA_8-9  CGPA_9-10  CGPA_Missing_Value  Study Satisfaction_2.0  \\\n",
       "0         0          0                   1                       0   \n",
       "1         0          0                   1                       0   \n",
       "2         1          0                   0                       1   \n",
       "3         0          0                   1                       0   \n",
       "4         0          0                   1                       0   \n",
       "\n",
       "   Study Satisfaction_3.0  Study Satisfaction_4.0  Study Satisfaction_5.0  \\\n",
       "0                       0                       0                       0   \n",
       "1                       0                       0                       0   \n",
       "2                       0                       0                       0   \n",
       "3                       0                       0                       0   \n",
       "4                       0                       0                       0   \n",
       "\n",
       "   Study Satisfaction_Missing_Value  Sleep Duration_7-8 hours  \\\n",
       "0                                 1                         0   \n",
       "1                                 1                         0   \n",
       "2                                 0                         0   \n",
       "3                                 1                         0   \n",
       "4                                 1                         0   \n",
       "\n",
       "   Sleep Duration_Less than 5 hours  Sleep Duration_More than 8 hours  \\\n",
       "0                                 0                                 1   \n",
       "1                                 1                                 0   \n",
       "2                                 0                                 0   \n",
       "3                                 1                                 0   \n",
       "4                                 0                                 0   \n",
       "\n",
       "   Sleep Duration_Others  Dietary Habits_Moderate  Dietary Habits_Others  \\\n",
       "0                      0                        0                      0   \n",
       "1                      0                        0                      0   \n",
       "2                      0                        0                      0   \n",
       "3                      0                        1                      0   \n",
       "4                      0                        0                      0   \n",
       "\n",
       "   Dietary Habits_Unhealthy  Have you ever had suicidal thoughts ?_Yes  \\\n",
       "0                         0                                          0   \n",
       "1                         1                                          1   \n",
       "2                         0                                          1   \n",
       "3                         0                                          1   \n",
       "4                         1                                          1   \n",
       "\n",
       "   Financial Stress_2.0  Financial Stress_3.0  Financial Stress_4.0  \\\n",
       "0                     1                     0                     0   \n",
       "1                     0                     1                     0   \n",
       "2                     0                     0                     0   \n",
       "3                     0                     0                     0   \n",
       "4                     0                     0                     1   \n",
       "\n",
       "   Financial Stress_5.0  Family History of Mental Illness_Yes  \n",
       "0                     0                                     0  \n",
       "1                     0                                     0  \n",
       "2                     0                                     0  \n",
       "3                     0                                     1  \n",
       "4                     0                                     1  "
      ]
     },
     "execution_count": 47,
     "metadata": {},
     "output_type": "execute_result"
    }
   ],
   "source": [
    "# Checking df_dummies\n",
    "df_dummies.head()"
   ]
  },
  {
   "cell_type": "code",
   "execution_count": 48,
   "metadata": {},
   "outputs": [
    {
     "data": {
      "text/plain": [
       "Age                                                     0\n",
       "City                                                    0\n",
       "Profession                                              0\n",
       "Degree                                                  0\n",
       "Work/Study Hours                                        0\n",
       "Gender_Male                                             0\n",
       "Working Professional or Student_Working Professional    0\n",
       "Academic Pressure_2.0                                   0\n",
       "Academic Pressure_3.0                                   0\n",
       "Academic Pressure_4.0                                   0\n",
       "Academic Pressure_5.0                                   0\n",
       "Academic Pressure_Missing_Value                         0\n",
       "CGPA_6-7                                                0\n",
       "CGPA_7-8                                                0\n",
       "CGPA_8-9                                                0\n",
       "CGPA_9-10                                               0\n",
       "CGPA_Missing_Value                                      0\n",
       "Study Satisfaction_2.0                                  0\n",
       "Study Satisfaction_3.0                                  0\n",
       "Study Satisfaction_4.0                                  0\n",
       "Study Satisfaction_5.0                                  0\n",
       "Study Satisfaction_Missing_Value                        0\n",
       "Sleep Duration_7-8 hours                                0\n",
       "Sleep Duration_Less than 5 hours                        0\n",
       "Sleep Duration_More than 8 hours                        0\n",
       "Sleep Duration_Others                                   0\n",
       "Dietary Habits_Moderate                                 0\n",
       "Dietary Habits_Others                                   0\n",
       "Dietary Habits_Unhealthy                                0\n",
       "Have you ever had suicidal thoughts ?_Yes               0\n",
       "Financial Stress_2.0                                    0\n",
       "Financial Stress_3.0                                    0\n",
       "Financial Stress_4.0                                    0\n",
       "Financial Stress_5.0                                    0\n",
       "Family History of Mental Illness_Yes                    0\n",
       "dtype: int64"
      ]
     },
     "execution_count": 48,
     "metadata": {},
     "output_type": "execute_result"
    }
   ],
   "source": [
    "# Cross veryfying if all the columns do not have any null entries \n",
    "df_dummies.isnull().sum()"
   ]
  },
  {
   "cell_type": "code",
   "execution_count": 49,
   "metadata": {},
   "outputs": [
    {
     "data": {
      "text/plain": [
       "Age                                                     float64\n",
       "City                                                      int64\n",
       "Profession                                                int64\n",
       "Degree                                                    int64\n",
       "Work/Study Hours                                        float64\n",
       "Gender_Male                                               uint8\n",
       "Working Professional or Student_Working Professional      uint8\n",
       "Academic Pressure_2.0                                     uint8\n",
       "Academic Pressure_3.0                                     uint8\n",
       "Academic Pressure_4.0                                     uint8\n",
       "Academic Pressure_5.0                                     uint8\n",
       "Academic Pressure_Missing_Value                           uint8\n",
       "CGPA_6-7                                                  uint8\n",
       "CGPA_7-8                                                  uint8\n",
       "CGPA_8-9                                                  uint8\n",
       "CGPA_9-10                                                 uint8\n",
       "CGPA_Missing_Value                                        uint8\n",
       "Study Satisfaction_2.0                                    uint8\n",
       "Study Satisfaction_3.0                                    uint8\n",
       "Study Satisfaction_4.0                                    uint8\n",
       "Study Satisfaction_5.0                                    uint8\n",
       "Study Satisfaction_Missing_Value                          uint8\n",
       "Sleep Duration_7-8 hours                                  uint8\n",
       "Sleep Duration_Less than 5 hours                          uint8\n",
       "Sleep Duration_More than 8 hours                          uint8\n",
       "Sleep Duration_Others                                     uint8\n",
       "Dietary Habits_Moderate                                   uint8\n",
       "Dietary Habits_Others                                     uint8\n",
       "Dietary Habits_Unhealthy                                  uint8\n",
       "Have you ever had suicidal thoughts ?_Yes                 uint8\n",
       "Financial Stress_2.0                                      uint8\n",
       "Financial Stress_3.0                                      uint8\n",
       "Financial Stress_4.0                                      uint8\n",
       "Financial Stress_5.0                                      uint8\n",
       "Family History of Mental Illness_Yes                      uint8\n",
       "dtype: object"
      ]
     },
     "execution_count": 49,
     "metadata": {},
     "output_type": "execute_result"
    }
   ],
   "source": [
    "# Checking the data type\n",
    "df_dummies.dtypes"
   ]
  },
  {
   "cell_type": "code",
   "execution_count": 50,
   "metadata": {},
   "outputs": [
    {
     "data": {
      "text/plain": [
       "['id', 'Name', 'Work Pressure', 'Job Satisfaction', 'Depression']"
      ]
     },
     "execution_count": 50,
     "metadata": {},
     "output_type": "execute_result"
    }
   ],
   "source": [
    "# Extracting the columns which need missing value imputation by using advanced ML algorithms\n",
    "[col for col in df_train.columns if col not in col_series]"
   ]
  },
  {
   "cell_type": "code",
   "execution_count": 51,
   "metadata": {},
   "outputs": [],
   "source": [
    "# Even if the missing value imputation is required for certain columns still it was necessary to drop Depression, id & Name \n",
    "cols_unnecessary=['id', 'Name', 'Depression']\n",
    "col_to_impute=[col for col in df_train.columns if (col not in col_series) and (col not in cols_unnecessary) ]"
   ]
  },
  {
   "cell_type": "code",
   "execution_count": 52,
   "metadata": {},
   "outputs": [],
   "source": [
    "# Extracting the columns which are to be imputed from the training dataframe\n",
    "df_impute=df_train[col_to_impute]"
   ]
  },
  {
   "cell_type": "code",
   "execution_count": 53,
   "metadata": {},
   "outputs": [],
   "source": [
    "# Concatenating the two dataframes for missing values imputation by using the ML\n",
    "df_train=pd.concat([df_impute,df_dummies],axis=1)"
   ]
  },
  {
   "cell_type": "code",
   "execution_count": 54,
   "metadata": {},
   "outputs": [
    {
     "data": {
      "text/html": [
       "<div>\n",
       "<style scoped>\n",
       "    .dataframe tbody tr th:only-of-type {\n",
       "        vertical-align: middle;\n",
       "    }\n",
       "\n",
       "    .dataframe tbody tr th {\n",
       "        vertical-align: top;\n",
       "    }\n",
       "\n",
       "    .dataframe thead th {\n",
       "        text-align: right;\n",
       "    }\n",
       "</style>\n",
       "<table border=\"1\" class=\"dataframe\">\n",
       "  <thead>\n",
       "    <tr style=\"text-align: right;\">\n",
       "      <th></th>\n",
       "      <th>Work Pressure</th>\n",
       "      <th>Job Satisfaction</th>\n",
       "      <th>Age</th>\n",
       "      <th>City</th>\n",
       "      <th>Profession</th>\n",
       "      <th>Degree</th>\n",
       "      <th>Work/Study Hours</th>\n",
       "      <th>Gender_Male</th>\n",
       "      <th>Working Professional or Student_Working Professional</th>\n",
       "      <th>Academic Pressure_2.0</th>\n",
       "      <th>Academic Pressure_3.0</th>\n",
       "      <th>Academic Pressure_4.0</th>\n",
       "      <th>Academic Pressure_5.0</th>\n",
       "      <th>Academic Pressure_Missing_Value</th>\n",
       "      <th>CGPA_6-7</th>\n",
       "      <th>CGPA_7-8</th>\n",
       "      <th>CGPA_8-9</th>\n",
       "      <th>CGPA_9-10</th>\n",
       "      <th>CGPA_Missing_Value</th>\n",
       "      <th>Study Satisfaction_2.0</th>\n",
       "      <th>Study Satisfaction_3.0</th>\n",
       "      <th>Study Satisfaction_4.0</th>\n",
       "      <th>Study Satisfaction_5.0</th>\n",
       "      <th>Study Satisfaction_Missing_Value</th>\n",
       "      <th>Sleep Duration_7-8 hours</th>\n",
       "      <th>Sleep Duration_Less than 5 hours</th>\n",
       "      <th>Sleep Duration_More than 8 hours</th>\n",
       "      <th>Sleep Duration_Others</th>\n",
       "      <th>Dietary Habits_Moderate</th>\n",
       "      <th>Dietary Habits_Others</th>\n",
       "      <th>Dietary Habits_Unhealthy</th>\n",
       "      <th>Have you ever had suicidal thoughts ?_Yes</th>\n",
       "      <th>Financial Stress_2.0</th>\n",
       "      <th>Financial Stress_3.0</th>\n",
       "      <th>Financial Stress_4.0</th>\n",
       "      <th>Financial Stress_5.0</th>\n",
       "      <th>Family History of Mental Illness_Yes</th>\n",
       "    </tr>\n",
       "  </thead>\n",
       "  <tbody>\n",
       "    <tr>\n",
       "      <th>0</th>\n",
       "      <td>5.0</td>\n",
       "      <td>2.0</td>\n",
       "      <td>0.738095</td>\n",
       "      <td>5226</td>\n",
       "      <td>2862</td>\n",
       "      <td>4305</td>\n",
       "      <td>0.083333</td>\n",
       "      <td>0</td>\n",
       "      <td>1</td>\n",
       "      <td>0</td>\n",
       "      <td>0</td>\n",
       "      <td>0</td>\n",
       "      <td>0</td>\n",
       "      <td>1</td>\n",
       "      <td>0</td>\n",
       "      <td>0</td>\n",
       "      <td>0</td>\n",
       "      <td>0</td>\n",
       "      <td>1</td>\n",
       "      <td>0</td>\n",
       "      <td>0</td>\n",
       "      <td>0</td>\n",
       "      <td>0</td>\n",
       "      <td>1</td>\n",
       "      <td>0</td>\n",
       "      <td>0</td>\n",
       "      <td>1</td>\n",
       "      <td>0</td>\n",
       "      <td>0</td>\n",
       "      <td>0</td>\n",
       "      <td>0</td>\n",
       "      <td>0</td>\n",
       "      <td>1</td>\n",
       "      <td>0</td>\n",
       "      <td>0</td>\n",
       "      <td>0</td>\n",
       "      <td>0</td>\n",
       "    </tr>\n",
       "    <tr>\n",
       "      <th>1</th>\n",
       "      <td>4.0</td>\n",
       "      <td>3.0</td>\n",
       "      <td>0.190476</td>\n",
       "      <td>4606</td>\n",
       "      <td>24906</td>\n",
       "      <td>4348</td>\n",
       "      <td>0.583333</td>\n",
       "      <td>1</td>\n",
       "      <td>1</td>\n",
       "      <td>0</td>\n",
       "      <td>0</td>\n",
       "      <td>0</td>\n",
       "      <td>0</td>\n",
       "      <td>1</td>\n",
       "      <td>0</td>\n",
       "      <td>0</td>\n",
       "      <td>0</td>\n",
       "      <td>0</td>\n",
       "      <td>1</td>\n",
       "      <td>0</td>\n",
       "      <td>0</td>\n",
       "      <td>0</td>\n",
       "      <td>0</td>\n",
       "      <td>1</td>\n",
       "      <td>0</td>\n",
       "      <td>1</td>\n",
       "      <td>0</td>\n",
       "      <td>0</td>\n",
       "      <td>0</td>\n",
       "      <td>0</td>\n",
       "      <td>1</td>\n",
       "      <td>1</td>\n",
       "      <td>0</td>\n",
       "      <td>1</td>\n",
       "      <td>0</td>\n",
       "      <td>0</td>\n",
       "      <td>0</td>\n",
       "    </tr>\n",
       "    <tr>\n",
       "      <th>2</th>\n",
       "      <td>NaN</td>\n",
       "      <td>NaN</td>\n",
       "      <td>0.357143</td>\n",
       "      <td>5176</td>\n",
       "      <td>36630</td>\n",
       "      <td>5856</td>\n",
       "      <td>0.250000</td>\n",
       "      <td>1</td>\n",
       "      <td>0</td>\n",
       "      <td>0</td>\n",
       "      <td>0</td>\n",
       "      <td>0</td>\n",
       "      <td>1</td>\n",
       "      <td>0</td>\n",
       "      <td>0</td>\n",
       "      <td>0</td>\n",
       "      <td>1</td>\n",
       "      <td>0</td>\n",
       "      <td>0</td>\n",
       "      <td>1</td>\n",
       "      <td>0</td>\n",
       "      <td>0</td>\n",
       "      <td>0</td>\n",
       "      <td>0</td>\n",
       "      <td>0</td>\n",
       "      <td>0</td>\n",
       "      <td>0</td>\n",
       "      <td>0</td>\n",
       "      <td>0</td>\n",
       "      <td>0</td>\n",
       "      <td>0</td>\n",
       "      <td>1</td>\n",
       "      <td>0</td>\n",
       "      <td>0</td>\n",
       "      <td>0</td>\n",
       "      <td>0</td>\n",
       "      <td>0</td>\n",
       "    </tr>\n",
       "    <tr>\n",
       "      <th>3</th>\n",
       "      <td>5.0</td>\n",
       "      <td>1.0</td>\n",
       "      <td>0.095238</td>\n",
       "      <td>4966</td>\n",
       "      <td>24906</td>\n",
       "      <td>5030</td>\n",
       "      <td>0.833333</td>\n",
       "      <td>1</td>\n",
       "      <td>1</td>\n",
       "      <td>0</td>\n",
       "      <td>0</td>\n",
       "      <td>0</td>\n",
       "      <td>0</td>\n",
       "      <td>1</td>\n",
       "      <td>0</td>\n",
       "      <td>0</td>\n",
       "      <td>0</td>\n",
       "      <td>0</td>\n",
       "      <td>1</td>\n",
       "      <td>0</td>\n",
       "      <td>0</td>\n",
       "      <td>0</td>\n",
       "      <td>0</td>\n",
       "      <td>1</td>\n",
       "      <td>0</td>\n",
       "      <td>1</td>\n",
       "      <td>0</td>\n",
       "      <td>0</td>\n",
       "      <td>1</td>\n",
       "      <td>0</td>\n",
       "      <td>0</td>\n",
       "      <td>1</td>\n",
       "      <td>0</td>\n",
       "      <td>0</td>\n",
       "      <td>0</td>\n",
       "      <td>0</td>\n",
       "      <td>1</td>\n",
       "    </tr>\n",
       "    <tr>\n",
       "      <th>4</th>\n",
       "      <td>1.0</td>\n",
       "      <td>1.0</td>\n",
       "      <td>0.285714</td>\n",
       "      <td>4398</td>\n",
       "      <td>3161</td>\n",
       "      <td>5030</td>\n",
       "      <td>0.750000</td>\n",
       "      <td>0</td>\n",
       "      <td>1</td>\n",
       "      <td>0</td>\n",
       "      <td>0</td>\n",
       "      <td>0</td>\n",
       "      <td>0</td>\n",
       "      <td>1</td>\n",
       "      <td>0</td>\n",
       "      <td>0</td>\n",
       "      <td>0</td>\n",
       "      <td>0</td>\n",
       "      <td>1</td>\n",
       "      <td>0</td>\n",
       "      <td>0</td>\n",
       "      <td>0</td>\n",
       "      <td>0</td>\n",
       "      <td>1</td>\n",
       "      <td>0</td>\n",
       "      <td>0</td>\n",
       "      <td>0</td>\n",
       "      <td>0</td>\n",
       "      <td>0</td>\n",
       "      <td>0</td>\n",
       "      <td>1</td>\n",
       "      <td>1</td>\n",
       "      <td>0</td>\n",
       "      <td>0</td>\n",
       "      <td>1</td>\n",
       "      <td>0</td>\n",
       "      <td>1</td>\n",
       "    </tr>\n",
       "  </tbody>\n",
       "</table>\n",
       "</div>"
      ],
      "text/plain": [
       "   Work Pressure  Job Satisfaction       Age  City  Profession  Degree  \\\n",
       "0            5.0               2.0  0.738095  5226        2862    4305   \n",
       "1            4.0               3.0  0.190476  4606       24906    4348   \n",
       "2            NaN               NaN  0.357143  5176       36630    5856   \n",
       "3            5.0               1.0  0.095238  4966       24906    5030   \n",
       "4            1.0               1.0  0.285714  4398        3161    5030   \n",
       "\n",
       "   Work/Study Hours  Gender_Male  \\\n",
       "0          0.083333            0   \n",
       "1          0.583333            1   \n",
       "2          0.250000            1   \n",
       "3          0.833333            1   \n",
       "4          0.750000            0   \n",
       "\n",
       "   Working Professional or Student_Working Professional  \\\n",
       "0                                                  1      \n",
       "1                                                  1      \n",
       "2                                                  0      \n",
       "3                                                  1      \n",
       "4                                                  1      \n",
       "\n",
       "   Academic Pressure_2.0  Academic Pressure_3.0  Academic Pressure_4.0  \\\n",
       "0                      0                      0                      0   \n",
       "1                      0                      0                      0   \n",
       "2                      0                      0                      0   \n",
       "3                      0                      0                      0   \n",
       "4                      0                      0                      0   \n",
       "\n",
       "   Academic Pressure_5.0  Academic Pressure_Missing_Value  CGPA_6-7  CGPA_7-8  \\\n",
       "0                      0                                1         0         0   \n",
       "1                      0                                1         0         0   \n",
       "2                      1                                0         0         0   \n",
       "3                      0                                1         0         0   \n",
       "4                      0                                1         0         0   \n",
       "\n",
       "   CGPA_8-9  CGPA_9-10  CGPA_Missing_Value  Study Satisfaction_2.0  \\\n",
       "0         0          0                   1                       0   \n",
       "1         0          0                   1                       0   \n",
       "2         1          0                   0                       1   \n",
       "3         0          0                   1                       0   \n",
       "4         0          0                   1                       0   \n",
       "\n",
       "   Study Satisfaction_3.0  Study Satisfaction_4.0  Study Satisfaction_5.0  \\\n",
       "0                       0                       0                       0   \n",
       "1                       0                       0                       0   \n",
       "2                       0                       0                       0   \n",
       "3                       0                       0                       0   \n",
       "4                       0                       0                       0   \n",
       "\n",
       "   Study Satisfaction_Missing_Value  Sleep Duration_7-8 hours  \\\n",
       "0                                 1                         0   \n",
       "1                                 1                         0   \n",
       "2                                 0                         0   \n",
       "3                                 1                         0   \n",
       "4                                 1                         0   \n",
       "\n",
       "   Sleep Duration_Less than 5 hours  Sleep Duration_More than 8 hours  \\\n",
       "0                                 0                                 1   \n",
       "1                                 1                                 0   \n",
       "2                                 0                                 0   \n",
       "3                                 1                                 0   \n",
       "4                                 0                                 0   \n",
       "\n",
       "   Sleep Duration_Others  Dietary Habits_Moderate  Dietary Habits_Others  \\\n",
       "0                      0                        0                      0   \n",
       "1                      0                        0                      0   \n",
       "2                      0                        0                      0   \n",
       "3                      0                        1                      0   \n",
       "4                      0                        0                      0   \n",
       "\n",
       "   Dietary Habits_Unhealthy  Have you ever had suicidal thoughts ?_Yes  \\\n",
       "0                         0                                          0   \n",
       "1                         1                                          1   \n",
       "2                         0                                          1   \n",
       "3                         0                                          1   \n",
       "4                         1                                          1   \n",
       "\n",
       "   Financial Stress_2.0  Financial Stress_3.0  Financial Stress_4.0  \\\n",
       "0                     1                     0                     0   \n",
       "1                     0                     1                     0   \n",
       "2                     0                     0                     0   \n",
       "3                     0                     0                     0   \n",
       "4                     0                     0                     1   \n",
       "\n",
       "   Financial Stress_5.0  Family History of Mental Illness_Yes  \n",
       "0                     0                                     0  \n",
       "1                     0                                     0  \n",
       "2                     0                                     0  \n",
       "3                     0                                     1  \n",
       "4                     0                                     1  "
      ]
     },
     "execution_count": 54,
     "metadata": {},
     "output_type": "execute_result"
    }
   ],
   "source": [
    "#Checking the top 5 rows\n",
    "df_train.head()"
   ]
  },
  {
   "cell_type": "code",
   "execution_count": 55,
   "metadata": {},
   "outputs": [],
   "source": [
    "# Creating an index column so that merging will be easier in future \n",
    "df_train.insert(loc=0,column='Index',value=df_train.index)"
   ]
  },
  {
   "cell_type": "code",
   "execution_count": 56,
   "metadata": {},
   "outputs": [],
   "source": [
    "# Dropping the other target imputation columns\n",
    "job_train_data=df_train.drop(['Work Pressure'],axis=1)\n",
    "work_train_data=df_train.drop(['Job Satisfaction'],axis=1)"
   ]
  },
  {
   "cell_type": "code",
   "execution_count": 57,
   "metadata": {},
   "outputs": [],
   "source": [
    "# Making datasets for training the algorithm to impute the missing values\n",
    "\n",
    "df_job_train=job_train_data[~job_train_data['Job Satisfaction'].isnull()]\n",
    "df_job_test=job_train_data[job_train_data['Job Satisfaction'].isnull()]\n",
    "\n",
    "df_work_train=work_train_data[~work_train_data['Work Pressure'].isnull()]\n",
    "df_work_test=work_train_data[work_train_data['Work Pressure'].isnull()]"
   ]
  },
  {
   "cell_type": "markdown",
   "metadata": {},
   "source": [
    "### The below given model buidling step can be automised by defining a function / class in future"
   ]
  },
  {
   "cell_type": "markdown",
   "metadata": {},
   "source": [
    "#### For finding out the Job Satisfaction for the missing entries"
   ]
  },
  {
   "cell_type": "code",
   "execution_count": 58,
   "metadata": {},
   "outputs": [],
   "source": [
    "# Extracting the required variables for training \n",
    "y_train=df_job_train['Job Satisfaction'].astype(int)\n",
    "X_train=df_job_train.copy()\n",
    "X_train.pop('Job Satisfaction')\n",
    "X_test=df_job_test.drop(['Job Satisfaction'],axis=1)\n",
    "\n",
    "# The values of y should start from 0 in order to apply the XGBoost algorithm\n",
    "y_train=y_train-1"
   ]
  },
  {
   "cell_type": "code",
   "execution_count": 59,
   "metadata": {},
   "outputs": [
    {
     "data": {
      "text/html": [
       "<style>#sk-container-id-1 {color: black;}#sk-container-id-1 pre{padding: 0;}#sk-container-id-1 div.sk-toggleable {background-color: white;}#sk-container-id-1 label.sk-toggleable__label {cursor: pointer;display: block;width: 100%;margin-bottom: 0;padding: 0.3em;box-sizing: border-box;text-align: center;}#sk-container-id-1 label.sk-toggleable__label-arrow:before {content: \"▸\";float: left;margin-right: 0.25em;color: #696969;}#sk-container-id-1 label.sk-toggleable__label-arrow:hover:before {color: black;}#sk-container-id-1 div.sk-estimator:hover label.sk-toggleable__label-arrow:before {color: black;}#sk-container-id-1 div.sk-toggleable__content {max-height: 0;max-width: 0;overflow: hidden;text-align: left;background-color: #f0f8ff;}#sk-container-id-1 div.sk-toggleable__content pre {margin: 0.2em;color: black;border-radius: 0.25em;background-color: #f0f8ff;}#sk-container-id-1 input.sk-toggleable__control:checked~div.sk-toggleable__content {max-height: 200px;max-width: 100%;overflow: auto;}#sk-container-id-1 input.sk-toggleable__control:checked~label.sk-toggleable__label-arrow:before {content: \"▾\";}#sk-container-id-1 div.sk-estimator input.sk-toggleable__control:checked~label.sk-toggleable__label {background-color: #d4ebff;}#sk-container-id-1 div.sk-label input.sk-toggleable__control:checked~label.sk-toggleable__label {background-color: #d4ebff;}#sk-container-id-1 input.sk-hidden--visually {border: 0;clip: rect(1px 1px 1px 1px);clip: rect(1px, 1px, 1px, 1px);height: 1px;margin: -1px;overflow: hidden;padding: 0;position: absolute;width: 1px;}#sk-container-id-1 div.sk-estimator {font-family: monospace;background-color: #f0f8ff;border: 1px dotted black;border-radius: 0.25em;box-sizing: border-box;margin-bottom: 0.5em;}#sk-container-id-1 div.sk-estimator:hover {background-color: #d4ebff;}#sk-container-id-1 div.sk-parallel-item::after {content: \"\";width: 100%;border-bottom: 1px solid gray;flex-grow: 1;}#sk-container-id-1 div.sk-label:hover label.sk-toggleable__label {background-color: #d4ebff;}#sk-container-id-1 div.sk-serial::before {content: \"\";position: absolute;border-left: 1px solid gray;box-sizing: border-box;top: 0;bottom: 0;left: 50%;z-index: 0;}#sk-container-id-1 div.sk-serial {display: flex;flex-direction: column;align-items: center;background-color: white;padding-right: 0.2em;padding-left: 0.2em;position: relative;}#sk-container-id-1 div.sk-item {position: relative;z-index: 1;}#sk-container-id-1 div.sk-parallel {display: flex;align-items: stretch;justify-content: center;background-color: white;position: relative;}#sk-container-id-1 div.sk-item::before, #sk-container-id-1 div.sk-parallel-item::before {content: \"\";position: absolute;border-left: 1px solid gray;box-sizing: border-box;top: 0;bottom: 0;left: 50%;z-index: -1;}#sk-container-id-1 div.sk-parallel-item {display: flex;flex-direction: column;z-index: 1;position: relative;background-color: white;}#sk-container-id-1 div.sk-parallel-item:first-child::after {align-self: flex-end;width: 50%;}#sk-container-id-1 div.sk-parallel-item:last-child::after {align-self: flex-start;width: 50%;}#sk-container-id-1 div.sk-parallel-item:only-child::after {width: 0;}#sk-container-id-1 div.sk-dashed-wrapped {border: 1px dashed gray;margin: 0 0.4em 0.5em 0.4em;box-sizing: border-box;padding-bottom: 0.4em;background-color: white;}#sk-container-id-1 div.sk-label label {font-family: monospace;font-weight: bold;display: inline-block;line-height: 1.2em;}#sk-container-id-1 div.sk-label-container {text-align: center;}#sk-container-id-1 div.sk-container {/* jupyter's `normalize.less` sets `[hidden] { display: none; }` but bootstrap.min.css set `[hidden] { display: none !important; }` so we also need the `!important` here to be able to override the default hidden behavior on the sphinx rendered scikit-learn.org. See: https://github.com/scikit-learn/scikit-learn/issues/21755 */display: inline-block !important;position: relative;}#sk-container-id-1 div.sk-text-repr-fallback {display: none;}</style><div id=\"sk-container-id-1\" class=\"sk-top-container\"><div class=\"sk-text-repr-fallback\"><pre>XGBClassifier(base_score=None, booster=None, callbacks=None,\n",
       "              colsample_bylevel=None, colsample_bynode=None,\n",
       "              colsample_bytree=None, early_stopping_rounds=None,\n",
       "              enable_categorical=False, eta=0.1, eval_metric=&#x27;mlogloss&#x27;,\n",
       "              feature_types=None, gamma=None, gpu_id=None, grow_policy=None,\n",
       "              importance_type=None, interaction_constraints=None,\n",
       "              learning_rate=None, max_bin=None, max_cat_threshold=None,\n",
       "              max_cat_to_onehot=None, max_delta_step=None, max_depth=5,\n",
       "              max_leaves=None, min_child_weight=None, missing=nan,\n",
       "              monotone_constraints=None, n_estimators=100, n_jobs=None,\n",
       "              num_class=5, num_parallel_tree=None, ...)</pre><b>In a Jupyter environment, please rerun this cell to show the HTML representation or trust the notebook. <br />On GitHub, the HTML representation is unable to render, please try loading this page with nbviewer.org.</b></div><div class=\"sk-container\" hidden><div class=\"sk-item\"><div class=\"sk-estimator sk-toggleable\"><input class=\"sk-toggleable__control sk-hidden--visually\" id=\"sk-estimator-id-1\" type=\"checkbox\" checked><label for=\"sk-estimator-id-1\" class=\"sk-toggleable__label sk-toggleable__label-arrow\">XGBClassifier</label><div class=\"sk-toggleable__content\"><pre>XGBClassifier(base_score=None, booster=None, callbacks=None,\n",
       "              colsample_bylevel=None, colsample_bynode=None,\n",
       "              colsample_bytree=None, early_stopping_rounds=None,\n",
       "              enable_categorical=False, eta=0.1, eval_metric=&#x27;mlogloss&#x27;,\n",
       "              feature_types=None, gamma=None, gpu_id=None, grow_policy=None,\n",
       "              importance_type=None, interaction_constraints=None,\n",
       "              learning_rate=None, max_bin=None, max_cat_threshold=None,\n",
       "              max_cat_to_onehot=None, max_delta_step=None, max_depth=5,\n",
       "              max_leaves=None, min_child_weight=None, missing=nan,\n",
       "              monotone_constraints=None, n_estimators=100, n_jobs=None,\n",
       "              num_class=5, num_parallel_tree=None, ...)</pre></div></div></div></div></div>"
      ],
      "text/plain": [
       "XGBClassifier(base_score=None, booster=None, callbacks=None,\n",
       "              colsample_bylevel=None, colsample_bynode=None,\n",
       "              colsample_bytree=None, early_stopping_rounds=None,\n",
       "              enable_categorical=False, eta=0.1, eval_metric='mlogloss',\n",
       "              feature_types=None, gamma=None, gpu_id=None, grow_policy=None,\n",
       "              importance_type=None, interaction_constraints=None,\n",
       "              learning_rate=None, max_bin=None, max_cat_threshold=None,\n",
       "              max_cat_to_onehot=None, max_delta_step=None, max_depth=5,\n",
       "              max_leaves=None, min_child_weight=None, missing=nan,\n",
       "              monotone_constraints=None, n_estimators=100, n_jobs=None,\n",
       "              num_class=5, num_parallel_tree=None, ...)"
      ]
     },
     "execution_count": 59,
     "metadata": {},
     "output_type": "execute_result"
    }
   ],
   "source": [
    "# Preparing the model \n",
    "model_job= xgb.XGBClassifier(\n",
    "                          objective='multi:softmax',\n",
    "                          num_class=y_train.nunique(),\n",
    "                          eval_metric='mlogloss',\n",
    "                          max_depth=5,\n",
    "                          eta=0.1\n",
    "                          )\n",
    "\n",
    "# Fitting the model\n",
    "model_job.fit(X=X_train,y=y_train)"
   ]
  },
  {
   "cell_type": "code",
   "execution_count": 60,
   "metadata": {},
   "outputs": [],
   "source": [
    "# Predicting the outputs for test data\n",
    "y_test=model_job.predict(X_test)\n",
    "\n",
    "# Creating a new dataframe of y_test\n",
    "y_test=pd.DataFrame(y_test,columns=['Job Satisfaction'])\n",
    "\n",
    "# Resetting the index as using concat will have problems when the indices of the y_test & X_test will be different\n",
    "X_test.reset_index(drop=True,inplace=True)\n",
    "y_test.reset_index(drop=True,inplace=True)\n",
    "\n",
    "# Concatenating the X_test & y _test\n",
    "df_job_test=pd.concat([y_test,X_test],axis=1)\n"
   ]
  },
  {
   "cell_type": "markdown",
   "metadata": {},
   "source": [
    "#### For finding out the Work Pressure for the missing entries"
   ]
  },
  {
   "cell_type": "code",
   "execution_count": 61,
   "metadata": {},
   "outputs": [],
   "source": [
    "# Extracting the required variables for training \n",
    "y_train=df_work_train['Work Pressure'].astype(int)\n",
    "X_train=df_work_train.copy()\n",
    "X_train.pop('Work Pressure')\n",
    "X_test=df_work_test.drop(['Work Pressure'],axis=1)\n",
    "\n",
    "# The values of y should start from 0 in order to apply the XGBoost algorithm\n",
    "y_train=y_train-1"
   ]
  },
  {
   "cell_type": "code",
   "execution_count": 62,
   "metadata": {},
   "outputs": [
    {
     "data": {
      "text/html": [
       "<style>#sk-container-id-2 {color: black;}#sk-container-id-2 pre{padding: 0;}#sk-container-id-2 div.sk-toggleable {background-color: white;}#sk-container-id-2 label.sk-toggleable__label {cursor: pointer;display: block;width: 100%;margin-bottom: 0;padding: 0.3em;box-sizing: border-box;text-align: center;}#sk-container-id-2 label.sk-toggleable__label-arrow:before {content: \"▸\";float: left;margin-right: 0.25em;color: #696969;}#sk-container-id-2 label.sk-toggleable__label-arrow:hover:before {color: black;}#sk-container-id-2 div.sk-estimator:hover label.sk-toggleable__label-arrow:before {color: black;}#sk-container-id-2 div.sk-toggleable__content {max-height: 0;max-width: 0;overflow: hidden;text-align: left;background-color: #f0f8ff;}#sk-container-id-2 div.sk-toggleable__content pre {margin: 0.2em;color: black;border-radius: 0.25em;background-color: #f0f8ff;}#sk-container-id-2 input.sk-toggleable__control:checked~div.sk-toggleable__content {max-height: 200px;max-width: 100%;overflow: auto;}#sk-container-id-2 input.sk-toggleable__control:checked~label.sk-toggleable__label-arrow:before {content: \"▾\";}#sk-container-id-2 div.sk-estimator input.sk-toggleable__control:checked~label.sk-toggleable__label {background-color: #d4ebff;}#sk-container-id-2 div.sk-label input.sk-toggleable__control:checked~label.sk-toggleable__label {background-color: #d4ebff;}#sk-container-id-2 input.sk-hidden--visually {border: 0;clip: rect(1px 1px 1px 1px);clip: rect(1px, 1px, 1px, 1px);height: 1px;margin: -1px;overflow: hidden;padding: 0;position: absolute;width: 1px;}#sk-container-id-2 div.sk-estimator {font-family: monospace;background-color: #f0f8ff;border: 1px dotted black;border-radius: 0.25em;box-sizing: border-box;margin-bottom: 0.5em;}#sk-container-id-2 div.sk-estimator:hover {background-color: #d4ebff;}#sk-container-id-2 div.sk-parallel-item::after {content: \"\";width: 100%;border-bottom: 1px solid gray;flex-grow: 1;}#sk-container-id-2 div.sk-label:hover label.sk-toggleable__label {background-color: #d4ebff;}#sk-container-id-2 div.sk-serial::before {content: \"\";position: absolute;border-left: 1px solid gray;box-sizing: border-box;top: 0;bottom: 0;left: 50%;z-index: 0;}#sk-container-id-2 div.sk-serial {display: flex;flex-direction: column;align-items: center;background-color: white;padding-right: 0.2em;padding-left: 0.2em;position: relative;}#sk-container-id-2 div.sk-item {position: relative;z-index: 1;}#sk-container-id-2 div.sk-parallel {display: flex;align-items: stretch;justify-content: center;background-color: white;position: relative;}#sk-container-id-2 div.sk-item::before, #sk-container-id-2 div.sk-parallel-item::before {content: \"\";position: absolute;border-left: 1px solid gray;box-sizing: border-box;top: 0;bottom: 0;left: 50%;z-index: -1;}#sk-container-id-2 div.sk-parallel-item {display: flex;flex-direction: column;z-index: 1;position: relative;background-color: white;}#sk-container-id-2 div.sk-parallel-item:first-child::after {align-self: flex-end;width: 50%;}#sk-container-id-2 div.sk-parallel-item:last-child::after {align-self: flex-start;width: 50%;}#sk-container-id-2 div.sk-parallel-item:only-child::after {width: 0;}#sk-container-id-2 div.sk-dashed-wrapped {border: 1px dashed gray;margin: 0 0.4em 0.5em 0.4em;box-sizing: border-box;padding-bottom: 0.4em;background-color: white;}#sk-container-id-2 div.sk-label label {font-family: monospace;font-weight: bold;display: inline-block;line-height: 1.2em;}#sk-container-id-2 div.sk-label-container {text-align: center;}#sk-container-id-2 div.sk-container {/* jupyter's `normalize.less` sets `[hidden] { display: none; }` but bootstrap.min.css set `[hidden] { display: none !important; }` so we also need the `!important` here to be able to override the default hidden behavior on the sphinx rendered scikit-learn.org. See: https://github.com/scikit-learn/scikit-learn/issues/21755 */display: inline-block !important;position: relative;}#sk-container-id-2 div.sk-text-repr-fallback {display: none;}</style><div id=\"sk-container-id-2\" class=\"sk-top-container\"><div class=\"sk-text-repr-fallback\"><pre>XGBClassifier(base_score=None, booster=None, callbacks=None,\n",
       "              colsample_bylevel=None, colsample_bynode=None,\n",
       "              colsample_bytree=None, early_stopping_rounds=None,\n",
       "              enable_categorical=False, eta=0.1, eval_metric=&#x27;mlogloss&#x27;,\n",
       "              feature_types=None, gamma=None, gpu_id=None, grow_policy=None,\n",
       "              importance_type=None, interaction_constraints=None,\n",
       "              learning_rate=None, max_bin=None, max_cat_threshold=None,\n",
       "              max_cat_to_onehot=None, max_delta_step=None, max_depth=5,\n",
       "              max_leaves=None, min_child_weight=None, missing=nan,\n",
       "              monotone_constraints=None, n_estimators=100, n_jobs=None,\n",
       "              num_class=5, num_parallel_tree=None, ...)</pre><b>In a Jupyter environment, please rerun this cell to show the HTML representation or trust the notebook. <br />On GitHub, the HTML representation is unable to render, please try loading this page with nbviewer.org.</b></div><div class=\"sk-container\" hidden><div class=\"sk-item\"><div class=\"sk-estimator sk-toggleable\"><input class=\"sk-toggleable__control sk-hidden--visually\" id=\"sk-estimator-id-2\" type=\"checkbox\" checked><label for=\"sk-estimator-id-2\" class=\"sk-toggleable__label sk-toggleable__label-arrow\">XGBClassifier</label><div class=\"sk-toggleable__content\"><pre>XGBClassifier(base_score=None, booster=None, callbacks=None,\n",
       "              colsample_bylevel=None, colsample_bynode=None,\n",
       "              colsample_bytree=None, early_stopping_rounds=None,\n",
       "              enable_categorical=False, eta=0.1, eval_metric=&#x27;mlogloss&#x27;,\n",
       "              feature_types=None, gamma=None, gpu_id=None, grow_policy=None,\n",
       "              importance_type=None, interaction_constraints=None,\n",
       "              learning_rate=None, max_bin=None, max_cat_threshold=None,\n",
       "              max_cat_to_onehot=None, max_delta_step=None, max_depth=5,\n",
       "              max_leaves=None, min_child_weight=None, missing=nan,\n",
       "              monotone_constraints=None, n_estimators=100, n_jobs=None,\n",
       "              num_class=5, num_parallel_tree=None, ...)</pre></div></div></div></div></div>"
      ],
      "text/plain": [
       "XGBClassifier(base_score=None, booster=None, callbacks=None,\n",
       "              colsample_bylevel=None, colsample_bynode=None,\n",
       "              colsample_bytree=None, early_stopping_rounds=None,\n",
       "              enable_categorical=False, eta=0.1, eval_metric='mlogloss',\n",
       "              feature_types=None, gamma=None, gpu_id=None, grow_policy=None,\n",
       "              importance_type=None, interaction_constraints=None,\n",
       "              learning_rate=None, max_bin=None, max_cat_threshold=None,\n",
       "              max_cat_to_onehot=None, max_delta_step=None, max_depth=5,\n",
       "              max_leaves=None, min_child_weight=None, missing=nan,\n",
       "              monotone_constraints=None, n_estimators=100, n_jobs=None,\n",
       "              num_class=5, num_parallel_tree=None, ...)"
      ]
     },
     "execution_count": 62,
     "metadata": {},
     "output_type": "execute_result"
    }
   ],
   "source": [
    "# Preparing the model \n",
    "model_work= xgb.XGBClassifier(\n",
    "                          objective='multi:softmax',\n",
    "                          num_class=y_train.nunique(),\n",
    "                          eval_metric='mlogloss',\n",
    "                          max_depth=5,\n",
    "                          eta=0.1\n",
    "                          )\n",
    "\n",
    "# Fitting the model\n",
    "model_work.fit(X=X_train,y=y_train)"
   ]
  },
  {
   "cell_type": "code",
   "execution_count": 63,
   "metadata": {},
   "outputs": [],
   "source": [
    "# Predicting the outputs for test data\n",
    "y_test=model_work.predict(X_test)\n",
    "\n",
    "# Creating a new dataframe of y_test\n",
    "y_test=pd.DataFrame(y_test,columns=['Work Pressure'])\n",
    "\n",
    "# Resetting the index as using concat will have problems when the indices of the y_test & X_test will be different\n",
    "X_test.reset_index(drop=True,inplace=True)\n",
    "y_test.reset_index(drop=True,inplace=True)\n",
    "\n",
    "# Concatenating the X_test & y _test\n",
    "df_work_test=pd.concat([y_test,X_test],axis=1)"
   ]
  },
  {
   "cell_type": "code",
   "execution_count": 64,
   "metadata": {},
   "outputs": [],
   "source": [
    "# Concatenating the dataframes vertically\n",
    "\n",
    "df_work_test.reset_index(drop=True,inplace=True)\n",
    "df_work_train.reset_index(drop=True,inplace=True)\n",
    "df_job_test.reset_index(drop=True,inplace=True)\n",
    "df_job_train.reset_index(drop=True,inplace=True)\n",
    "\n",
    "df_work=pd.concat([df_work_test,df_work_train],axis=0)\n",
    "df_job=pd.concat([df_job_test,df_job_train],axis=0)"
   ]
  },
  {
   "cell_type": "code",
   "execution_count": 65,
   "metadata": {},
   "outputs": [],
   "source": [
    "# Merging the dataframes\n",
    "sep_suffix=\"_to_drop\"\n",
    "df_train=pd.merge(left=df_work,right=df_job,on='Index',suffixes=[\"\",sep_suffix])\n",
    "col_to_drop=[col for col in df_train.columns if sep_suffix not in col]\n",
    "df_train=df_train[col_to_drop]"
   ]
  },
  {
   "cell_type": "code",
   "execution_count": 66,
   "metadata": {},
   "outputs": [],
   "source": [
    "# Using the previously defined indexes to use them again as index\n",
    "df_train.set_index(df_train['Index'],inplace=True)\n",
    "df_train.sort_index(inplace=True)\n",
    "\n",
    "cols_rqd=[col for col in df_train.columns if 'Index' not in col ]\n",
    "df_train=df_train[cols_rqd]"
   ]
  },
  {
   "cell_type": "markdown",
   "metadata": {},
   "source": [
    "### Even though for job and work I can do one hot encoding , I will opt not to do it as XGBoost can handle this effectively."
   ]
  },
  {
   "cell_type": "code",
   "execution_count": 67,
   "metadata": {},
   "outputs": [],
   "source": [
    "# Adding the depression column for training\n",
    "df_train.insert(loc=0,column='Depression',value=y_train_final)"
   ]
  },
  {
   "cell_type": "code",
   "execution_count": 68,
   "metadata": {},
   "outputs": [],
   "source": [
    "# Making a copy of the dataset( Before going for final model ) --> Will be deleted in next revisions\n",
    "df=df_train.copy()"
   ]
  },
  {
   "cell_type": "code",
   "execution_count": 69,
   "metadata": {},
   "outputs": [],
   "source": [
    "# Extracting X& y\n",
    "y=df.pop('Depression')\n",
    "X=df.copy()"
   ]
  },
  {
   "cell_type": "code",
   "execution_count": 70,
   "metadata": {},
   "outputs": [],
   "source": [
    "# Doing the train test split\n",
    "X_train,X_test,y_train,y_test=train_test_split(X,y,test_size=0.25,random_state=42)"
   ]
  },
  {
   "cell_type": "code",
   "execution_count": 71,
   "metadata": {},
   "outputs": [],
   "source": [
    "# Defining the model\n",
    "model= xgb.XGBClassifier(\n",
    "                          objective='binary:logistic',\n",
    "                          eval_metric='logloss',\n",
    "                          max_depth=5,\n",
    "                          eta=0.3,\n",
    "                          n_estimators=100\n",
    "                          )"
   ]
  },
  {
   "cell_type": "code",
   "execution_count": 72,
   "metadata": {},
   "outputs": [
    {
     "data": {
      "text/html": [
       "<style>#sk-container-id-3 {color: black;}#sk-container-id-3 pre{padding: 0;}#sk-container-id-3 div.sk-toggleable {background-color: white;}#sk-container-id-3 label.sk-toggleable__label {cursor: pointer;display: block;width: 100%;margin-bottom: 0;padding: 0.3em;box-sizing: border-box;text-align: center;}#sk-container-id-3 label.sk-toggleable__label-arrow:before {content: \"▸\";float: left;margin-right: 0.25em;color: #696969;}#sk-container-id-3 label.sk-toggleable__label-arrow:hover:before {color: black;}#sk-container-id-3 div.sk-estimator:hover label.sk-toggleable__label-arrow:before {color: black;}#sk-container-id-3 div.sk-toggleable__content {max-height: 0;max-width: 0;overflow: hidden;text-align: left;background-color: #f0f8ff;}#sk-container-id-3 div.sk-toggleable__content pre {margin: 0.2em;color: black;border-radius: 0.25em;background-color: #f0f8ff;}#sk-container-id-3 input.sk-toggleable__control:checked~div.sk-toggleable__content {max-height: 200px;max-width: 100%;overflow: auto;}#sk-container-id-3 input.sk-toggleable__control:checked~label.sk-toggleable__label-arrow:before {content: \"▾\";}#sk-container-id-3 div.sk-estimator input.sk-toggleable__control:checked~label.sk-toggleable__label {background-color: #d4ebff;}#sk-container-id-3 div.sk-label input.sk-toggleable__control:checked~label.sk-toggleable__label {background-color: #d4ebff;}#sk-container-id-3 input.sk-hidden--visually {border: 0;clip: rect(1px 1px 1px 1px);clip: rect(1px, 1px, 1px, 1px);height: 1px;margin: -1px;overflow: hidden;padding: 0;position: absolute;width: 1px;}#sk-container-id-3 div.sk-estimator {font-family: monospace;background-color: #f0f8ff;border: 1px dotted black;border-radius: 0.25em;box-sizing: border-box;margin-bottom: 0.5em;}#sk-container-id-3 div.sk-estimator:hover {background-color: #d4ebff;}#sk-container-id-3 div.sk-parallel-item::after {content: \"\";width: 100%;border-bottom: 1px solid gray;flex-grow: 1;}#sk-container-id-3 div.sk-label:hover label.sk-toggleable__label {background-color: #d4ebff;}#sk-container-id-3 div.sk-serial::before {content: \"\";position: absolute;border-left: 1px solid gray;box-sizing: border-box;top: 0;bottom: 0;left: 50%;z-index: 0;}#sk-container-id-3 div.sk-serial {display: flex;flex-direction: column;align-items: center;background-color: white;padding-right: 0.2em;padding-left: 0.2em;position: relative;}#sk-container-id-3 div.sk-item {position: relative;z-index: 1;}#sk-container-id-3 div.sk-parallel {display: flex;align-items: stretch;justify-content: center;background-color: white;position: relative;}#sk-container-id-3 div.sk-item::before, #sk-container-id-3 div.sk-parallel-item::before {content: \"\";position: absolute;border-left: 1px solid gray;box-sizing: border-box;top: 0;bottom: 0;left: 50%;z-index: -1;}#sk-container-id-3 div.sk-parallel-item {display: flex;flex-direction: column;z-index: 1;position: relative;background-color: white;}#sk-container-id-3 div.sk-parallel-item:first-child::after {align-self: flex-end;width: 50%;}#sk-container-id-3 div.sk-parallel-item:last-child::after {align-self: flex-start;width: 50%;}#sk-container-id-3 div.sk-parallel-item:only-child::after {width: 0;}#sk-container-id-3 div.sk-dashed-wrapped {border: 1px dashed gray;margin: 0 0.4em 0.5em 0.4em;box-sizing: border-box;padding-bottom: 0.4em;background-color: white;}#sk-container-id-3 div.sk-label label {font-family: monospace;font-weight: bold;display: inline-block;line-height: 1.2em;}#sk-container-id-3 div.sk-label-container {text-align: center;}#sk-container-id-3 div.sk-container {/* jupyter's `normalize.less` sets `[hidden] { display: none; }` but bootstrap.min.css set `[hidden] { display: none !important; }` so we also need the `!important` here to be able to override the default hidden behavior on the sphinx rendered scikit-learn.org. See: https://github.com/scikit-learn/scikit-learn/issues/21755 */display: inline-block !important;position: relative;}#sk-container-id-3 div.sk-text-repr-fallback {display: none;}</style><div id=\"sk-container-id-3\" class=\"sk-top-container\"><div class=\"sk-text-repr-fallback\"><pre>XGBClassifier(base_score=None, booster=None, callbacks=None,\n",
       "              colsample_bylevel=None, colsample_bynode=None,\n",
       "              colsample_bytree=None, early_stopping_rounds=None,\n",
       "              enable_categorical=False, eta=0.3, eval_metric=&#x27;logloss&#x27;,\n",
       "              feature_types=None, gamma=None, gpu_id=None, grow_policy=None,\n",
       "              importance_type=None, interaction_constraints=None,\n",
       "              learning_rate=None, max_bin=None, max_cat_threshold=None,\n",
       "              max_cat_to_onehot=None, max_delta_step=None, max_depth=5,\n",
       "              max_leaves=None, min_child_weight=None, missing=nan,\n",
       "              monotone_constraints=None, n_estimators=100, n_jobs=None,\n",
       "              num_parallel_tree=None, predictor=None, ...)</pre><b>In a Jupyter environment, please rerun this cell to show the HTML representation or trust the notebook. <br />On GitHub, the HTML representation is unable to render, please try loading this page with nbviewer.org.</b></div><div class=\"sk-container\" hidden><div class=\"sk-item\"><div class=\"sk-estimator sk-toggleable\"><input class=\"sk-toggleable__control sk-hidden--visually\" id=\"sk-estimator-id-3\" type=\"checkbox\" checked><label for=\"sk-estimator-id-3\" class=\"sk-toggleable__label sk-toggleable__label-arrow\">XGBClassifier</label><div class=\"sk-toggleable__content\"><pre>XGBClassifier(base_score=None, booster=None, callbacks=None,\n",
       "              colsample_bylevel=None, colsample_bynode=None,\n",
       "              colsample_bytree=None, early_stopping_rounds=None,\n",
       "              enable_categorical=False, eta=0.3, eval_metric=&#x27;logloss&#x27;,\n",
       "              feature_types=None, gamma=None, gpu_id=None, grow_policy=None,\n",
       "              importance_type=None, interaction_constraints=None,\n",
       "              learning_rate=None, max_bin=None, max_cat_threshold=None,\n",
       "              max_cat_to_onehot=None, max_delta_step=None, max_depth=5,\n",
       "              max_leaves=None, min_child_weight=None, missing=nan,\n",
       "              monotone_constraints=None, n_estimators=100, n_jobs=None,\n",
       "              num_parallel_tree=None, predictor=None, ...)</pre></div></div></div></div></div>"
      ],
      "text/plain": [
       "XGBClassifier(base_score=None, booster=None, callbacks=None,\n",
       "              colsample_bylevel=None, colsample_bynode=None,\n",
       "              colsample_bytree=None, early_stopping_rounds=None,\n",
       "              enable_categorical=False, eta=0.3, eval_metric='logloss',\n",
       "              feature_types=None, gamma=None, gpu_id=None, grow_policy=None,\n",
       "              importance_type=None, interaction_constraints=None,\n",
       "              learning_rate=None, max_bin=None, max_cat_threshold=None,\n",
       "              max_cat_to_onehot=None, max_delta_step=None, max_depth=5,\n",
       "              max_leaves=None, min_child_weight=None, missing=nan,\n",
       "              monotone_constraints=None, n_estimators=100, n_jobs=None,\n",
       "              num_parallel_tree=None, predictor=None, ...)"
      ]
     },
     "execution_count": 72,
     "metadata": {},
     "output_type": "execute_result"
    }
   ],
   "source": [
    "# Fitting the model\n",
    "model.fit(X=X_train,y=y_train)"
   ]
  },
  {
   "cell_type": "code",
   "execution_count": 73,
   "metadata": {},
   "outputs": [],
   "source": [
    "# Predicting for unseen data\n",
    "y_pred=model.predict(X_test)"
   ]
  },
  {
   "cell_type": "code",
   "execution_count": 74,
   "metadata": {},
   "outputs": [
    {
     "data": {
      "text/plain": [
       "array([[27747,   973],\n",
       "       [ 1207,  5248]], dtype=int64)"
      ]
     },
     "execution_count": 74,
     "metadata": {},
     "output_type": "execute_result"
    }
   ],
   "source": [
    "# Calculating the confusion matrix\n",
    "confusion_matrix(y_true=y_test,y_pred=y_pred)"
   ]
  },
  {
   "cell_type": "code",
   "execution_count": 75,
   "metadata": {},
   "outputs": [
    {
     "data": {
      "text/plain": [
       "0.9380241648898365"
      ]
     },
     "execution_count": 75,
     "metadata": {},
     "output_type": "execute_result"
    }
   ],
   "source": [
    "# Calculating accuracy score --> But will need to improve the study by using precison and recall so that we do not miss anyone who is suffering from depression\n",
    "accuracy_score(y_test,y_pred)"
   ]
  },
  {
   "cell_type": "markdown",
   "metadata": {},
   "source": [
    "### Checking the performance on the train dataset"
   ]
  },
  {
   "cell_type": "code",
   "execution_count": 76,
   "metadata": {},
   "outputs": [],
   "source": [
    "# Checking the performance on the train data set\n",
    "y_pred=model.predict(X_train)"
   ]
  },
  {
   "cell_type": "code",
   "execution_count": 77,
   "metadata": {},
   "outputs": [
    {
     "data": {
      "text/plain": [
       "array([[84019,  2394],\n",
       "       [ 3099, 16013]], dtype=int64)"
      ]
     },
     "execution_count": 77,
     "metadata": {},
     "output_type": "execute_result"
    }
   ],
   "source": [
    "# Calculating the confusion matrix\n",
    "confusion_matrix(y_true=y_train,y_pred=y_pred)"
   ]
  },
  {
   "cell_type": "code",
   "execution_count": 78,
   "metadata": {},
   "outputs": [
    {
     "data": {
      "text/plain": [
       "0.9479459843638948"
      ]
     },
     "execution_count": 78,
     "metadata": {},
     "output_type": "execute_result"
    }
   ],
   "source": [
    "# Calculating the accuracy score\n",
    "accuracy_score(y_train,y_pred)"
   ]
  },
  {
   "cell_type": "markdown",
   "metadata": {},
   "source": [
    "### Fitting the model on the whole train data set & Checking the performance"
   ]
  },
  {
   "cell_type": "code",
   "execution_count": 79,
   "metadata": {},
   "outputs": [],
   "source": [
    "# Initialize and train CatBoost\n",
    "model_cat = CatBoostClassifier(\n",
    "    iterations=2000,\n",
    "    learning_rate=0.05,\n",
    "    depth=5,\n",
    "    verbose=10\n",
    ")\n"
   ]
  },
  {
   "cell_type": "code",
   "execution_count": 80,
   "metadata": {},
   "outputs": [
    {
     "name": "stdout",
     "output_type": "stream",
     "text": [
      "0:\tlearn: 0.6146373\ttotal: 195ms\tremaining: 6m 29s\n",
      "10:\tlearn: 0.2879749\ttotal: 529ms\tremaining: 1m 35s\n",
      "20:\tlearn: 0.2257676\ttotal: 849ms\tremaining: 1m 20s\n",
      "30:\tlearn: 0.1977201\ttotal: 1.41s\tremaining: 1m 29s\n",
      "40:\tlearn: 0.1855574\ttotal: 1.73s\tremaining: 1m 22s\n",
      "50:\tlearn: 0.1778487\ttotal: 2.05s\tremaining: 1m 18s\n",
      "60:\tlearn: 0.1730587\ttotal: 2.38s\tremaining: 1m 15s\n",
      "70:\tlearn: 0.1694638\ttotal: 2.65s\tremaining: 1m 11s\n",
      "80:\tlearn: 0.1666958\ttotal: 2.92s\tremaining: 1m 9s\n",
      "90:\tlearn: 0.1643954\ttotal: 3.19s\tremaining: 1m 6s\n",
      "100:\tlearn: 0.1626503\ttotal: 3.45s\tremaining: 1m 4s\n",
      "110:\tlearn: 0.1610914\ttotal: 3.73s\tremaining: 1m 3s\n",
      "120:\tlearn: 0.1599274\ttotal: 4.11s\tremaining: 1m 3s\n",
      "130:\tlearn: 0.1585965\ttotal: 4.4s\tremaining: 1m 2s\n",
      "140:\tlearn: 0.1576382\ttotal: 5.03s\tremaining: 1m 6s\n",
      "150:\tlearn: 0.1568937\ttotal: 5.63s\tremaining: 1m 8s\n",
      "160:\tlearn: 0.1561334\ttotal: 5.98s\tremaining: 1m 8s\n",
      "170:\tlearn: 0.1554378\ttotal: 6.31s\tremaining: 1m 7s\n",
      "180:\tlearn: 0.1549100\ttotal: 6.59s\tremaining: 1m 6s\n",
      "190:\tlearn: 0.1543727\ttotal: 6.85s\tremaining: 1m 4s\n",
      "200:\tlearn: 0.1538842\ttotal: 7.12s\tremaining: 1m 3s\n",
      "210:\tlearn: 0.1535188\ttotal: 7.42s\tremaining: 1m 2s\n",
      "220:\tlearn: 0.1531545\ttotal: 7.76s\tremaining: 1m 2s\n",
      "230:\tlearn: 0.1528391\ttotal: 8.01s\tremaining: 1m 1s\n",
      "240:\tlearn: 0.1525178\ttotal: 8.3s\tremaining: 1m\n",
      "250:\tlearn: 0.1522206\ttotal: 8.67s\tremaining: 1m\n",
      "260:\tlearn: 0.1518674\ttotal: 9.04s\tremaining: 1m\n",
      "270:\tlearn: 0.1515791\ttotal: 9.42s\tremaining: 1m\n",
      "280:\tlearn: 0.1513165\ttotal: 9.66s\tremaining: 59.1s\n",
      "290:\tlearn: 0.1510799\ttotal: 9.93s\tremaining: 58.3s\n",
      "300:\tlearn: 0.1508482\ttotal: 10.2s\tremaining: 57.6s\n",
      "310:\tlearn: 0.1506141\ttotal: 10.8s\tremaining: 58.4s\n",
      "320:\tlearn: 0.1503772\ttotal: 11.3s\tremaining: 59.1s\n",
      "330:\tlearn: 0.1501364\ttotal: 11.7s\tremaining: 58.8s\n",
      "340:\tlearn: 0.1498934\ttotal: 11.9s\tremaining: 58s\n",
      "350:\tlearn: 0.1496819\ttotal: 12.3s\tremaining: 57.6s\n",
      "360:\tlearn: 0.1494594\ttotal: 12.6s\tremaining: 57.3s\n",
      "370:\tlearn: 0.1492650\ttotal: 12.9s\tremaining: 56.7s\n",
      "380:\tlearn: 0.1490468\ttotal: 13.2s\tremaining: 56s\n",
      "390:\tlearn: 0.1488540\ttotal: 13.5s\tremaining: 55.4s\n",
      "400:\tlearn: 0.1486587\ttotal: 13.8s\tremaining: 54.9s\n",
      "410:\tlearn: 0.1484845\ttotal: 14.1s\tremaining: 54.6s\n",
      "420:\tlearn: 0.1482935\ttotal: 14.4s\tremaining: 53.9s\n",
      "430:\tlearn: 0.1481243\ttotal: 14.6s\tremaining: 53.3s\n",
      "440:\tlearn: 0.1479620\ttotal: 14.9s\tremaining: 52.7s\n",
      "450:\tlearn: 0.1477986\ttotal: 15.2s\tremaining: 52.3s\n",
      "460:\tlearn: 0.1476418\ttotal: 15.5s\tremaining: 51.8s\n",
      "470:\tlearn: 0.1474520\ttotal: 15.9s\tremaining: 51.5s\n",
      "480:\tlearn: 0.1472909\ttotal: 16.2s\tremaining: 51.2s\n",
      "490:\tlearn: 0.1471186\ttotal: 16.5s\tremaining: 50.8s\n",
      "500:\tlearn: 0.1469636\ttotal: 16.9s\tremaining: 50.7s\n",
      "510:\tlearn: 0.1468246\ttotal: 17.2s\tremaining: 50.2s\n",
      "520:\tlearn: 0.1466663\ttotal: 17.5s\tremaining: 49.7s\n",
      "530:\tlearn: 0.1465194\ttotal: 17.8s\tremaining: 49.3s\n",
      "540:\tlearn: 0.1463682\ttotal: 18.1s\tremaining: 48.8s\n",
      "550:\tlearn: 0.1462158\ttotal: 18.3s\tremaining: 48.2s\n",
      "560:\tlearn: 0.1460808\ttotal: 18.6s\tremaining: 47.7s\n",
      "570:\tlearn: 0.1459352\ttotal: 18.8s\tremaining: 47.2s\n",
      "580:\tlearn: 0.1457859\ttotal: 19.1s\tremaining: 46.6s\n",
      "590:\tlearn: 0.1456522\ttotal: 19.3s\tremaining: 46.1s\n",
      "600:\tlearn: 0.1455162\ttotal: 19.7s\tremaining: 45.8s\n",
      "610:\tlearn: 0.1453928\ttotal: 20s\tremaining: 45.5s\n",
      "620:\tlearn: 0.1452536\ttotal: 20.3s\tremaining: 45s\n",
      "630:\tlearn: 0.1451094\ttotal: 20.5s\tremaining: 44.5s\n",
      "640:\tlearn: 0.1449850\ttotal: 20.8s\tremaining: 44.1s\n",
      "650:\tlearn: 0.1448265\ttotal: 21.1s\tremaining: 43.6s\n",
      "660:\tlearn: 0.1446793\ttotal: 21.3s\tremaining: 43.2s\n",
      "670:\tlearn: 0.1445556\ttotal: 21.6s\tremaining: 42.7s\n",
      "680:\tlearn: 0.1444417\ttotal: 21.8s\tremaining: 42.3s\n",
      "690:\tlearn: 0.1443076\ttotal: 22.1s\tremaining: 41.8s\n",
      "700:\tlearn: 0.1441739\ttotal: 22.3s\tremaining: 41.4s\n",
      "710:\tlearn: 0.1440594\ttotal: 22.6s\tremaining: 41s\n",
      "720:\tlearn: 0.1439371\ttotal: 23s\tremaining: 40.7s\n",
      "730:\tlearn: 0.1438034\ttotal: 23.5s\tremaining: 40.7s\n",
      "740:\tlearn: 0.1436787\ttotal: 23.8s\tremaining: 40.4s\n",
      "750:\tlearn: 0.1435547\ttotal: 24.1s\tremaining: 40.1s\n",
      "760:\tlearn: 0.1434198\ttotal: 24.4s\tremaining: 39.7s\n",
      "770:\tlearn: 0.1433106\ttotal: 24.6s\tremaining: 39.3s\n",
      "780:\tlearn: 0.1432061\ttotal: 24.9s\tremaining: 38.9s\n",
      "790:\tlearn: 0.1430736\ttotal: 25.2s\tremaining: 38.5s\n",
      "800:\tlearn: 0.1429505\ttotal: 25.4s\tremaining: 38s\n",
      "810:\tlearn: 0.1428443\ttotal: 25.7s\tremaining: 37.6s\n",
      "820:\tlearn: 0.1427107\ttotal: 25.9s\tremaining: 37.2s\n",
      "830:\tlearn: 0.1425883\ttotal: 26.2s\tremaining: 36.8s\n",
      "840:\tlearn: 0.1424825\ttotal: 26.4s\tremaining: 36.4s\n",
      "850:\tlearn: 0.1423569\ttotal: 26.7s\tremaining: 36s\n",
      "860:\tlearn: 0.1422496\ttotal: 27.1s\tremaining: 35.8s\n",
      "870:\tlearn: 0.1421369\ttotal: 27.4s\tremaining: 35.6s\n",
      "880:\tlearn: 0.1420208\ttotal: 27.7s\tremaining: 35.2s\n",
      "890:\tlearn: 0.1418947\ttotal: 28s\tremaining: 34.8s\n",
      "900:\tlearn: 0.1417804\ttotal: 28.3s\tremaining: 34.5s\n",
      "910:\tlearn: 0.1416776\ttotal: 28.6s\tremaining: 34.2s\n",
      "920:\tlearn: 0.1415631\ttotal: 28.9s\tremaining: 33.9s\n",
      "930:\tlearn: 0.1414525\ttotal: 29.3s\tremaining: 33.7s\n",
      "940:\tlearn: 0.1413460\ttotal: 29.6s\tremaining: 33.3s\n",
      "950:\tlearn: 0.1412397\ttotal: 30s\tremaining: 33.1s\n",
      "960:\tlearn: 0.1411357\ttotal: 30.3s\tremaining: 32.8s\n",
      "970:\tlearn: 0.1410225\ttotal: 30.7s\tremaining: 32.5s\n",
      "980:\tlearn: 0.1409217\ttotal: 31.1s\tremaining: 32.4s\n",
      "990:\tlearn: 0.1408277\ttotal: 31.5s\tremaining: 32.1s\n",
      "1000:\tlearn: 0.1407159\ttotal: 31.8s\tremaining: 31.7s\n",
      "1010:\tlearn: 0.1406090\ttotal: 32.1s\tremaining: 31.4s\n",
      "1020:\tlearn: 0.1405027\ttotal: 32.3s\tremaining: 31s\n",
      "1030:\tlearn: 0.1404024\ttotal: 32.6s\tremaining: 30.7s\n",
      "1040:\tlearn: 0.1403059\ttotal: 33s\tremaining: 30.4s\n",
      "1050:\tlearn: 0.1402050\ttotal: 33.3s\tremaining: 30.1s\n",
      "1060:\tlearn: 0.1401128\ttotal: 33.6s\tremaining: 29.8s\n",
      "1070:\tlearn: 0.1400122\ttotal: 33.9s\tremaining: 29.4s\n",
      "1080:\tlearn: 0.1399128\ttotal: 34.2s\tremaining: 29.1s\n",
      "1090:\tlearn: 0.1398278\ttotal: 34.8s\tremaining: 29s\n",
      "1100:\tlearn: 0.1397230\ttotal: 35.2s\tremaining: 28.8s\n",
      "1110:\tlearn: 0.1396185\ttotal: 35.5s\tremaining: 28.4s\n",
      "1120:\tlearn: 0.1395272\ttotal: 35.8s\tremaining: 28s\n",
      "1130:\tlearn: 0.1394029\ttotal: 36s\tremaining: 27.7s\n",
      "1140:\tlearn: 0.1393030\ttotal: 36.3s\tremaining: 27.3s\n",
      "1150:\tlearn: 0.1391984\ttotal: 36.6s\tremaining: 27s\n",
      "1160:\tlearn: 0.1390975\ttotal: 36.8s\tremaining: 26.6s\n",
      "1170:\tlearn: 0.1390004\ttotal: 37.1s\tremaining: 26.3s\n",
      "1180:\tlearn: 0.1388984\ttotal: 37.4s\tremaining: 25.9s\n",
      "1190:\tlearn: 0.1388050\ttotal: 37.6s\tremaining: 25.6s\n",
      "1200:\tlearn: 0.1386975\ttotal: 37.9s\tremaining: 25.2s\n",
      "1210:\tlearn: 0.1386017\ttotal: 38.2s\tremaining: 24.9s\n",
      "1220:\tlearn: 0.1385047\ttotal: 38.6s\tremaining: 24.6s\n",
      "1230:\tlearn: 0.1384134\ttotal: 38.9s\tremaining: 24.3s\n",
      "1240:\tlearn: 0.1383299\ttotal: 39.1s\tremaining: 23.9s\n",
      "1250:\tlearn: 0.1382236\ttotal: 39.5s\tremaining: 23.6s\n",
      "1260:\tlearn: 0.1381444\ttotal: 39.8s\tremaining: 23.3s\n",
      "1270:\tlearn: 0.1380490\ttotal: 40.1s\tremaining: 23s\n",
      "1280:\tlearn: 0.1379557\ttotal: 40.4s\tremaining: 22.7s\n",
      "1290:\tlearn: 0.1378643\ttotal: 40.8s\tremaining: 22.4s\n",
      "1300:\tlearn: 0.1377632\ttotal: 41.1s\tremaining: 22.1s\n",
      "1310:\tlearn: 0.1376722\ttotal: 41.4s\tremaining: 21.8s\n",
      "1320:\tlearn: 0.1375812\ttotal: 41.7s\tremaining: 21.4s\n",
      "1330:\tlearn: 0.1374885\ttotal: 42.1s\tremaining: 21.2s\n",
      "1340:\tlearn: 0.1373941\ttotal: 42.5s\tremaining: 20.9s\n",
      "1350:\tlearn: 0.1372990\ttotal: 42.8s\tremaining: 20.6s\n",
      "1360:\tlearn: 0.1372055\ttotal: 43.1s\tremaining: 20.2s\n",
      "1370:\tlearn: 0.1371151\ttotal: 43.3s\tremaining: 19.9s\n",
      "1380:\tlearn: 0.1370308\ttotal: 43.7s\tremaining: 19.6s\n",
      "1390:\tlearn: 0.1369519\ttotal: 44s\tremaining: 19.2s\n",
      "1400:\tlearn: 0.1368638\ttotal: 44.2s\tremaining: 18.9s\n",
      "1410:\tlearn: 0.1367723\ttotal: 44.5s\tremaining: 18.6s\n",
      "1420:\tlearn: 0.1367051\ttotal: 44.9s\tremaining: 18.3s\n",
      "1430:\tlearn: 0.1366161\ttotal: 45.1s\tremaining: 17.9s\n",
      "1440:\tlearn: 0.1365256\ttotal: 45.4s\tremaining: 17.6s\n",
      "1450:\tlearn: 0.1364410\ttotal: 45.8s\tremaining: 17.3s\n",
      "1460:\tlearn: 0.1363496\ttotal: 46.2s\tremaining: 17.1s\n",
      "1470:\tlearn: 0.1362660\ttotal: 46.5s\tremaining: 16.7s\n",
      "1480:\tlearn: 0.1361834\ttotal: 46.8s\tremaining: 16.4s\n",
      "1490:\tlearn: 0.1360950\ttotal: 47s\tremaining: 16.1s\n",
      "1500:\tlearn: 0.1360098\ttotal: 47.3s\tremaining: 15.7s\n",
      "1510:\tlearn: 0.1359124\ttotal: 47.6s\tremaining: 15.4s\n",
      "1520:\tlearn: 0.1358198\ttotal: 47.8s\tremaining: 15.1s\n",
      "1530:\tlearn: 0.1357373\ttotal: 48.1s\tremaining: 14.7s\n",
      "1540:\tlearn: 0.1356694\ttotal: 48.4s\tremaining: 14.4s\n",
      "1550:\tlearn: 0.1355965\ttotal: 48.7s\tremaining: 14.1s\n",
      "1560:\tlearn: 0.1355106\ttotal: 49s\tremaining: 13.8s\n",
      "1570:\tlearn: 0.1354073\ttotal: 49.3s\tremaining: 13.5s\n",
      "1580:\tlearn: 0.1353050\ttotal: 49.7s\tremaining: 13.2s\n",
      "1590:\tlearn: 0.1352200\ttotal: 50s\tremaining: 12.9s\n",
      "1600:\tlearn: 0.1351443\ttotal: 50.3s\tremaining: 12.5s\n",
      "1610:\tlearn: 0.1350641\ttotal: 50.6s\tremaining: 12.2s\n",
      "1620:\tlearn: 0.1349872\ttotal: 51s\tremaining: 11.9s\n",
      "1630:\tlearn: 0.1349036\ttotal: 51.3s\tremaining: 11.6s\n",
      "1640:\tlearn: 0.1348146\ttotal: 51.6s\tremaining: 11.3s\n",
      "1650:\tlearn: 0.1347401\ttotal: 52s\tremaining: 11s\n",
      "1660:\tlearn: 0.1346652\ttotal: 52.3s\tremaining: 10.7s\n",
      "1670:\tlearn: 0.1345789\ttotal: 52.7s\tremaining: 10.4s\n",
      "1680:\tlearn: 0.1344964\ttotal: 53.2s\tremaining: 10.1s\n",
      "1690:\tlearn: 0.1344126\ttotal: 53.5s\tremaining: 9.78s\n",
      "1700:\tlearn: 0.1343245\ttotal: 53.8s\tremaining: 9.46s\n",
      "1710:\tlearn: 0.1342536\ttotal: 54.1s\tremaining: 9.14s\n",
      "1720:\tlearn: 0.1341758\ttotal: 54.3s\tremaining: 8.81s\n",
      "1730:\tlearn: 0.1340963\ttotal: 54.6s\tremaining: 8.48s\n",
      "1740:\tlearn: 0.1340141\ttotal: 54.8s\tremaining: 8.16s\n",
      "1750:\tlearn: 0.1339373\ttotal: 55.1s\tremaining: 7.84s\n",
      "1760:\tlearn: 0.1338609\ttotal: 55.4s\tremaining: 7.51s\n",
      "1770:\tlearn: 0.1337791\ttotal: 55.7s\tremaining: 7.2s\n",
      "1780:\tlearn: 0.1336971\ttotal: 56s\tremaining: 6.89s\n",
      "1790:\tlearn: 0.1336151\ttotal: 56.3s\tremaining: 6.56s\n",
      "1800:\tlearn: 0.1335258\ttotal: 56.8s\tremaining: 6.27s\n",
      "1810:\tlearn: 0.1334506\ttotal: 57.1s\tremaining: 5.96s\n",
      "1820:\tlearn: 0.1333638\ttotal: 57.4s\tremaining: 5.64s\n",
      "1830:\tlearn: 0.1332914\ttotal: 57.7s\tremaining: 5.33s\n",
      "1840:\tlearn: 0.1332125\ttotal: 58s\tremaining: 5.01s\n",
      "1850:\tlearn: 0.1331410\ttotal: 58.3s\tremaining: 4.69s\n",
      "1860:\tlearn: 0.1330568\ttotal: 58.5s\tremaining: 4.37s\n",
      "1870:\tlearn: 0.1329781\ttotal: 58.8s\tremaining: 4.06s\n",
      "1880:\tlearn: 0.1329142\ttotal: 59.1s\tremaining: 3.74s\n",
      "1890:\tlearn: 0.1328230\ttotal: 59.4s\tremaining: 3.42s\n",
      "1900:\tlearn: 0.1327344\ttotal: 59.7s\tremaining: 3.11s\n",
      "1910:\tlearn: 0.1326563\ttotal: 59.9s\tremaining: 2.79s\n",
      "1920:\tlearn: 0.1325809\ttotal: 1m\tremaining: 2.48s\n",
      "1930:\tlearn: 0.1324993\ttotal: 1m\tremaining: 2.16s\n",
      "1940:\tlearn: 0.1324259\ttotal: 1m\tremaining: 1.85s\n",
      "1950:\tlearn: 0.1323605\ttotal: 1m 1s\tremaining: 1.53s\n",
      "1960:\tlearn: 0.1322905\ttotal: 1m 1s\tremaining: 1.22s\n",
      "1970:\tlearn: 0.1322218\ttotal: 1m 1s\tremaining: 907ms\n",
      "1980:\tlearn: 0.1321474\ttotal: 1m 1s\tremaining: 593ms\n",
      "1990:\tlearn: 0.1320648\ttotal: 1m 2s\tremaining: 281ms\n",
      "1999:\tlearn: 0.1320026\ttotal: 1m 2s\tremaining: 0us\n"
     ]
    },
    {
     "data": {
      "text/plain": [
       "<catboost.core.CatBoostClassifier at 0x1c5ab90f580>"
      ]
     },
     "execution_count": 80,
     "metadata": {},
     "output_type": "execute_result"
    }
   ],
   "source": [
    "### Now using the whole dataset to train the model & this model will be used to finally validate the performance on Kaggle\n",
    "model_cat.fit(X=X,y=y)"
   ]
  },
  {
   "cell_type": "code",
   "execution_count": 81,
   "metadata": {},
   "outputs": [],
   "source": [
    "# Predicting for whole train data\n",
    "y_pred=model_cat.predict(X)"
   ]
  },
  {
   "cell_type": "code",
   "execution_count": 82,
   "metadata": {},
   "outputs": [
    {
     "data": {
      "text/plain": [
       "array([[111962,   3171],\n",
       "       [  4065,  21502]], dtype=int64)"
      ]
     },
     "execution_count": 82,
     "metadata": {},
     "output_type": "execute_result"
    }
   ],
   "source": [
    "# Calculating the confusion matrix\n",
    "confusion_matrix(y_true=y,y_pred=y_pred)"
   ]
  },
  {
   "cell_type": "code",
   "execution_count": 83,
   "metadata": {},
   "outputs": [
    {
     "data": {
      "text/plain": [
       "0.9485714285714286"
      ]
     },
     "execution_count": 83,
     "metadata": {},
     "output_type": "execute_result"
    }
   ],
   "source": [
    "# Calculating the accuracy score\n",
    "accuracy_score(y,y_pred)"
   ]
  },
  {
   "cell_type": "markdown",
   "metadata": {},
   "source": [
    "### Pre-processing the test dataset so that final model can be used for the prediction "
   ]
  },
  {
   "cell_type": "code",
   "execution_count": 84,
   "metadata": {},
   "outputs": [],
   "source": [
    "# Reading the train data again to copare the missing values in the test and train dataset\n",
    "df_train_check=pd.read_csv(train_data)"
   ]
  },
  {
   "cell_type": "code",
   "execution_count": 85,
   "metadata": {},
   "outputs": [],
   "source": [
    "# I decided to check the missing the values in test dataset and training dataset, to confirm if I can use the same strategy of missing value imputation on test data set as I used it on the train dataset\n",
    "def missing_value_comparae_train_test(train_data:pd.DataFrame,test_data:pd.DataFrame)->pd.DataFrame:\n",
    "  \"\"\"\n",
    "  Comparing the missing values in the training and testing dataset for the common columns.\n",
    "\n",
    "  Args :\n",
    "  train_data : Training Dataset\n",
    "  test_data : Testing Dataset\n",
    "\n",
    "  Returns:\n",
    "\n",
    "  A Data Frame showing the common columns along with their missing values  \n",
    "  \n",
    "  \"\"\"\n",
    "\n",
    "  # Checking if the common columns are available in the train and test dataset\n",
    "  common_columns=sorted(set(train_data.columns).intersection(set(test_data.columns)))\n",
    "\n",
    "  # Initiating missing values dictionary\n",
    "  missing_value_dict=defaultdict(list)\n",
    "\n",
    "  # Now iterating through each column\n",
    "  for each_col in common_columns:\n",
    "\n",
    "    # Extracting the required missing values for train and test \n",
    "    train_missing=train_data[each_col].isnull().sum()\n",
    "    test_missing=test_data[each_col].isnull().sum() \n",
    "\n",
    "    # Checking if missing values are present\n",
    "    if train_missing!=0 or test_missing!=0:\n",
    "      missing_value_dict['Column_Name'].append(each_col)\n",
    "      missing_value_dict['Missing Values in Training Data'].append(train_missing)\n",
    "      missing_value_dict['Missing Values in Testing Data'].append(test_missing)\n",
    "      \n",
    "  df=pd.DataFrame(missing_value_dict)\n",
    "\n",
    "  return df\n"
   ]
  },
  {
   "cell_type": "code",
   "execution_count": 86,
   "metadata": {},
   "outputs": [
    {
     "data": {
      "text/html": [
       "<div>\n",
       "<style scoped>\n",
       "    .dataframe tbody tr th:only-of-type {\n",
       "        vertical-align: middle;\n",
       "    }\n",
       "\n",
       "    .dataframe tbody tr th {\n",
       "        vertical-align: top;\n",
       "    }\n",
       "\n",
       "    .dataframe thead th {\n",
       "        text-align: right;\n",
       "    }\n",
       "</style>\n",
       "<table border=\"1\" class=\"dataframe\">\n",
       "  <thead>\n",
       "    <tr style=\"text-align: right;\">\n",
       "      <th></th>\n",
       "      <th>Column_Name</th>\n",
       "      <th>Missing Values in Training Data</th>\n",
       "      <th>Missing Values in Testing Data</th>\n",
       "    </tr>\n",
       "  </thead>\n",
       "  <tbody>\n",
       "    <tr>\n",
       "      <th>0</th>\n",
       "      <td>Academic Pressure</td>\n",
       "      <td>112803</td>\n",
       "      <td>75033</td>\n",
       "    </tr>\n",
       "    <tr>\n",
       "      <th>1</th>\n",
       "      <td>CGPA</td>\n",
       "      <td>112802</td>\n",
       "      <td>75034</td>\n",
       "    </tr>\n",
       "    <tr>\n",
       "      <th>2</th>\n",
       "      <td>Degree</td>\n",
       "      <td>2</td>\n",
       "      <td>2</td>\n",
       "    </tr>\n",
       "    <tr>\n",
       "      <th>3</th>\n",
       "      <td>Dietary Habits</td>\n",
       "      <td>4</td>\n",
       "      <td>5</td>\n",
       "    </tr>\n",
       "    <tr>\n",
       "      <th>4</th>\n",
       "      <td>Financial Stress</td>\n",
       "      <td>4</td>\n",
       "      <td>0</td>\n",
       "    </tr>\n",
       "    <tr>\n",
       "      <th>5</th>\n",
       "      <td>Job Satisfaction</td>\n",
       "      <td>27910</td>\n",
       "      <td>18774</td>\n",
       "    </tr>\n",
       "    <tr>\n",
       "      <th>6</th>\n",
       "      <td>Profession</td>\n",
       "      <td>36630</td>\n",
       "      <td>24632</td>\n",
       "    </tr>\n",
       "    <tr>\n",
       "      <th>7</th>\n",
       "      <td>Study Satisfaction</td>\n",
       "      <td>112803</td>\n",
       "      <td>75033</td>\n",
       "    </tr>\n",
       "    <tr>\n",
       "      <th>8</th>\n",
       "      <td>Work Pressure</td>\n",
       "      <td>27918</td>\n",
       "      <td>18778</td>\n",
       "    </tr>\n",
       "  </tbody>\n",
       "</table>\n",
       "</div>"
      ],
      "text/plain": [
       "          Column_Name  Missing Values in Training Data  \\\n",
       "0   Academic Pressure                           112803   \n",
       "1                CGPA                           112802   \n",
       "2              Degree                                2   \n",
       "3      Dietary Habits                                4   \n",
       "4    Financial Stress                                4   \n",
       "5    Job Satisfaction                            27910   \n",
       "6          Profession                            36630   \n",
       "7  Study Satisfaction                           112803   \n",
       "8       Work Pressure                            27918   \n",
       "\n",
       "   Missing Values in Testing Data  \n",
       "0                           75033  \n",
       "1                           75034  \n",
       "2                               2  \n",
       "3                               5  \n",
       "4                               0  \n",
       "5                           18774  \n",
       "6                           24632  \n",
       "7                           75033  \n",
       "8                           18778  "
      ]
     },
     "execution_count": 86,
     "metadata": {},
     "output_type": "execute_result"
    }
   ],
   "source": [
    "# Checking the missing values in train & test data set\n",
    "missing_value_comparae_train_test(df_train_check,df_test)"
   ]
  },
  {
   "cell_type": "code",
   "execution_count": 87,
   "metadata": {},
   "outputs": [],
   "source": [
    "# Checking the columns in both dataframes are same or not \n",
    "column_train_checker=[]\n",
    "column_test_checker=[]\n",
    "for each_col in df_train_check.columns:\n",
    "  column_train_checker.append((each_col,any(each_col for col in df_test.columns if each_col==col )))\n",
    "\n",
    "for each_col in df_test.columns:\n",
    "  column_test_checker.append((each_col,any(each_col for col in df_train_check.columns if each_col==col )))"
   ]
  },
  {
   "cell_type": "code",
   "execution_count": 88,
   "metadata": {},
   "outputs": [
    {
     "name": "stdout",
     "output_type": "stream",
     "text": [
      "[('id', True), ('Name', True), ('Gender', True), ('Age', True), ('City', True), ('Working Professional or Student', True), ('Profession', True), ('Academic Pressure', True), ('Work Pressure', True), ('CGPA', True), ('Study Satisfaction', True), ('Job Satisfaction', True), ('Sleep Duration', True), ('Dietary Habits', True), ('Degree', True), ('Have you ever had suicidal thoughts ?', True), ('Work/Study Hours', True), ('Financial Stress', True), ('Family History of Mental Illness', True), ('Depression', False)]\n",
      "[('id', True), ('Name', True), ('Gender', True), ('Age', True), ('City', True), ('Working Professional or Student', True), ('Profession', True), ('Academic Pressure', True), ('Work Pressure', True), ('CGPA', True), ('Study Satisfaction', True), ('Job Satisfaction', True), ('Sleep Duration', True), ('Dietary Habits', True), ('Degree', True), ('Have you ever had suicidal thoughts ?', True), ('Work/Study Hours', True), ('Financial Stress', True), ('Family History of Mental Illness', True)]\n"
     ]
    }
   ],
   "source": [
    "#Checking the number of columns --> It is confirmed that only Depression column is missing in the Test Dataset\n",
    "print(column_train_checker)\n",
    "print(column_test_checker)"
   ]
  },
  {
   "cell_type": "markdown",
   "metadata": {},
   "source": [
    "### Now here onwards I will continue the preprocessing as I completed for the training dataset"
   ]
  },
  {
   "cell_type": "code",
   "execution_count": 89,
   "metadata": {},
   "outputs": [
    {
     "data": {
      "text/plain": [
       "id                                         int64\n",
       "Name                                      object\n",
       "Gender                                    object\n",
       "Age                                      float64\n",
       "City                                      object\n",
       "Working Professional or Student           object\n",
       "Profession                                object\n",
       "Academic Pressure                        float64\n",
       "Work Pressure                            float64\n",
       "CGPA                                     float64\n",
       "Study Satisfaction                       float64\n",
       "Job Satisfaction                         float64\n",
       "Sleep Duration                            object\n",
       "Dietary Habits                            object\n",
       "Degree                                    object\n",
       "Have you ever had suicidal thoughts ?     object\n",
       "Work/Study Hours                         float64\n",
       "Financial Stress                         float64\n",
       "Family History of Mental Illness          object\n",
       "dtype: object"
      ]
     },
     "execution_count": 89,
     "metadata": {},
     "output_type": "execute_result"
    }
   ],
   "source": [
    "# Checking the data types\n",
    "df_test.dtypes"
   ]
  },
  {
   "cell_type": "code",
   "execution_count": 90,
   "metadata": {},
   "outputs": [],
   "source": [
    "# Changing the data type of the Financial Stress to object\n",
    "df_test['Financial Stress']=df_test['Financial Stress'].astype(object)"
   ]
  },
  {
   "cell_type": "code",
   "execution_count": 91,
   "metadata": {},
   "outputs": [],
   "source": [
    "# Imputing the missing values in the columns (with low missing values) and which are categorical in nature by using mode\n",
    "for each_col,data_type in very_low_missing_values:\n",
    "  df_test[each_col]=df_test[each_col].fillna(df_test[each_col].mode()[0])\n",
    "  df_test[each_col]=df_test[each_col].astype(object)"
   ]
  },
  {
   "cell_type": "code",
   "execution_count": 92,
   "metadata": {},
   "outputs": [
    {
     "name": "stdout",
     "output_type": "stream",
     "text": [
      "For Academic Pressure\n",
      "The number of unique values are 5\n",
      "The statistics are count    18767.000000\n",
      "mean         3.158576\n",
      "std          1.386666\n",
      "min          1.000000\n",
      "25%          2.000000\n",
      "50%          3.000000\n",
      "75%          4.000000\n",
      "max          5.000000\n",
      "Name: Academic Pressure, dtype: float64\n",
      "The unique values are [nan  5.  1.  3.  4.  2.] \n",
      "\n",
      "For CGPA\n",
      "The number of unique values are 326\n",
      "The statistics are count    18766.000000\n",
      "mean         7.674016\n",
      "std          1.465056\n",
      "min          5.030000\n",
      "25%          6.330000\n",
      "50%          7.800000\n",
      "75%          8.940000\n",
      "max         10.000000\n",
      "Name: CGPA, dtype: float64\n",
      "\n",
      "\n",
      "For Study Satisfaction\n",
      "The number of unique values are 5\n",
      "The statistics are count    18767.000000\n",
      "mean         2.939522\n",
      "std          1.374242\n",
      "min          1.000000\n",
      "25%          2.000000\n",
      "50%          3.000000\n",
      "75%          4.000000\n",
      "max          5.000000\n",
      "Name: Study Satisfaction, dtype: float64\n",
      "The unique values are [nan  1.  3.  5.  2.  4.] \n",
      "\n"
     ]
    }
   ],
   "source": [
    "# Using the modular function to check the details for all columns with high missing values\n",
    "analyze_missing_value_columns(df_test,col_names_high_missing_value)"
   ]
  },
  {
   "cell_type": "code",
   "execution_count": 93,
   "metadata": {},
   "outputs": [
    {
     "name": "stdout",
     "output_type": "stream",
     "text": [
      "For Profession\n",
      "The number of unique values are 64\n",
      "The statistics are count       69168\n",
      "unique         64\n",
      "top       Teacher\n",
      "freq        16385\n",
      "Name: Profession, dtype: object\n",
      "\n",
      "\n",
      "For Work Pressure\n",
      "The number of unique values are 5\n",
      "The statistics are count    75022.000000\n",
      "mean         3.011797\n",
      "std          1.403563\n",
      "min          1.000000\n",
      "25%          2.000000\n",
      "50%          3.000000\n",
      "75%          4.000000\n",
      "max          5.000000\n",
      "Name: Work Pressure, dtype: float64\n",
      "The unique values are [ 2.  4. nan  5.  1.  3.] \n",
      "\n",
      "For Job Satisfaction\n",
      "The number of unique values are 5\n",
      "The statistics are count    75026.00000\n",
      "mean         2.96092\n",
      "std          1.41071\n",
      "min          1.00000\n",
      "25%          2.00000\n",
      "50%          3.00000\n",
      "75%          4.00000\n",
      "max          5.00000\n",
      "Name: Job Satisfaction, dtype: float64\n",
      "The unique values are [ 5.  4.  1. nan  3.  2.] \n",
      "\n"
     ]
    }
   ],
   "source": [
    "# Using the modular function to check the details for all columns with low missing values\n",
    "analyze_missing_value_columns(df_test,col_names_low_missing_value)"
   ]
  },
  {
   "cell_type": "code",
   "execution_count": 94,
   "metadata": {},
   "outputs": [],
   "source": [
    "# Replacing the CGPA column\n",
    "df_test.CGPA=df_test.CGPA.apply(lambda x : CGPA_BIN(x))"
   ]
  },
  {
   "cell_type": "code",
   "execution_count": 95,
   "metadata": {},
   "outputs": [],
   "source": [
    "# It is also clear that the Study satisfaction & the academic pressure needs to be treated as a categorical variable\n",
    "df_test['Academic Pressure']=df_test['Academic Pressure'].astype(object)\n",
    "df_test['Study Satisfaction']=df_test['Study Satisfaction'].astype(object)"
   ]
  },
  {
   "cell_type": "code",
   "execution_count": 96,
   "metadata": {},
   "outputs": [],
   "source": [
    "# Now replacing the missing values in Study satisfaction, CGPA & the academic pressure with \"Missing Value\"\n",
    "df_test['Academic Pressure']=df_test['Academic Pressure'].fillna(\"Missing_Value\")\n",
    "df_test['Study Satisfaction']=df_test['Study Satisfaction'].fillna(\"Missing_Value\")\n",
    "df_test['CGPA']=df_test['CGPA'].fillna(\"Missing_Value\")"
   ]
  },
  {
   "cell_type": "code",
   "execution_count": 97,
   "metadata": {},
   "outputs": [],
   "source": [
    "# Replacing the Missing Profession values with \"Missing Values\" & then using the frequncy encoding\n",
    "df_test['Profession']=df_test['Profession'].fillna('Missing Value')"
   ]
  },
  {
   "cell_type": "code",
   "execution_count": 98,
   "metadata": {},
   "outputs": [],
   "source": [
    "# Making a dataframe for preprocssing\n",
    "df_for_missing_val_imputation_test=df_test[col_series]"
   ]
  },
  {
   "cell_type": "code",
   "execution_count": 99,
   "metadata": {},
   "outputs": [
    {
     "name": "stdout",
     "output_type": "stream",
     "text": [
      "The City has below given unique values \n",
      " ['Visakhapatnam' 'Kolkata' 'Jaipur' 'Rajkot' 'Kalyan' 'Mumbai' 'Surat'\n",
      " 'Srinagar' 'Delhi' 'Lucknow' 'Thane' 'Meerut' 'Nagpur' 'Ghaziabad'\n",
      " 'Chennai' 'Varanasi' 'Indore' 'Pune' 'Hyderabad' 'Kanpur' 'Nashik'\n",
      " 'Bhopal' 'Faridabad' 'Bangalore' 'Vasai-Virar' 'Ludhiana' 'Patna'\n",
      " 'Vadodara' 'Ahmedabad' 'Agra' 'Malyan' 'Pratyush' 'Vidya'\n",
      " 'Less than 5 hours' 'Aditi' 'Keshav' 'Nalini' 'Mhopal' 'Avni' 'Ira'\n",
      " 'Vaishnavi' 'Bhavna' 'Lawyer' 'Thani' 'Hrithik' 'City' 'Unaly'\n",
      " 'Is Kanpur' 'Golkata' 'Less Delhi' 'Sara' 'Saurav' 'Vikram' 'Parth'\n",
      " 'Siddhesh' 'Vaikot' 'Leela' 'Chemist' 'San Vasai-Virar' 'No' 'More Delhi'\n",
      " 'Saanvi' 'Pratham' 'Vidhi' 'Abhinav' 'Rolkata' 'Ghopal' 'No.12'] \n",
      " \n",
      "\n",
      "The Profession has below given unique values \n",
      " ['Judge' 'Educational Consultant' 'Teacher' 'Missing Value'\n",
      " 'Customer Support' 'Chemist' 'Content Writer' 'Consultant' 'HR Manager'\n",
      " 'Research Analyst' 'Digital Marketer' 'Electrician' 'Marketing Manager'\n",
      " 'Plumber' 'Pharmacist' 'Lawyer' 'Pilot' 'Architect' 'Chef'\n",
      " 'Graphic Designer' 'Entrepreneur' 'Manager' 'Mechanical Engineer'\n",
      " 'Software Engineer' 'Travel Consultant' 'Finanancial Analyst'\n",
      " 'Financial Analyst' 'Doctor' 'Business Analyst' 'UX/UI Designer'\n",
      " 'Sales Executive' 'Data Scientist' 'Accountant' 'Researcher'\n",
      " 'Civil Engineer' 'Investment Banker' 'Unhealthy' 'B.Ed' 'Student'\n",
      " 'Working Professional' '3M' 'ME' 'B.Pharm' '24th' 'Manvi' 'Yogesh'\n",
      " 'Samar' 'Surat' 'PhD' 'M.Ed' 'MD' 'Name' 'MCA' 'Simran' 'Analyst'\n",
      " 'Profession' 'Unemployed' 'BBA' 'M.Tech' 'LLM' 'Surgeon' 'No' 'Unveil'\n",
      " 'City Consultant' 'M.Pharm'] \n",
      " \n",
      "\n",
      "The Sleep Duration has below given unique values \n",
      " ['Less than 5 hours' '7-8 hours' 'More than 8 hours' '5-6 hours' '0'\n",
      " 'Meerut' '9-5 hours' '6-7 hours' '60-65 hours' 'Vivan' '3-4 hours'\n",
      " '1-6 hours' '9-5' 'Unhealthy' '8-9 hours' '4-5 hours' 'than 5 hours'\n",
      " '9-6 hours' '1-2 hours' '8-89 hours'\n",
      " 'Have_you_ever_had_suicidal_thoughts' '20-21 hours' '10-6 hours'\n",
      " '1-3 hours' '6 hours' '50-75 hours' '4-6 hours' '2-3 hours' '9-11 hours'\n",
      " '9-10 hours' '3-6 hours'] \n",
      " \n",
      "\n",
      "The Dietary Habits has below given unique values \n",
      " ['Moderate' 'Healthy' 'Unhealthy' 'More Healthy' 'No' 'Indoor' 'Prachi'\n",
      " 'Male' 'Less Healthy' 'Mealy' 'Resistant' 'MCA' '5 Healthy' 'Academic'\n",
      " 'Educational' 'Soham' '5 Unhealthy' 'Vivaan' 'Raghav' '1.0' 'Naina'\n",
      " 'Kolkata'] \n",
      " \n",
      "\n",
      "The Degree has below given unique values \n",
      " ['LLB' 'B.Ed' 'B.Arch' 'BSc' 'BCA' 'B.Com' 'MA' 'BA' 'BBA' 'Class 12' 'MD'\n",
      " 'MBA' 'M.Ed' 'M.Pharm' 'BHM' 'LLM' 'PhD' 'M.Com' 'BE' 'MBBS' 'B.Tech'\n",
      " 'ME' 'MCA' 'B.Pharm' 'MHM' 'M.Tech' 'BTech' 'MSc' 'BArch' 'B. Gender'\n",
      " 'B.Study_Hours' 'Advait' 'M.Arch' 'A.Ed' 'Mechanical Engineer' 'B.H'\n",
      " 'B.Sc' 'B' 'M.UI' 'Vibha' 'B BCA' 'B.Press' 'BPharm' 'Gagan' 'MPharm'\n",
      " 'Travel Consultant' '5.65' 'Business Analyst' 'Eshita' 'B_Com' 'Navya'\n",
      " 'B._Pharm' 'Pune' 'Bian' 'B.M.Com' 'Kavya' 'M.M.Ed' 'S.Pharm' 'Vrinda'\n",
      " 'M' 'E.Ed' '3.0' 'Moham' 'B.BA' 'I.Ed' 'Degree' 'Magan' 'B B.Tech'\n",
      " 'M.B.Ed' 'Bhopal' 'B Financial Analyst' 'GCA' 'G.Ed' 'Rupak' 'RCA' 'B.CA'\n",
      " 'PCA' 'J.Ed' 'BH' 'BEd' '8.95' 'Aadhya' '20' 'Banchal' 'M.' 'K.Ed' 'BHCA'] \n",
      " \n",
      "\n"
     ]
    }
   ],
   "source": [
    "# Printing unique values in each column of dataframe\n",
    "for col in col_for_freq_encoding:\n",
    "  print(f'The {col} has below given unique values \\n {df_for_missing_val_imputation_test[col].unique()} \\n \\n')"
   ]
  },
  {
   "cell_type": "code",
   "execution_count": 100,
   "metadata": {},
   "outputs": [
    {
     "name": "stdout",
     "output_type": "stream",
     "text": [
      "The top 5 contributors for City are \n",
      " Kalyan         0.046770\n",
      "Vasai-Virar    0.041546\n",
      "Patna          0.041450\n",
      "Kolkata        0.039723\n",
      "Ahmedabad      0.039200\n",
      "Name: City, dtype: float64 \n",
      "\n",
      "The top 5 contributors for Profession are \n",
      " Missing Value     0.262601\n",
      "Teacher           0.174680\n",
      "Content Writer    0.055299\n",
      "Architect         0.031791\n",
      "Consultant        0.031130\n",
      "Name: Profession, dtype: float64 \n",
      "\n",
      "The top 5 contributors for Sleep Duration are \n",
      " Less than 5 hours    0.273571\n",
      "7-8 hours            0.261098\n",
      "More than 8 hours    0.236567\n",
      "5-6 hours            0.228188\n",
      "6-7 hours            0.000075\n",
      "Name: Sleep Duration, dtype: float64 \n",
      "\n",
      "The top 5 contributors for Dietary Habits are \n",
      " Moderate        0.352058\n",
      "Unhealthy       0.328209\n",
      "Healthy         0.319467\n",
      "No              0.000064\n",
      "More Healthy    0.000021\n",
      "Name: Dietary Habits, dtype: float64 \n",
      "\n",
      "The top 5 contributors for Degree are \n",
      " Class 12    0.104627\n",
      "B.Ed        0.082751\n",
      "B.Arch      0.064360\n",
      "B.Com       0.057985\n",
      "B.Pharm     0.042505\n",
      "Name: Degree, dtype: float64 \n",
      "\n"
     ]
    }
   ],
   "source": [
    "# Further analysing the columns which have high cardinality\n",
    "for col in col_for_freq_encoding:\n",
    "  print(f'The top 5 contributors for {col} are \\n {(df_for_missing_val_imputation_test[col].value_counts()/len(df_for_missing_val_imputation_test)).head()} \\n')"
   ]
  },
  {
   "cell_type": "code",
   "execution_count": 101,
   "metadata": {},
   "outputs": [],
   "source": [
    "# Based upon the above observations I decided to use one hot encoding for the Dietary habits and Sleep Duration\n",
    "sleep_duration=list(df_for_missing_val_imputation_test['Sleep Duration'].value_counts().keys()[:4])\n",
    "dietary_habits=list(df_for_missing_val_imputation_test['Dietary Habits'].value_counts().keys()[:3])"
   ]
  },
  {
   "cell_type": "code",
   "execution_count": 102,
   "metadata": {},
   "outputs": [],
   "source": [
    "# Updating the sleep duration and dietary habits columns\n",
    "df_for_missing_val_imputation_test['Sleep Duration']=df_for_missing_val_imputation_test['Sleep Duration'].apply(lambda x:sleep_diet_update(x,sleep_duration))\n",
    "df_for_missing_val_imputation_test['Dietary Habits']=df_for_missing_val_imputation_test['Dietary Habits'].apply(lambda x:sleep_diet_update(x,dietary_habits))"
   ]
  },
  {
   "cell_type": "code",
   "execution_count": 103,
   "metadata": {},
   "outputs": [],
   "source": [
    "# Mapping the frequency & changing the datatypes to match the datatypes of training dataset\n",
    "df_for_missing_val_imputation_test['Degree']=df_for_missing_val_imputation_test['Degree'].map(freq_degree).fillna(0).astype('int64')\n",
    "df_for_missing_val_imputation_test['City']=df_for_missing_val_imputation_test['City'].map(freq_city).fillna(0).astype('int64')\n",
    "df_for_missing_val_imputation_test['Profession']=df_for_missing_val_imputation_test['Profession'].map(freq_prof).fillna(0).astype('int64')"
   ]
  },
  {
   "cell_type": "code",
   "execution_count": 104,
   "metadata": {},
   "outputs": [
    {
     "data": {
      "text/plain": [
       "Gender                                   True\n",
       "Age                                      True\n",
       "City                                     True\n",
       "Working Professional or Student          True\n",
       "Profession                               True\n",
       "Academic Pressure                        True\n",
       "CGPA                                     True\n",
       "Study Satisfaction                       True\n",
       "Sleep Duration                           True\n",
       "Dietary Habits                           True\n",
       "Degree                                   True\n",
       "Have you ever had suicidal thoughts ?    True\n",
       "Work/Study Hours                         True\n",
       "Financial Stress                         True\n",
       "Family History of Mental Illness         True\n",
       "dtype: bool"
      ]
     },
     "execution_count": 104,
     "metadata": {},
     "output_type": "execute_result"
    }
   ],
   "source": [
    "# Cross verfying if the progress of the datatype conversion is aligned with training dataset\n",
    "df_for_missing_val_imputation_test.dtypes==df_for_missing_val_imputation.dtypes"
   ]
  },
  {
   "cell_type": "code",
   "execution_count": 105,
   "metadata": {},
   "outputs": [],
   "source": [
    "# Now making dummy test dataset\n",
    "df_test_dummies=pd.get_dummies(data=df_for_missing_val_imputation_test,columns=dummy_cols,drop_first=True)"
   ]
  },
  {
   "cell_type": "code",
   "execution_count": 106,
   "metadata": {},
   "outputs": [],
   "source": [
    "# Transforming the continuous variables\n",
    "df_test_dummies['Age']=scaler_age.transform(np.array(df_test_dummies['Age']).reshape(-1,1))\n",
    "df_test_dummies['Work/Study Hours']=scaler_work_study_hours.transform(np.array(df_test_dummies['Work/Study Hours']).reshape(-1,1))"
   ]
  },
  {
   "cell_type": "code",
   "execution_count": 107,
   "metadata": {},
   "outputs": [
    {
     "data": {
      "text/html": [
       "<div>\n",
       "<style scoped>\n",
       "    .dataframe tbody tr th:only-of-type {\n",
       "        vertical-align: middle;\n",
       "    }\n",
       "\n",
       "    .dataframe tbody tr th {\n",
       "        vertical-align: top;\n",
       "    }\n",
       "\n",
       "    .dataframe thead th {\n",
       "        text-align: right;\n",
       "    }\n",
       "</style>\n",
       "<table border=\"1\" class=\"dataframe\">\n",
       "  <thead>\n",
       "    <tr style=\"text-align: right;\">\n",
       "      <th></th>\n",
       "      <th>Age</th>\n",
       "      <th>City</th>\n",
       "      <th>Profession</th>\n",
       "      <th>Degree</th>\n",
       "      <th>Work/Study Hours</th>\n",
       "      <th>Gender_Male</th>\n",
       "      <th>Working Professional or Student_Working Professional</th>\n",
       "      <th>Academic Pressure_2.0</th>\n",
       "      <th>Academic Pressure_3.0</th>\n",
       "      <th>Academic Pressure_4.0</th>\n",
       "      <th>Academic Pressure_5.0</th>\n",
       "      <th>Academic Pressure_Missing_Value</th>\n",
       "      <th>CGPA_6-7</th>\n",
       "      <th>CGPA_7-8</th>\n",
       "      <th>CGPA_8-9</th>\n",
       "      <th>CGPA_9-10</th>\n",
       "      <th>CGPA_Missing_Value</th>\n",
       "      <th>Study Satisfaction_2.0</th>\n",
       "      <th>Study Satisfaction_3.0</th>\n",
       "      <th>Study Satisfaction_4.0</th>\n",
       "      <th>Study Satisfaction_5.0</th>\n",
       "      <th>Study Satisfaction_Missing_Value</th>\n",
       "      <th>Sleep Duration_7-8 hours</th>\n",
       "      <th>Sleep Duration_Less than 5 hours</th>\n",
       "      <th>Sleep Duration_More than 8 hours</th>\n",
       "      <th>Sleep Duration_Others</th>\n",
       "      <th>Dietary Habits_Moderate</th>\n",
       "      <th>Dietary Habits_Others</th>\n",
       "      <th>Dietary Habits_Unhealthy</th>\n",
       "      <th>Have you ever had suicidal thoughts ?_Yes</th>\n",
       "      <th>Financial Stress_2.0</th>\n",
       "      <th>Financial Stress_3.0</th>\n",
       "      <th>Financial Stress_4.0</th>\n",
       "      <th>Financial Stress_5.0</th>\n",
       "      <th>Family History of Mental Illness_Yes</th>\n",
       "    </tr>\n",
       "  </thead>\n",
       "  <tbody>\n",
       "    <tr>\n",
       "      <th>0</th>\n",
       "      <td>0.833333</td>\n",
       "      <td>5176</td>\n",
       "      <td>1712</td>\n",
       "      <td>4348</td>\n",
       "      <td>0.750000</td>\n",
       "      <td>1</td>\n",
       "      <td>1</td>\n",
       "      <td>0</td>\n",
       "      <td>0</td>\n",
       "      <td>0</td>\n",
       "      <td>0</td>\n",
       "      <td>1</td>\n",
       "      <td>0</td>\n",
       "      <td>0</td>\n",
       "      <td>0</td>\n",
       "      <td>0</td>\n",
       "      <td>1</td>\n",
       "      <td>0</td>\n",
       "      <td>0</td>\n",
       "      <td>0</td>\n",
       "      <td>0</td>\n",
       "      <td>1</td>\n",
       "      <td>0</td>\n",
       "      <td>1</td>\n",
       "      <td>0</td>\n",
       "      <td>0</td>\n",
       "      <td>1</td>\n",
       "      <td>0</td>\n",
       "      <td>0</td>\n",
       "      <td>0</td>\n",
       "      <td>0</td>\n",
       "      <td>1</td>\n",
       "      <td>0</td>\n",
       "      <td>0</td>\n",
       "      <td>1</td>\n",
       "    </tr>\n",
       "    <tr>\n",
       "      <th>1</th>\n",
       "      <td>0.952381</td>\n",
       "      <td>5689</td>\n",
       "      <td>2852</td>\n",
       "      <td>11691</td>\n",
       "      <td>0.500000</td>\n",
       "      <td>0</td>\n",
       "      <td>1</td>\n",
       "      <td>0</td>\n",
       "      <td>0</td>\n",
       "      <td>0</td>\n",
       "      <td>0</td>\n",
       "      <td>1</td>\n",
       "      <td>0</td>\n",
       "      <td>0</td>\n",
       "      <td>0</td>\n",
       "      <td>0</td>\n",
       "      <td>1</td>\n",
       "      <td>0</td>\n",
       "      <td>0</td>\n",
       "      <td>0</td>\n",
       "      <td>0</td>\n",
       "      <td>1</td>\n",
       "      <td>0</td>\n",
       "      <td>1</td>\n",
       "      <td>0</td>\n",
       "      <td>0</td>\n",
       "      <td>1</td>\n",
       "      <td>0</td>\n",
       "      <td>0</td>\n",
       "      <td>0</td>\n",
       "      <td>0</td>\n",
       "      <td>0</td>\n",
       "      <td>1</td>\n",
       "      <td>0</td>\n",
       "      <td>0</td>\n",
       "    </tr>\n",
       "    <tr>\n",
       "      <th>2</th>\n",
       "      <td>0.833333</td>\n",
       "      <td>4328</td>\n",
       "      <td>24906</td>\n",
       "      <td>8742</td>\n",
       "      <td>1.000000</td>\n",
       "      <td>1</td>\n",
       "      <td>1</td>\n",
       "      <td>0</td>\n",
       "      <td>0</td>\n",
       "      <td>0</td>\n",
       "      <td>0</td>\n",
       "      <td>1</td>\n",
       "      <td>0</td>\n",
       "      <td>0</td>\n",
       "      <td>0</td>\n",
       "      <td>0</td>\n",
       "      <td>1</td>\n",
       "      <td>0</td>\n",
       "      <td>0</td>\n",
       "      <td>0</td>\n",
       "      <td>0</td>\n",
       "      <td>1</td>\n",
       "      <td>1</td>\n",
       "      <td>0</td>\n",
       "      <td>0</td>\n",
       "      <td>0</td>\n",
       "      <td>1</td>\n",
       "      <td>0</td>\n",
       "      <td>0</td>\n",
       "      <td>1</td>\n",
       "      <td>0</td>\n",
       "      <td>0</td>\n",
       "      <td>1</td>\n",
       "      <td>0</td>\n",
       "      <td>0</td>\n",
       "    </tr>\n",
       "    <tr>\n",
       "      <th>3</th>\n",
       "      <td>0.119048</td>\n",
       "      <td>5207</td>\n",
       "      <td>36630</td>\n",
       "      <td>5027</td>\n",
       "      <td>0.833333</td>\n",
       "      <td>0</td>\n",
       "      <td>0</td>\n",
       "      <td>0</td>\n",
       "      <td>0</td>\n",
       "      <td>0</td>\n",
       "      <td>1</td>\n",
       "      <td>0</td>\n",
       "      <td>1</td>\n",
       "      <td>0</td>\n",
       "      <td>0</td>\n",
       "      <td>0</td>\n",
       "      <td>0</td>\n",
       "      <td>0</td>\n",
       "      <td>0</td>\n",
       "      <td>0</td>\n",
       "      <td>0</td>\n",
       "      <td>0</td>\n",
       "      <td>0</td>\n",
       "      <td>0</td>\n",
       "      <td>1</td>\n",
       "      <td>0</td>\n",
       "      <td>1</td>\n",
       "      <td>0</td>\n",
       "      <td>0</td>\n",
       "      <td>1</td>\n",
       "      <td>0</td>\n",
       "      <td>0</td>\n",
       "      <td>1</td>\n",
       "      <td>0</td>\n",
       "      <td>0</td>\n",
       "    </tr>\n",
       "    <tr>\n",
       "      <th>4</th>\n",
       "      <td>0.690476</td>\n",
       "      <td>6591</td>\n",
       "      <td>24906</td>\n",
       "      <td>5739</td>\n",
       "      <td>0.250000</td>\n",
       "      <td>1</td>\n",
       "      <td>1</td>\n",
       "      <td>0</td>\n",
       "      <td>0</td>\n",
       "      <td>0</td>\n",
       "      <td>0</td>\n",
       "      <td>1</td>\n",
       "      <td>0</td>\n",
       "      <td>0</td>\n",
       "      <td>0</td>\n",
       "      <td>0</td>\n",
       "      <td>1</td>\n",
       "      <td>0</td>\n",
       "      <td>0</td>\n",
       "      <td>0</td>\n",
       "      <td>0</td>\n",
       "      <td>1</td>\n",
       "      <td>1</td>\n",
       "      <td>0</td>\n",
       "      <td>0</td>\n",
       "      <td>0</td>\n",
       "      <td>1</td>\n",
       "      <td>0</td>\n",
       "      <td>0</td>\n",
       "      <td>1</td>\n",
       "      <td>0</td>\n",
       "      <td>0</td>\n",
       "      <td>1</td>\n",
       "      <td>0</td>\n",
       "      <td>0</td>\n",
       "    </tr>\n",
       "  </tbody>\n",
       "</table>\n",
       "</div>"
      ],
      "text/plain": [
       "        Age  City  Profession  Degree  Work/Study Hours  Gender_Male  \\\n",
       "0  0.833333  5176        1712    4348          0.750000            1   \n",
       "1  0.952381  5689        2852   11691          0.500000            0   \n",
       "2  0.833333  4328       24906    8742          1.000000            1   \n",
       "3  0.119048  5207       36630    5027          0.833333            0   \n",
       "4  0.690476  6591       24906    5739          0.250000            1   \n",
       "\n",
       "   Working Professional or Student_Working Professional  \\\n",
       "0                                                  1      \n",
       "1                                                  1      \n",
       "2                                                  1      \n",
       "3                                                  0      \n",
       "4                                                  1      \n",
       "\n",
       "   Academic Pressure_2.0  Academic Pressure_3.0  Academic Pressure_4.0  \\\n",
       "0                      0                      0                      0   \n",
       "1                      0                      0                      0   \n",
       "2                      0                      0                      0   \n",
       "3                      0                      0                      0   \n",
       "4                      0                      0                      0   \n",
       "\n",
       "   Academic Pressure_5.0  Academic Pressure_Missing_Value  CGPA_6-7  CGPA_7-8  \\\n",
       "0                      0                                1         0         0   \n",
       "1                      0                                1         0         0   \n",
       "2                      0                                1         0         0   \n",
       "3                      1                                0         1         0   \n",
       "4                      0                                1         0         0   \n",
       "\n",
       "   CGPA_8-9  CGPA_9-10  CGPA_Missing_Value  Study Satisfaction_2.0  \\\n",
       "0         0          0                   1                       0   \n",
       "1         0          0                   1                       0   \n",
       "2         0          0                   1                       0   \n",
       "3         0          0                   0                       0   \n",
       "4         0          0                   1                       0   \n",
       "\n",
       "   Study Satisfaction_3.0  Study Satisfaction_4.0  Study Satisfaction_5.0  \\\n",
       "0                       0                       0                       0   \n",
       "1                       0                       0                       0   \n",
       "2                       0                       0                       0   \n",
       "3                       0                       0                       0   \n",
       "4                       0                       0                       0   \n",
       "\n",
       "   Study Satisfaction_Missing_Value  Sleep Duration_7-8 hours  \\\n",
       "0                                 1                         0   \n",
       "1                                 1                         0   \n",
       "2                                 1                         1   \n",
       "3                                 0                         0   \n",
       "4                                 1                         1   \n",
       "\n",
       "   Sleep Duration_Less than 5 hours  Sleep Duration_More than 8 hours  \\\n",
       "0                                 1                                 0   \n",
       "1                                 1                                 0   \n",
       "2                                 0                                 0   \n",
       "3                                 0                                 1   \n",
       "4                                 0                                 0   \n",
       "\n",
       "   Sleep Duration_Others  Dietary Habits_Moderate  Dietary Habits_Others  \\\n",
       "0                      0                        1                      0   \n",
       "1                      0                        1                      0   \n",
       "2                      0                        1                      0   \n",
       "3                      0                        1                      0   \n",
       "4                      0                        1                      0   \n",
       "\n",
       "   Dietary Habits_Unhealthy  Have you ever had suicidal thoughts ?_Yes  \\\n",
       "0                         0                                          0   \n",
       "1                         0                                          0   \n",
       "2                         0                                          1   \n",
       "3                         0                                          1   \n",
       "4                         0                                          1   \n",
       "\n",
       "   Financial Stress_2.0  Financial Stress_3.0  Financial Stress_4.0  \\\n",
       "0                     0                     1                     0   \n",
       "1                     0                     0                     1   \n",
       "2                     0                     0                     1   \n",
       "3                     0                     0                     1   \n",
       "4                     0                     0                     1   \n",
       "\n",
       "   Financial Stress_5.0  Family History of Mental Illness_Yes  \n",
       "0                     0                                     1  \n",
       "1                     0                                     0  \n",
       "2                     0                                     0  \n",
       "3                     0                                     0  \n",
       "4                     0                                     0  "
      ]
     },
     "execution_count": 107,
     "metadata": {},
     "output_type": "execute_result"
    }
   ],
   "source": [
    "# Checking df_dummies\n",
    "df_test_dummies.head()"
   ]
  },
  {
   "cell_type": "code",
   "execution_count": 108,
   "metadata": {},
   "outputs": [
    {
     "data": {
      "text/plain": [
       "Age                                                     0\n",
       "City                                                    0\n",
       "Profession                                              0\n",
       "Degree                                                  0\n",
       "Work/Study Hours                                        0\n",
       "Gender_Male                                             0\n",
       "Working Professional or Student_Working Professional    0\n",
       "Academic Pressure_2.0                                   0\n",
       "Academic Pressure_3.0                                   0\n",
       "Academic Pressure_4.0                                   0\n",
       "Academic Pressure_5.0                                   0\n",
       "Academic Pressure_Missing_Value                         0\n",
       "CGPA_6-7                                                0\n",
       "CGPA_7-8                                                0\n",
       "CGPA_8-9                                                0\n",
       "CGPA_9-10                                               0\n",
       "CGPA_Missing_Value                                      0\n",
       "Study Satisfaction_2.0                                  0\n",
       "Study Satisfaction_3.0                                  0\n",
       "Study Satisfaction_4.0                                  0\n",
       "Study Satisfaction_5.0                                  0\n",
       "Study Satisfaction_Missing_Value                        0\n",
       "Sleep Duration_7-8 hours                                0\n",
       "Sleep Duration_Less than 5 hours                        0\n",
       "Sleep Duration_More than 8 hours                        0\n",
       "Sleep Duration_Others                                   0\n",
       "Dietary Habits_Moderate                                 0\n",
       "Dietary Habits_Others                                   0\n",
       "Dietary Habits_Unhealthy                                0\n",
       "Have you ever had suicidal thoughts ?_Yes               0\n",
       "Financial Stress_2.0                                    0\n",
       "Financial Stress_3.0                                    0\n",
       "Financial Stress_4.0                                    0\n",
       "Financial Stress_5.0                                    0\n",
       "Family History of Mental Illness_Yes                    0\n",
       "dtype: int64"
      ]
     },
     "execution_count": 108,
     "metadata": {},
     "output_type": "execute_result"
    }
   ],
   "source": [
    "# Cross veryfying if all the columns do not have any null entries \n",
    "df_test_dummies.isnull().sum()"
   ]
  },
  {
   "cell_type": "code",
   "execution_count": 109,
   "metadata": {},
   "outputs": [
    {
     "data": {
      "text/plain": [
       "Age                                                     float64\n",
       "City                                                      int64\n",
       "Profession                                                int64\n",
       "Degree                                                    int64\n",
       "Work/Study Hours                                        float64\n",
       "Gender_Male                                               uint8\n",
       "Working Professional or Student_Working Professional      uint8\n",
       "Academic Pressure_2.0                                     uint8\n",
       "Academic Pressure_3.0                                     uint8\n",
       "Academic Pressure_4.0                                     uint8\n",
       "Academic Pressure_5.0                                     uint8\n",
       "Academic Pressure_Missing_Value                           uint8\n",
       "CGPA_6-7                                                  uint8\n",
       "CGPA_7-8                                                  uint8\n",
       "CGPA_8-9                                                  uint8\n",
       "CGPA_9-10                                                 uint8\n",
       "CGPA_Missing_Value                                        uint8\n",
       "Study Satisfaction_2.0                                    uint8\n",
       "Study Satisfaction_3.0                                    uint8\n",
       "Study Satisfaction_4.0                                    uint8\n",
       "Study Satisfaction_5.0                                    uint8\n",
       "Study Satisfaction_Missing_Value                          uint8\n",
       "Sleep Duration_7-8 hours                                  uint8\n",
       "Sleep Duration_Less than 5 hours                          uint8\n",
       "Sleep Duration_More than 8 hours                          uint8\n",
       "Sleep Duration_Others                                     uint8\n",
       "Dietary Habits_Moderate                                   uint8\n",
       "Dietary Habits_Others                                     uint8\n",
       "Dietary Habits_Unhealthy                                  uint8\n",
       "Have you ever had suicidal thoughts ?_Yes                 uint8\n",
       "Financial Stress_2.0                                      uint8\n",
       "Financial Stress_3.0                                      uint8\n",
       "Financial Stress_4.0                                      uint8\n",
       "Financial Stress_5.0                                      uint8\n",
       "Family History of Mental Illness_Yes                      uint8\n",
       "dtype: object"
      ]
     },
     "execution_count": 109,
     "metadata": {},
     "output_type": "execute_result"
    }
   ],
   "source": [
    "# Checking the data type\n",
    "df_test_dummies.dtypes"
   ]
  },
  {
   "cell_type": "code",
   "execution_count": 110,
   "metadata": {},
   "outputs": [],
   "source": [
    "# Extracting the columns which are to be imputed from the training dataframe\n",
    "df_test_impute=df_test[col_to_impute]"
   ]
  },
  {
   "cell_type": "code",
   "execution_count": 111,
   "metadata": {},
   "outputs": [],
   "source": [
    "# Concatenating the two dataframes for missing values imputation by using the ML\n",
    "df_test=pd.concat([df_test_impute,df_test_dummies],axis=1)"
   ]
  },
  {
   "cell_type": "code",
   "execution_count": 112,
   "metadata": {},
   "outputs": [
    {
     "data": {
      "text/html": [
       "<div>\n",
       "<style scoped>\n",
       "    .dataframe tbody tr th:only-of-type {\n",
       "        vertical-align: middle;\n",
       "    }\n",
       "\n",
       "    .dataframe tbody tr th {\n",
       "        vertical-align: top;\n",
       "    }\n",
       "\n",
       "    .dataframe thead th {\n",
       "        text-align: right;\n",
       "    }\n",
       "</style>\n",
       "<table border=\"1\" class=\"dataframe\">\n",
       "  <thead>\n",
       "    <tr style=\"text-align: right;\">\n",
       "      <th></th>\n",
       "      <th>Work Pressure</th>\n",
       "      <th>Job Satisfaction</th>\n",
       "      <th>Age</th>\n",
       "      <th>City</th>\n",
       "      <th>Profession</th>\n",
       "      <th>Degree</th>\n",
       "      <th>Work/Study Hours</th>\n",
       "      <th>Gender_Male</th>\n",
       "      <th>Working Professional or Student_Working Professional</th>\n",
       "      <th>Academic Pressure_2.0</th>\n",
       "      <th>Academic Pressure_3.0</th>\n",
       "      <th>Academic Pressure_4.0</th>\n",
       "      <th>Academic Pressure_5.0</th>\n",
       "      <th>Academic Pressure_Missing_Value</th>\n",
       "      <th>CGPA_6-7</th>\n",
       "      <th>CGPA_7-8</th>\n",
       "      <th>CGPA_8-9</th>\n",
       "      <th>CGPA_9-10</th>\n",
       "      <th>CGPA_Missing_Value</th>\n",
       "      <th>Study Satisfaction_2.0</th>\n",
       "      <th>Study Satisfaction_3.0</th>\n",
       "      <th>Study Satisfaction_4.0</th>\n",
       "      <th>Study Satisfaction_5.0</th>\n",
       "      <th>Study Satisfaction_Missing_Value</th>\n",
       "      <th>Sleep Duration_7-8 hours</th>\n",
       "      <th>Sleep Duration_Less than 5 hours</th>\n",
       "      <th>Sleep Duration_More than 8 hours</th>\n",
       "      <th>Sleep Duration_Others</th>\n",
       "      <th>Dietary Habits_Moderate</th>\n",
       "      <th>Dietary Habits_Others</th>\n",
       "      <th>Dietary Habits_Unhealthy</th>\n",
       "      <th>Have you ever had suicidal thoughts ?_Yes</th>\n",
       "      <th>Financial Stress_2.0</th>\n",
       "      <th>Financial Stress_3.0</th>\n",
       "      <th>Financial Stress_4.0</th>\n",
       "      <th>Financial Stress_5.0</th>\n",
       "      <th>Family History of Mental Illness_Yes</th>\n",
       "    </tr>\n",
       "  </thead>\n",
       "  <tbody>\n",
       "    <tr>\n",
       "      <th>0</th>\n",
       "      <td>2.0</td>\n",
       "      <td>5.0</td>\n",
       "      <td>0.833333</td>\n",
       "      <td>5176</td>\n",
       "      <td>1712</td>\n",
       "      <td>4348</td>\n",
       "      <td>0.750000</td>\n",
       "      <td>1</td>\n",
       "      <td>1</td>\n",
       "      <td>0</td>\n",
       "      <td>0</td>\n",
       "      <td>0</td>\n",
       "      <td>0</td>\n",
       "      <td>1</td>\n",
       "      <td>0</td>\n",
       "      <td>0</td>\n",
       "      <td>0</td>\n",
       "      <td>0</td>\n",
       "      <td>1</td>\n",
       "      <td>0</td>\n",
       "      <td>0</td>\n",
       "      <td>0</td>\n",
       "      <td>0</td>\n",
       "      <td>1</td>\n",
       "      <td>0</td>\n",
       "      <td>1</td>\n",
       "      <td>0</td>\n",
       "      <td>0</td>\n",
       "      <td>1</td>\n",
       "      <td>0</td>\n",
       "      <td>0</td>\n",
       "      <td>0</td>\n",
       "      <td>0</td>\n",
       "      <td>1</td>\n",
       "      <td>0</td>\n",
       "      <td>0</td>\n",
       "      <td>1</td>\n",
       "    </tr>\n",
       "    <tr>\n",
       "      <th>1</th>\n",
       "      <td>2.0</td>\n",
       "      <td>4.0</td>\n",
       "      <td>0.952381</td>\n",
       "      <td>5689</td>\n",
       "      <td>2852</td>\n",
       "      <td>11691</td>\n",
       "      <td>0.500000</td>\n",
       "      <td>0</td>\n",
       "      <td>1</td>\n",
       "      <td>0</td>\n",
       "      <td>0</td>\n",
       "      <td>0</td>\n",
       "      <td>0</td>\n",
       "      <td>1</td>\n",
       "      <td>0</td>\n",
       "      <td>0</td>\n",
       "      <td>0</td>\n",
       "      <td>0</td>\n",
       "      <td>1</td>\n",
       "      <td>0</td>\n",
       "      <td>0</td>\n",
       "      <td>0</td>\n",
       "      <td>0</td>\n",
       "      <td>1</td>\n",
       "      <td>0</td>\n",
       "      <td>1</td>\n",
       "      <td>0</td>\n",
       "      <td>0</td>\n",
       "      <td>1</td>\n",
       "      <td>0</td>\n",
       "      <td>0</td>\n",
       "      <td>0</td>\n",
       "      <td>0</td>\n",
       "      <td>0</td>\n",
       "      <td>1</td>\n",
       "      <td>0</td>\n",
       "      <td>0</td>\n",
       "    </tr>\n",
       "    <tr>\n",
       "      <th>2</th>\n",
       "      <td>4.0</td>\n",
       "      <td>1.0</td>\n",
       "      <td>0.833333</td>\n",
       "      <td>4328</td>\n",
       "      <td>24906</td>\n",
       "      <td>8742</td>\n",
       "      <td>1.000000</td>\n",
       "      <td>1</td>\n",
       "      <td>1</td>\n",
       "      <td>0</td>\n",
       "      <td>0</td>\n",
       "      <td>0</td>\n",
       "      <td>0</td>\n",
       "      <td>1</td>\n",
       "      <td>0</td>\n",
       "      <td>0</td>\n",
       "      <td>0</td>\n",
       "      <td>0</td>\n",
       "      <td>1</td>\n",
       "      <td>0</td>\n",
       "      <td>0</td>\n",
       "      <td>0</td>\n",
       "      <td>0</td>\n",
       "      <td>1</td>\n",
       "      <td>1</td>\n",
       "      <td>0</td>\n",
       "      <td>0</td>\n",
       "      <td>0</td>\n",
       "      <td>1</td>\n",
       "      <td>0</td>\n",
       "      <td>0</td>\n",
       "      <td>1</td>\n",
       "      <td>0</td>\n",
       "      <td>0</td>\n",
       "      <td>1</td>\n",
       "      <td>0</td>\n",
       "      <td>0</td>\n",
       "    </tr>\n",
       "    <tr>\n",
       "      <th>3</th>\n",
       "      <td>NaN</td>\n",
       "      <td>NaN</td>\n",
       "      <td>0.119048</td>\n",
       "      <td>5207</td>\n",
       "      <td>36630</td>\n",
       "      <td>5027</td>\n",
       "      <td>0.833333</td>\n",
       "      <td>0</td>\n",
       "      <td>0</td>\n",
       "      <td>0</td>\n",
       "      <td>0</td>\n",
       "      <td>0</td>\n",
       "      <td>1</td>\n",
       "      <td>0</td>\n",
       "      <td>1</td>\n",
       "      <td>0</td>\n",
       "      <td>0</td>\n",
       "      <td>0</td>\n",
       "      <td>0</td>\n",
       "      <td>0</td>\n",
       "      <td>0</td>\n",
       "      <td>0</td>\n",
       "      <td>0</td>\n",
       "      <td>0</td>\n",
       "      <td>0</td>\n",
       "      <td>0</td>\n",
       "      <td>1</td>\n",
       "      <td>0</td>\n",
       "      <td>1</td>\n",
       "      <td>0</td>\n",
       "      <td>0</td>\n",
       "      <td>1</td>\n",
       "      <td>0</td>\n",
       "      <td>0</td>\n",
       "      <td>1</td>\n",
       "      <td>0</td>\n",
       "      <td>0</td>\n",
       "    </tr>\n",
       "    <tr>\n",
       "      <th>4</th>\n",
       "      <td>5.0</td>\n",
       "      <td>5.0</td>\n",
       "      <td>0.690476</td>\n",
       "      <td>6591</td>\n",
       "      <td>24906</td>\n",
       "      <td>5739</td>\n",
       "      <td>0.250000</td>\n",
       "      <td>1</td>\n",
       "      <td>1</td>\n",
       "      <td>0</td>\n",
       "      <td>0</td>\n",
       "      <td>0</td>\n",
       "      <td>0</td>\n",
       "      <td>1</td>\n",
       "      <td>0</td>\n",
       "      <td>0</td>\n",
       "      <td>0</td>\n",
       "      <td>0</td>\n",
       "      <td>1</td>\n",
       "      <td>0</td>\n",
       "      <td>0</td>\n",
       "      <td>0</td>\n",
       "      <td>0</td>\n",
       "      <td>1</td>\n",
       "      <td>1</td>\n",
       "      <td>0</td>\n",
       "      <td>0</td>\n",
       "      <td>0</td>\n",
       "      <td>1</td>\n",
       "      <td>0</td>\n",
       "      <td>0</td>\n",
       "      <td>1</td>\n",
       "      <td>0</td>\n",
       "      <td>0</td>\n",
       "      <td>1</td>\n",
       "      <td>0</td>\n",
       "      <td>0</td>\n",
       "    </tr>\n",
       "  </tbody>\n",
       "</table>\n",
       "</div>"
      ],
      "text/plain": [
       "   Work Pressure  Job Satisfaction       Age  City  Profession  Degree  \\\n",
       "0            2.0               5.0  0.833333  5176        1712    4348   \n",
       "1            2.0               4.0  0.952381  5689        2852   11691   \n",
       "2            4.0               1.0  0.833333  4328       24906    8742   \n",
       "3            NaN               NaN  0.119048  5207       36630    5027   \n",
       "4            5.0               5.0  0.690476  6591       24906    5739   \n",
       "\n",
       "   Work/Study Hours  Gender_Male  \\\n",
       "0          0.750000            1   \n",
       "1          0.500000            0   \n",
       "2          1.000000            1   \n",
       "3          0.833333            0   \n",
       "4          0.250000            1   \n",
       "\n",
       "   Working Professional or Student_Working Professional  \\\n",
       "0                                                  1      \n",
       "1                                                  1      \n",
       "2                                                  1      \n",
       "3                                                  0      \n",
       "4                                                  1      \n",
       "\n",
       "   Academic Pressure_2.0  Academic Pressure_3.0  Academic Pressure_4.0  \\\n",
       "0                      0                      0                      0   \n",
       "1                      0                      0                      0   \n",
       "2                      0                      0                      0   \n",
       "3                      0                      0                      0   \n",
       "4                      0                      0                      0   \n",
       "\n",
       "   Academic Pressure_5.0  Academic Pressure_Missing_Value  CGPA_6-7  CGPA_7-8  \\\n",
       "0                      0                                1         0         0   \n",
       "1                      0                                1         0         0   \n",
       "2                      0                                1         0         0   \n",
       "3                      1                                0         1         0   \n",
       "4                      0                                1         0         0   \n",
       "\n",
       "   CGPA_8-9  CGPA_9-10  CGPA_Missing_Value  Study Satisfaction_2.0  \\\n",
       "0         0          0                   1                       0   \n",
       "1         0          0                   1                       0   \n",
       "2         0          0                   1                       0   \n",
       "3         0          0                   0                       0   \n",
       "4         0          0                   1                       0   \n",
       "\n",
       "   Study Satisfaction_3.0  Study Satisfaction_4.0  Study Satisfaction_5.0  \\\n",
       "0                       0                       0                       0   \n",
       "1                       0                       0                       0   \n",
       "2                       0                       0                       0   \n",
       "3                       0                       0                       0   \n",
       "4                       0                       0                       0   \n",
       "\n",
       "   Study Satisfaction_Missing_Value  Sleep Duration_7-8 hours  \\\n",
       "0                                 1                         0   \n",
       "1                                 1                         0   \n",
       "2                                 1                         1   \n",
       "3                                 0                         0   \n",
       "4                                 1                         1   \n",
       "\n",
       "   Sleep Duration_Less than 5 hours  Sleep Duration_More than 8 hours  \\\n",
       "0                                 1                                 0   \n",
       "1                                 1                                 0   \n",
       "2                                 0                                 0   \n",
       "3                                 0                                 1   \n",
       "4                                 0                                 0   \n",
       "\n",
       "   Sleep Duration_Others  Dietary Habits_Moderate  Dietary Habits_Others  \\\n",
       "0                      0                        1                      0   \n",
       "1                      0                        1                      0   \n",
       "2                      0                        1                      0   \n",
       "3                      0                        1                      0   \n",
       "4                      0                        1                      0   \n",
       "\n",
       "   Dietary Habits_Unhealthy  Have you ever had suicidal thoughts ?_Yes  \\\n",
       "0                         0                                          0   \n",
       "1                         0                                          0   \n",
       "2                         0                                          1   \n",
       "3                         0                                          1   \n",
       "4                         0                                          1   \n",
       "\n",
       "   Financial Stress_2.0  Financial Stress_3.0  Financial Stress_4.0  \\\n",
       "0                     0                     1                     0   \n",
       "1                     0                     0                     1   \n",
       "2                     0                     0                     1   \n",
       "3                     0                     0                     1   \n",
       "4                     0                     0                     1   \n",
       "\n",
       "   Financial Stress_5.0  Family History of Mental Illness_Yes  \n",
       "0                     0                                     1  \n",
       "1                     0                                     0  \n",
       "2                     0                                     0  \n",
       "3                     0                                     0  \n",
       "4                     0                                     0  "
      ]
     },
     "execution_count": 112,
     "metadata": {},
     "output_type": "execute_result"
    }
   ],
   "source": [
    "#Checking the top 5 rows\n",
    "df_test.head()"
   ]
  },
  {
   "cell_type": "code",
   "execution_count": 113,
   "metadata": {},
   "outputs": [],
   "source": [
    "# Creating an index column in the beginning for easier merge operations\n",
    "df_test.insert(loc=0,column='Index',value=df_test.index)"
   ]
  },
  {
   "cell_type": "markdown",
   "metadata": {},
   "source": [
    "### Using the models built on training data to predict the missing values in the test data"
   ]
  },
  {
   "cell_type": "markdown",
   "metadata": {},
   "source": [
    "#### For Data Extraction"
   ]
  },
  {
   "cell_type": "code",
   "execution_count": 114,
   "metadata": {},
   "outputs": [],
   "source": [
    "# Dropping the other target imputation columns\n",
    "job_test_data=df_test.drop(['Work Pressure'],axis=1)\n",
    "work_test_data=df_test.drop(['Job Satisfaction'],axis=1)"
   ]
  },
  {
   "cell_type": "code",
   "execution_count": 115,
   "metadata": {},
   "outputs": [],
   "source": [
    "# Extracting the required data\n",
    "\n",
    "df_job_train=job_test_data[~job_test_data['Job Satisfaction'].isnull()]\n",
    "df_job_test=job_test_data[job_test_data['Job Satisfaction'].isnull()]\n",
    "\n",
    "df_work_train=work_test_data[~work_test_data['Work Pressure'].isnull()]\n",
    "df_work_test=work_test_data[work_test_data['Work Pressure'].isnull()]"
   ]
  },
  {
   "cell_type": "markdown",
   "metadata": {},
   "source": [
    "#### For Job Satisfaction"
   ]
  },
  {
   "cell_type": "code",
   "execution_count": 116,
   "metadata": {},
   "outputs": [],
   "source": [
    "# Extracting the required variables for training \n",
    "y_train=df_job_train['Job Satisfaction'].astype(int)\n",
    "X_train=df_job_train.copy()\n",
    "X_train.pop('Job Satisfaction')\n",
    "X_test=df_job_test.drop(['Job Satisfaction'],axis=1)\n",
    "\n",
    "# The values of y should start from 0 in order to apply the XGBoost algorithm\n",
    "y_train=y_train-1"
   ]
  },
  {
   "cell_type": "code",
   "execution_count": 117,
   "metadata": {},
   "outputs": [],
   "source": [
    "# Predicting the outputs for test data\n",
    "y_test=model_job.predict(X_test)\n",
    "\n",
    "# Creating a new dataframe of y_test\n",
    "y_test=pd.DataFrame(y_test,columns=['Job Satisfaction'])\n",
    "\n",
    "# Resetting the index as using concat will have problems when the indices of the y_test & X_test will be different\n",
    "X_test.reset_index(drop=True,inplace=True)\n",
    "y_test.reset_index(drop=True,inplace=True)\n",
    "\n",
    "# Concatenating the X_test & y _test\n",
    "df_job_test=pd.concat([y_test,X_test],axis=1)\n"
   ]
  },
  {
   "cell_type": "markdown",
   "metadata": {},
   "source": [
    "#### For Work Pressure"
   ]
  },
  {
   "cell_type": "code",
   "execution_count": 118,
   "metadata": {},
   "outputs": [],
   "source": [
    "# Extracting the required variables for training \n",
    "y_train=df_work_train['Work Pressure'].astype(int)\n",
    "X_train=df_work_train.copy()\n",
    "X_train.pop('Work Pressure')\n",
    "X_test=df_work_test.drop(['Work Pressure'],axis=1)\n",
    "\n",
    "# The values of y should start from 0 in order to apply the XGBoost algorithm\n",
    "y_train=y_train-1"
   ]
  },
  {
   "cell_type": "code",
   "execution_count": 119,
   "metadata": {},
   "outputs": [],
   "source": [
    "# Predicting the outputs for test data\n",
    "y_test=model_work.predict(X_test)\n",
    "\n",
    "# Creating a new dataframe of y_test\n",
    "y_test=pd.DataFrame(y_test,columns=['Work Pressure'])\n",
    "\n",
    "# Resetting the index as using concat will have problems when the indices of the y_test & X_test will be different\n",
    "X_test.reset_index(drop=True,inplace=True)\n",
    "y_test.reset_index(drop=True,inplace=True)\n",
    "\n",
    "# Concatenating the X_test & y _test\n",
    "df_work_test=pd.concat([y_test,X_test],axis=1)"
   ]
  },
  {
   "cell_type": "code",
   "execution_count": 120,
   "metadata": {},
   "outputs": [],
   "source": [
    "# Concatenating the dataframes vertically\n",
    "\n",
    "df_work_test.reset_index(drop=True,inplace=True)\n",
    "df_work_train.reset_index(drop=True,inplace=True)\n",
    "df_job_test.reset_index(drop=True,inplace=True)\n",
    "df_job_train.reset_index(drop=True,inplace=True)\n",
    "\n",
    "df_work=pd.concat([df_work_test,df_work_train],axis=0)\n",
    "df_job=pd.concat([df_job_test,df_job_train],axis=0)"
   ]
  },
  {
   "cell_type": "code",
   "execution_count": 121,
   "metadata": {},
   "outputs": [],
   "source": [
    "# Merging the dataframes\n",
    "sep_suffix=\"_to_drop\"\n",
    "df_test=pd.merge(left=df_work,right=df_job,on='Index',suffixes=[\"\",sep_suffix])\n",
    "col_to_drop=[col for col in df_test.columns if sep_suffix not in col]\n",
    "df_test=df_test[col_to_drop]"
   ]
  },
  {
   "cell_type": "code",
   "execution_count": 122,
   "metadata": {},
   "outputs": [],
   "source": [
    "# Using the previously defined indexes to use them again as index\n",
    "df_test.set_index(df_test['Index'],inplace=True)\n",
    "df_test.sort_index(inplace=True)\n",
    "\n",
    "cols_rqd=[col for col in df_test.columns if 'Index' not in col ]\n",
    "df_test=df_test[cols_rqd]"
   ]
  },
  {
   "cell_type": "markdown",
   "metadata": {},
   "source": [
    "### Now Using the CatBoost algorithm to do the predictions of depression on the test dataset"
   ]
  },
  {
   "cell_type": "code",
   "execution_count": 123,
   "metadata": {},
   "outputs": [],
   "source": [
    "# Creating another column of Depression in the test dataset\n",
    "df_test['Depression']=model_cat.predict(df_test)"
   ]
  },
  {
   "cell_type": "code",
   "execution_count": 124,
   "metadata": {},
   "outputs": [],
   "source": [
    "# Checking the original test data\n",
    "original_df_test=pd.read_csv(test_data)"
   ]
  },
  {
   "cell_type": "code",
   "execution_count": 125,
   "metadata": {},
   "outputs": [],
   "source": [
    "# Making a final dataframe for the submission\n",
    "final_submission_df=pd.DataFrame({'id':original_df_test['id'],'Depression':df_test['Depression']})"
   ]
  },
  {
   "cell_type": "code",
   "execution_count": 126,
   "metadata": {},
   "outputs": [],
   "source": [
    "# Writing the csv file to a required location \n",
    "location=r'C:\\Users\\DELL\\Desktop\\MLStudy\\final_submission.csv'\n",
    "final_submission_df.to_csv(location,index=False)"
   ]
  }
 ],
 "metadata": {
  "kernelspec": {
   "display_name": "base",
   "language": "python",
   "name": "python3"
  },
  "language_info": {
   "codemirror_mode": {
    "name": "ipython",
    "version": 3
   },
   "file_extension": ".py",
   "mimetype": "text/x-python",
   "name": "python",
   "nbconvert_exporter": "python",
   "pygments_lexer": "ipython3",
   "version": "3.8.3"
  }
 },
 "nbformat": 4,
 "nbformat_minor": 2
}
