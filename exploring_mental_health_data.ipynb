{
 "cells": [
  {
   "cell_type": "code",
   "execution_count": 1,
   "metadata": {},
   "outputs": [],
   "source": [
    "# Ignoring the warnings\n",
    "import warnings\n",
    "warnings.filterwarnings('ignore')\n",
    "\n",
    "# Imorting required libraries\n",
    "import pandas as pd\n",
    "import numpy as np\n",
    "import seaborn as sns\n",
    "import matplotlib.pyplot as plt\n",
    "\n",
    "# Importing require AI/ML Libraries\n",
    "from sklearn.model_selection import train_test_split\n",
    "from sklearn.ensemble import AdaBoostClassifier,GradientBoostingClassifier\n",
    "from sklearn.linear_model import LogisticRegression\n",
    "from xgboost import XGBClassifier as xgb\n",
    "from sklearn.preprocessing import StandardScaler\n"
   ]
  },
  {
   "cell_type": "code",
   "execution_count": 2,
   "metadata": {},
   "outputs": [],
   "source": [
    "# Location of the datasets\n",
    "train_data=r'C:\\Users\\DELL\\train_depression.csv'\n",
    "test_data=r'C:\\Users\\DELL\\test_depression.csv'"
   ]
  },
  {
   "cell_type": "code",
   "execution_count": 3,
   "metadata": {},
   "outputs": [],
   "source": [
    "# Locading the datasets in memory\n",
    "df_train=pd.read_csv(train_data)"
   ]
  },
  {
   "cell_type": "markdown",
   "metadata": {},
   "source": [
    "### EDA"
   ]
  },
  {
   "cell_type": "code",
   "execution_count": 4,
   "metadata": {},
   "outputs": [
    {
     "data": {
      "text/plain": [
       "id                                        0.000000\n",
       "Name                                      0.000000\n",
       "Gender                                    0.000000\n",
       "Age                                       0.000000\n",
       "City                                      0.000000\n",
       "Working Professional or Student           0.000000\n",
       "Profession                               26.034115\n",
       "Academic Pressure                        80.172708\n",
       "Work Pressure                            19.842217\n",
       "CGPA                                     80.171997\n",
       "Study Satisfaction                       80.172708\n",
       "Job Satisfaction                         19.836532\n",
       "Sleep Duration                            0.000000\n",
       "Dietary Habits                            0.002843\n",
       "Degree                                    0.001421\n",
       "Have you ever had suicidal thoughts ?     0.000000\n",
       "Work/Study Hours                          0.000000\n",
       "Financial Stress                          0.002843\n",
       "Family History of Mental Illness          0.000000\n",
       "Depression                                0.000000\n",
       "dtype: float64"
      ]
     },
     "execution_count": 4,
     "metadata": {},
     "output_type": "execute_result"
    }
   ],
   "source": [
    "# Checking the % of null entries\n",
    "df_train.isnull().sum()/len(df_train)*100"
   ]
  },
  {
   "cell_type": "code",
   "execution_count": 5,
   "metadata": {},
   "outputs": [],
   "source": [
    "# Extracting the columns which have null values along with their data type\n",
    "null_value_cols=[(col,round(100*null_values/len(df_train),2),df_train[col].dtype)\n",
    "                 for col,null_values in df_train.isnull().sum().items() if null_values>0]"
   ]
  },
  {
   "cell_type": "code",
   "execution_count": 6,
   "metadata": {},
   "outputs": [
    {
     "data": {
      "text/plain": [
       "[('Profession', 26.03, dtype('O')),\n",
       " ('Academic Pressure', 80.17, dtype('float64')),\n",
       " ('Work Pressure', 19.84, dtype('float64')),\n",
       " ('CGPA', 80.17, dtype('float64')),\n",
       " ('Study Satisfaction', 80.17, dtype('float64')),\n",
       " ('Job Satisfaction', 19.84, dtype('float64')),\n",
       " ('Dietary Habits', 0.0, dtype('O')),\n",
       " ('Degree', 0.0, dtype('O')),\n",
       " ('Financial Stress', 0.0, dtype('float64'))]"
      ]
     },
     "execution_count": 6,
     "metadata": {},
     "output_type": "execute_result"
    }
   ],
   "source": [
    "# Checking the null values along with their data types\n",
    "null_value_cols"
   ]
  },
  {
   "cell_type": "code",
   "execution_count": 7,
   "metadata": {},
   "outputs": [
    {
     "data": {
      "text/plain": [
       "[('Dietary Habits', dtype('O')),\n",
       " ('Degree', dtype('O')),\n",
       " ('Financial Stress', dtype('float64'))]"
      ]
     },
     "execution_count": 7,
     "metadata": {},
     "output_type": "execute_result"
    }
   ],
   "source": [
    "# I will extract the columns which have very low missing values\n",
    "[(col,dt) for col,missing_pct,dt in null_value_cols if missing_pct<1]"
   ]
  },
  {
   "cell_type": "code",
   "execution_count": 8,
   "metadata": {},
   "outputs": [
    {
     "data": {
      "text/plain": [
       "array([ 2.,  3.,  1.,  4.,  5., nan])"
      ]
     },
     "execution_count": 8,
     "metadata": {},
     "output_type": "execute_result"
    }
   ],
   "source": [
    "# Checking the Financial stress parameter --> It is clear that this needs to be treated as a categorical variable\n",
    "df_train['Financial Stress'].unique()"
   ]
  },
  {
   "cell_type": "code",
   "execution_count": 9,
   "metadata": {},
   "outputs": [],
   "source": [
    "# Changing the data type of the Financial Stress to object\n",
    "df_train['Financial Stress']=df_train['Financial Stress'].astype(object)"
   ]
  },
  {
   "cell_type": "code",
   "execution_count": 10,
   "metadata": {},
   "outputs": [],
   "source": [
    "# Imputing the missing values in the financial stress\n",
    "df_train['Financial Stress']=df_train['Financial Stress'].fillna(df_train['Financial Stress'].mode()[0])"
   ]
  },
  {
   "cell_type": "code",
   "execution_count": 11,
   "metadata": {},
   "outputs": [
    {
     "data": {
      "text/plain": [
       "id                                        0.000000\n",
       "Name                                      0.000000\n",
       "Gender                                    0.000000\n",
       "Age                                       0.000000\n",
       "City                                      0.000000\n",
       "Working Professional or Student           0.000000\n",
       "Profession                               26.034115\n",
       "Academic Pressure                        80.172708\n",
       "Work Pressure                            19.842217\n",
       "CGPA                                     80.171997\n",
       "Study Satisfaction                       80.172708\n",
       "Job Satisfaction                         19.836532\n",
       "Sleep Duration                            0.000000\n",
       "Dietary Habits                            0.002843\n",
       "Degree                                    0.001421\n",
       "Have you ever had suicidal thoughts ?     0.000000\n",
       "Work/Study Hours                          0.000000\n",
       "Financial Stress                          0.000000\n",
       "Family History of Mental Illness          0.000000\n",
       "Depression                                0.000000\n",
       "dtype: float64"
      ]
     },
     "execution_count": 11,
     "metadata": {},
     "output_type": "execute_result"
    }
   ],
   "source": [
    "# Checking the % of null entries\n",
    "df_train.isnull().sum()/len(df_train)*100"
   ]
  },
  {
   "cell_type": "code",
   "execution_count": null,
   "metadata": {},
   "outputs": [],
   "source": []
  },
  {
   "cell_type": "code",
   "execution_count": null,
   "metadata": {},
   "outputs": [],
   "source": []
  },
  {
   "cell_type": "code",
   "execution_count": null,
   "metadata": {},
   "outputs": [],
   "source": []
  }
 ],
 "metadata": {
  "kernelspec": {
   "display_name": "base",
   "language": "python",
   "name": "python3"
  },
  "language_info": {
   "codemirror_mode": {
    "name": "ipython",
    "version": 3
   },
   "file_extension": ".py",
   "mimetype": "text/x-python",
   "name": "python",
   "nbconvert_exporter": "python",
   "pygments_lexer": "ipython3",
   "version": "3.8.3"
  }
 },
 "nbformat": 4,
 "nbformat_minor": 2
}
