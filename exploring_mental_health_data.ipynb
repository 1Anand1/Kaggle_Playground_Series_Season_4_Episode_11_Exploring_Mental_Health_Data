{
 "cells": [
  {
   "cell_type": "code",
   "execution_count": 1,
   "metadata": {},
   "outputs": [],
   "source": [
    "# Ignoring the warnings\n",
    "import warnings\n",
    "warnings.filterwarnings('ignore')\n",
    "\n",
    "# Imorting required libraries\n",
    "import pandas as pd\n",
    "import numpy as np\n",
    "import seaborn as sns\n",
    "import matplotlib.pyplot as plt\n",
    "\n",
    "# Importing require AI/ML Libraries\n",
    "from sklearn.model_selection import train_test_split\n",
    "from sklearn.ensemble import AdaBoostClassifier,GradientBoostingClassifier\n",
    "from sklearn.linear_model import LogisticRegression\n",
    "from xgboost import XGBClassifier as xgb\n",
    "from sklearn.preprocessing import StandardScaler\n"
   ]
  },
  {
   "cell_type": "code",
   "execution_count": 2,
   "metadata": {},
   "outputs": [],
   "source": [
    "# Location of the datasets\n",
    "train_data=r'C:\\Users\\DELL\\train_depression.csv'\n",
    "test_data=r'C:\\Users\\DELL\\test_depression.csv'"
   ]
  },
  {
   "cell_type": "code",
   "execution_count": 3,
   "metadata": {},
   "outputs": [],
   "source": [
    "# Locading the datasets in memory\n",
    "df_train=pd.read_csv(train_data)"
   ]
  },
  {
   "cell_type": "markdown",
   "metadata": {},
   "source": [
    "### Missing Value Imputation"
   ]
  },
  {
   "cell_type": "code",
   "execution_count": 4,
   "metadata": {},
   "outputs": [
    {
     "data": {
      "text/plain": [
       "id                                        0.000000\n",
       "Name                                      0.000000\n",
       "Gender                                    0.000000\n",
       "Age                                       0.000000\n",
       "City                                      0.000000\n",
       "Working Professional or Student           0.000000\n",
       "Profession                               26.034115\n",
       "Academic Pressure                        80.172708\n",
       "Work Pressure                            19.842217\n",
       "CGPA                                     80.171997\n",
       "Study Satisfaction                       80.172708\n",
       "Job Satisfaction                         19.836532\n",
       "Sleep Duration                            0.000000\n",
       "Dietary Habits                            0.002843\n",
       "Degree                                    0.001421\n",
       "Have you ever had suicidal thoughts ?     0.000000\n",
       "Work/Study Hours                          0.000000\n",
       "Financial Stress                          0.002843\n",
       "Family History of Mental Illness          0.000000\n",
       "Depression                                0.000000\n",
       "dtype: float64"
      ]
     },
     "execution_count": 4,
     "metadata": {},
     "output_type": "execute_result"
    }
   ],
   "source": [
    "# Checking the % of null entries\n",
    "df_train.isnull().sum()/len(df_train)*100"
   ]
  },
  {
   "cell_type": "code",
   "execution_count": 5,
   "metadata": {},
   "outputs": [
    {
     "data": {
      "text/plain": [
       "id                                         int64\n",
       "Name                                      object\n",
       "Gender                                    object\n",
       "Age                                      float64\n",
       "City                                      object\n",
       "Working Professional or Student           object\n",
       "Profession                                object\n",
       "Academic Pressure                        float64\n",
       "Work Pressure                            float64\n",
       "CGPA                                     float64\n",
       "Study Satisfaction                       float64\n",
       "Job Satisfaction                         float64\n",
       "Sleep Duration                            object\n",
       "Dietary Habits                            object\n",
       "Degree                                    object\n",
       "Have you ever had suicidal thoughts ?     object\n",
       "Work/Study Hours                         float64\n",
       "Financial Stress                         float64\n",
       "Family History of Mental Illness          object\n",
       "Depression                                 int64\n",
       "dtype: object"
      ]
     },
     "execution_count": 5,
     "metadata": {},
     "output_type": "execute_result"
    }
   ],
   "source": [
    "# It is observed that certain columns have very low missing value count like Financial Stress , Degree & Dietary Habits\n",
    "# So here the missing value imputation can be done by using straight forward methods like mean , median or mode \n",
    "# For that it is necessary to find out their data types\n",
    "df_train.dtypes"
   ]
  },
  {
   "cell_type": "code",
   "execution_count": 6,
   "metadata": {},
   "outputs": [
    {
     "data": {
      "text/plain": [
       "array([ 2.,  3.,  1.,  4.,  5., nan])"
      ]
     },
     "execution_count": 6,
     "metadata": {},
     "output_type": "execute_result"
    }
   ],
   "source": [
    "# Checking the Financial stress parameter --> It is clear that this column needs to be treated as a categorical variable\n",
    "df_train['Financial Stress'].unique()"
   ]
  },
  {
   "cell_type": "code",
   "execution_count": 7,
   "metadata": {},
   "outputs": [],
   "source": [
    "# Changing the data type of the Financial Stress to object\n",
    "df_train['Financial Stress']=df_train['Financial Stress'].astype(object)"
   ]
  },
  {
   "cell_type": "code",
   "execution_count": 8,
   "metadata": {},
   "outputs": [],
   "source": [
    "# Extracting the columns which have null values along with their data type\n",
    "null_value_cols=[(col,round(100*null_values/len(df_train),2),df_train[col].dtype)\n",
    "                 for col,null_values in df_train.isnull().sum().items() if null_values>0]"
   ]
  },
  {
   "cell_type": "code",
   "execution_count": 9,
   "metadata": {},
   "outputs": [
    {
     "data": {
      "text/plain": [
       "[('Profession', 26.03, dtype('O')),\n",
       " ('Academic Pressure', 80.17, dtype('float64')),\n",
       " ('Work Pressure', 19.84, dtype('float64')),\n",
       " ('CGPA', 80.17, dtype('float64')),\n",
       " ('Study Satisfaction', 80.17, dtype('float64')),\n",
       " ('Job Satisfaction', 19.84, dtype('float64')),\n",
       " ('Dietary Habits', 0.0, dtype('O')),\n",
       " ('Degree', 0.0, dtype('O')),\n",
       " ('Financial Stress', 0.0, dtype('O'))]"
      ]
     },
     "execution_count": 9,
     "metadata": {},
     "output_type": "execute_result"
    }
   ],
   "source": [
    "# Checking the null values along with their data types\n",
    "null_value_cols"
   ]
  },
  {
   "cell_type": "code",
   "execution_count": 10,
   "metadata": {},
   "outputs": [],
   "source": [
    "# I will extract the columns which have very low missing values\n",
    "low_missing_values=[(col,dt) for col,missing_pct,dt in null_value_cols if missing_pct<1]"
   ]
  },
  {
   "cell_type": "code",
   "execution_count": 11,
   "metadata": {},
   "outputs": [
    {
     "data": {
      "text/plain": [
       "[('Dietary Habits', dtype('O')),\n",
       " ('Degree', dtype('O')),\n",
       " ('Financial Stress', dtype('O'))]"
      ]
     },
     "execution_count": 11,
     "metadata": {},
     "output_type": "execute_result"
    }
   ],
   "source": [
    "# Checking columns which have low missing value count and their dtypes\n",
    "low_missing_values"
   ]
  },
  {
   "cell_type": "code",
   "execution_count": 12,
   "metadata": {},
   "outputs": [],
   "source": [
    "# Imputing the missing values in the columns (with low missing values) and which are categorical in nature by using mode\n",
    "for each_col,data_type in low_missing_values:\n",
    "  df_train[each_col]=df_train[each_col].fillna(df_train[each_col].mode()[0])"
   ]
  },
  {
   "cell_type": "code",
   "execution_count": 13,
   "metadata": {},
   "outputs": [
    {
     "data": {
      "text/plain": [
       "id                                        0.000000\n",
       "Name                                      0.000000\n",
       "Gender                                    0.000000\n",
       "Age                                       0.000000\n",
       "City                                      0.000000\n",
       "Working Professional or Student           0.000000\n",
       "Profession                               26.034115\n",
       "Academic Pressure                        80.172708\n",
       "Work Pressure                            19.842217\n",
       "CGPA                                     80.171997\n",
       "Study Satisfaction                       80.172708\n",
       "Job Satisfaction                         19.836532\n",
       "Sleep Duration                            0.000000\n",
       "Dietary Habits                            0.000000\n",
       "Degree                                    0.000000\n",
       "Have you ever had suicidal thoughts ?     0.000000\n",
       "Work/Study Hours                          0.000000\n",
       "Financial Stress                          0.000000\n",
       "Family History of Mental Illness          0.000000\n",
       "Depression                                0.000000\n",
       "dtype: float64"
      ]
     },
     "execution_count": 13,
     "metadata": {},
     "output_type": "execute_result"
    }
   ],
   "source": [
    "# Checking the % of null entries\n",
    "df_train.isnull().sum()/len(df_train)*100"
   ]
  },
  {
   "cell_type": "code",
   "execution_count": 14,
   "metadata": {},
   "outputs": [
    {
     "data": {
      "text/plain": [
       "[('Academic Pressure', dtype('float64')),\n",
       " ('CGPA', dtype('float64')),\n",
       " ('Study Satisfaction', dtype('float64'))]"
      ]
     },
     "execution_count": 14,
     "metadata": {},
     "output_type": "execute_result"
    }
   ],
   "source": [
    "# I decided to write a function to identify the columns which very high percentage of missing values and then just imputing missing values by a place holder \n",
    "# But before going ahead I decided to check the nature of the columns with these high missing values\n",
    "high_missing_values=[(col,dt) for col,missing_pct,dt in null_value_cols if missing_pct>50]\n",
    "high_missing_values"
   ]
  },
  {
   "cell_type": "code",
   "execution_count": 15,
   "metadata": {},
   "outputs": [],
   "source": [
    "#Just extracting the column names of the columns with high missing values\n",
    "col_names_high_missing_value=[each_col for each_col,data_type in high_missing_values]\n",
    "\n",
    "# Doing a quick analysis of the columns with high missing values \n",
    "def analyze_high_missing_value_columns(dataframe,high_missing_value_col):\n",
    "\n",
    "  \"\"\"\n",
    "  This function will take data frame & the columns with high missing values.\n",
    "    Then it will show the number of unique values in column with some statistical information of the selected column\n",
    "    \n",
    "    Args: Dataframe & columns with high missing values\n",
    "    \n",
    "    Returns : Unique values in the columns and statistics for the column\n",
    "  \"\"\"\n",
    "\n",
    "  for each_col in high_missing_value_col:\n",
    "    print(f'For {each_col}')\n",
    "    print(f'The number of unique values are {dataframe[each_col].nunique()}' )\n",
    "    print(f'The statistics are {dataframe[each_col].describe()} \\n' )\n"
   ]
  },
  {
   "cell_type": "code",
   "execution_count": 16,
   "metadata": {},
   "outputs": [
    {
     "name": "stdout",
     "output_type": "stream",
     "text": [
      "For Academic Pressure\n",
      "The number of unique values are 5\n",
      "The statistics are count    27897.000000\n",
      "mean         3.142273\n",
      "std          1.380457\n",
      "min          1.000000\n",
      "25%          2.000000\n",
      "50%          3.000000\n",
      "75%          4.000000\n",
      "max          5.000000\n",
      "Name: Academic Pressure, dtype: float64 \n",
      "\n",
      "For CGPA\n",
      "The number of unique values are 331\n",
      "The statistics are count    27898.000000\n",
      "mean         7.658636\n",
      "std          1.464466\n",
      "min          5.030000\n",
      "25%          6.290000\n",
      "50%          7.770000\n",
      "75%          8.920000\n",
      "max         10.000000\n",
      "Name: CGPA, dtype: float64 \n",
      "\n",
      "For Study Satisfaction\n",
      "The number of unique values are 5\n",
      "The statistics are count    27897.000000\n",
      "mean         2.944940\n",
      "std          1.360197\n",
      "min          1.000000\n",
      "25%          2.000000\n",
      "50%          3.000000\n",
      "75%          4.000000\n",
      "max          5.000000\n",
      "Name: Study Satisfaction, dtype: float64 \n",
      "\n"
     ]
    }
   ],
   "source": [
    "# Using the modular function to check the details for all columns with high missing values\n",
    "analyze_high_missing_value_columns(df_train,col_names_high_missing_value)"
   ]
  },
  {
   "cell_type": "code",
   "execution_count": 17,
   "metadata": {},
   "outputs": [],
   "source": [
    "# Making small bins of the CGPA \n",
    "def CGPA_BIN(CGPA_VALUE):\n",
    "  if CGPA_VALUE<5:\n",
    "    return \"Less than 5\"\n",
    "  elif CGPA_VALUE>=5 and CGPA_VALUE<=6:\n",
    "    return \"5-6\"\n",
    "  elif CGPA_VALUE>=6 and CGPA_VALUE<=7:\n",
    "    return \"6-7\"\n",
    "  elif CGPA_VALUE>=7 and CGPA_VALUE<=8:\n",
    "    return \"7-8\"\n",
    "  elif CGPA_VALUE>=8 and CGPA_VALUE<=9:\n",
    "    return \"8-9\"\n",
    "  elif CGPA_VALUE>=9 and CGPA_VALUE<=10:\n",
    "    return \"9-10\"  "
   ]
  },
  {
   "cell_type": "code",
   "execution_count": 18,
   "metadata": {},
   "outputs": [],
   "source": [
    "# Replacing the CGPA column\n",
    "df_train.CGPA=df_train.CGPA.apply(lambda x : CGPA_BIN(x))"
   ]
  },
  {
   "cell_type": "code",
   "execution_count": null,
   "metadata": {},
   "outputs": [],
   "source": []
  },
  {
   "cell_type": "code",
   "execution_count": null,
   "metadata": {},
   "outputs": [],
   "source": []
  },
  {
   "cell_type": "code",
   "execution_count": null,
   "metadata": {},
   "outputs": [],
   "source": []
  },
  {
   "cell_type": "code",
   "execution_count": null,
   "metadata": {},
   "outputs": [],
   "source": []
  },
  {
   "cell_type": "code",
   "execution_count": null,
   "metadata": {},
   "outputs": [],
   "source": []
  },
  {
   "cell_type": "code",
   "execution_count": null,
   "metadata": {},
   "outputs": [],
   "source": []
  },
  {
   "cell_type": "code",
   "execution_count": null,
   "metadata": {},
   "outputs": [],
   "source": []
  }
 ],
 "metadata": {
  "kernelspec": {
   "display_name": "base",
   "language": "python",
   "name": "python3"
  },
  "language_info": {
   "codemirror_mode": {
    "name": "ipython",
    "version": 3
   },
   "file_extension": ".py",
   "mimetype": "text/x-python",
   "name": "python",
   "nbconvert_exporter": "python",
   "pygments_lexer": "ipython3",
   "version": "3.8.3"
  }
 },
 "nbformat": 4,
 "nbformat_minor": 2
}
